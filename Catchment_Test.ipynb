{
 "cells": [
  {
   "cell_type": "markdown",
   "metadata": {},
   "source": [
    "Test code to examine Lake Catchment Areas"
   ]
  },
  {
   "cell_type": "code",
   "execution_count": 1,
   "metadata": {
    "collapsed": false
   },
   "outputs": [],
   "source": [
    "#from __future__ import print_function\n",
    "\n",
    "from collections import OrderedDict\n",
    "import pandas as pd\n",
    "import osgeo.ogr\n",
    "import ECCO_functions_v2 as ECCO\n",
    "import sys, time, os, json, glob\n",
    "import numpy as np\n",
    "import pyproj\n",
    "\n",
    "import matplotlib.pyplot as plt\n",
    "%matplotlib inline"
   ]
  },
  {
   "cell_type": "code",
   "execution_count": 85,
   "metadata": {
    "collapsed": false
   },
   "outputs": [],
   "source": [
    "def Reproj_Catchment(lake_feature,chatty=False):\n",
    "    '''\n",
    "    Takes the lowest level data from the Catchment shape file feature, and\n",
    "    reprojects the coordinate system using PROJ (PyProj) to a WGS85 system.\n",
    "    '''\n",
    "    p1 = pyproj.Proj(\"+init=EPSG:25833\")   # Projected system for lake catchments\n",
    "    p2 = pyproj.Proj(\"+init=EPSG:4326\")    # World Geodetic system\n",
    "    tmp1=[]\n",
    "    \n",
    "    if lake_feature['geometry']['type'] == 'MultiPolygon':\n",
    "        if chatty == True: print 'Multi-polygon type'\n",
    "        for n in lake_feature['geometry']['coordinates'][0][0]:  #For every vertice pair...\n",
    "            x,y=(pyproj.transform(p1,p2,n[0],n[1],z=None,radians=False)) # trans. coords. to WGS85\n",
    "            tmp1.append([x,y])\n",
    "        return tmp1\n",
    "    else:\n",
    "        if chatty == True: print 'Simple Polygon type'\n",
    "        for n in lake_feature['geometry']['coordinates'][0]:  #For every vertice pair...\n",
    "            x,y=(pyproj.transform(p1,p2,n[0],n[1],z=None,radians=False)) # trans. coords. to WGS85\n",
    "            tmp1.append([x,y])\n",
    "        return tmp1"
   ]
  },
  {
   "cell_type": "code",
   "execution_count": 89,
   "metadata": {
    "collapsed": false
   },
   "outputs": [
    {
     "name": "stdout",
     "output_type": "stream",
     "text": [
      "Multi-polygon type\n"
     ]
    },
    {
     "data": {
      "image/png": "[encoded data removed]",
      "text/plain": [
       "<matplotlib.figure.Figure at 0x10b5d7d10>"
      ]
     },
     "metadata": {},
     "output_type": "display_data"
    },
    {
     "name": "stdout",
     "output_type": "stream",
     "text": [
      "e527b\n",
      "Area in km^2: 2.32 , No. xy bound. points: 828\n"
     ]
    }
   ],
   "source": [
    "input_file = 'Catchments/ecco_biwa_catchments_part_1.shp'\n",
    "\n",
    "n = 8\n",
    "\n",
    "ShapeData = osgeo.ogr.Open(input_file)                  # Make a link to Lake Shape Files\n",
    "TheLayer = ShapeData.GetLayer(iLayer=0)\n",
    "feature1 = TheLayer.GetFeature(n)                      # Get individ. lake in shapefile\n",
    "lake_feature = feature1.ExportToJson(as_object=True)\n",
    "EB_id = hex(int(lake_feature['properties']['ebint']))[2:]\n",
    "\n",
    "\n",
    "wgs85_xy = Reproj_Catchment(lake_feature=lake_feature,chatty=True)\n",
    "lake_cart = ECCO.Path_LkIsl_ShpFile([wgs85_xy])\n",
    "lake_rprj = ECCO.Path_Reproj(lake_cart,False)    # Reproj. lake to CORDEX plr. rotated\n",
    "\n",
    "ECCO.Preview_Lake(lake_cart)        \n",
    "print EB_id\n",
    "print 'Area in km^2:', ECCO.Area_Lake_and_Islands(lake_cart),         \n",
    "print ', No. xy bound. points:',len(lake_cart.vertices)\n"
   ]
  },
  {
   "cell_type": "code",
   "execution_count": 79,
   "metadata": {
    "collapsed": false
   },
   "outputs": [
    {
     "name": "stdout",
     "output_type": "stream",
     "text": [
      "(2, 1)\n",
      "True\n"
     ]
    }
   ],
   "source": [
    "#lake_feature\n",
    "lake_feature['geometry']['coordinates'][0]\n",
    "p1 = pyproj.Proj(\"+init=EPSG:25833\")   # Projected system for lake catchments\n",
    "p2 = pyproj.Proj(\"+init=EPSG:4326\")    # World Geodetic system\n",
    "tmp1=[]\n",
    "print np.shape(lake_feature['geometry']['coordinates'])\n",
    "for i,n in enumerate(lake_feature['geometry']['coordinates'][0]):  #For every vertice pair...\n",
    "    x,y=(pyproj.transform(p1,p2,n[0],n[1],z=None,radians=False)) # trans. coords. to WGS85\n",
    "    tmp1.append([x,y])\n",
    "    \n",
    "print lake_feature['geometry']['type'] == 'MultiPolygon'"
   ]
  },
  {
   "cell_type": "code",
   "execution_count": 4,
   "metadata": {
    "collapsed": false
   },
   "outputs": [
    {
     "name": "stdout",
     "output_type": "stream",
     "text": [
      "274791\n"
     ]
    }
   ],
   "source": [
    "input_file = 'Catchments/ecco_biwa_catchments_part_3.shp'\n",
    "ShapeData = osgeo.ogr.Open(input_file)                  # Make a link to Lake Shape Files\n",
    "TheLayer = ShapeData.GetLayer(iLayer=0)\n",
    "\n",
    "TheLayer.GetFeatureCount()\n",
    "print(np.sum([91268, 91457, 92066]))"
   ]
  },
  {
   "cell_type": "code",
   "execution_count": 165,
   "metadata": {
    "collapsed": false
   },
   "outputs": [],
   "source": [
    "def Catchment_Process(nc_path, outputprefix,tt=None,plots = False,rprt=False,sbar=False,\n",
    "                       rprt_loop=False,gen_meta=False):\n",
    "    \n",
    "    # 1. LOADING Climate DATA SECTION and create output file\n",
    "    if rprt == True:\n",
    "        atime = clock.time()\n",
    "    \n",
    "    clim_dat,rlat,rlon,timeCDX,metadata,txtfname = ECCO.Read_CORDEX_V2(nc_path) # CORDEX NetCDF Read file\n",
    "    vname, m1, m2, dexp, m3, m4, m5, m6, drange_orignial = metadata        # Metadata of fname string\n",
    "    var_type = clim_dat.standard_name                                      # What kind of CORDEX data?\n",
    "    dat_loaded = clim_dat[:,:,:]                                           # Load CORDEX data into RAM\n",
    "    rlat_loaded = rlat[:]\n",
    "    rlon_loaded = rlon[:]\n",
    "    \n",
    "    #thefilename = 'Catchment_'+str.split(nc_path,'/')[-1][:-3] \n",
    "    #FILE= outputprefix + thefilename +'.h5'                # Set up HDF5 file output\n",
    "    #if os.path.isfile(FILE) == True:\n",
    "    #    print 'File already exists: Overwriting...'\n",
    "    #    os.remove(FILE)\n",
    "    #else:\n",
    "    #    print 'Creating file: ',FILE\n",
    "    #f = h5py.File(FILE,'w')\n",
    "    #-------------------------\n",
    "    \n",
    "    # Read it back...\n",
    "    #atest = pd.read_csv('Catchments/Meta_test.csv')\n",
    "    #atest = atest.set_index('eb_id')\n",
    "    \n",
    "    #lk_processed_inf = pd.read_csv('Metadata/Meta_Lakes.csv')  # Pre-processed lake metadata (CSV)\n",
    "    #lk_processed_inf.index = lk_processed_inf.hex              # Use the hex-code column as the index \n",
    "    \n",
    "    #c_shapes=[] # put a fixed list of cathcment shapes with relative folder path 'Data/'?\n",
    "    \n",
    "    \n",
    "    lake_file='Catchments/ecco_biwa_catchments_part_1.shp'  # just for testing...\n",
    "    ShapeData = osgeo.ogr.Open(lake_file)                  # Connection to catchment shapes\n",
    "    TheLayer = ShapeData.GetLayer(iLayer=0)\n",
    "    \n",
    "    #precalculated = []                                     # Gather precalculated surface weights \n",
    "    #for fnm in glob.glob(\"Metadata/Weights/*.npy\"):           # N.b. You can precalculate as many as you\n",
    "    #    precalculated.append(fnm[14:-4])                   # like: place in folder to run (for speed)\n",
    "    #precalculated = np.array(precalculated)                # Make it a np.array (needed for functions)\n",
    "    \n",
    "#----------------------------------------------------------------------\n",
    "    # 2. Execute code over each catchment area\n",
    "    if rprt == True:\n",
    "        btime = clock.time()\n",
    "    if sbar ==True:\n",
    "        icnt = 0\n",
    "    \n",
    "    for n in range(7,9):\n",
    "    #for n in dolakes:\n",
    "        print n\n",
    "        tlist = []\n",
    "        feature1 = TheLayer.GetFeature(n)                        # Get catchtment data\n",
    "        lake_feature = feature1.ExportToJson(as_object=True)     # Convert to JSON\n",
    "        EB_id = hex(int(lake_feature['properties']['ebint']))[2:]# Extract id number\n",
    "        wgs85_xy = Reproj_Catchment(lake_feature=lake_feature,\n",
    "                                   chatty=True)                  # Convert to WGS system\n",
    "        lake_cart = ECCO.Path_LkIsl_ShpFile([wgs85_xy])          # Create shape object\n",
    "        lake_rprj = ECCO.Path_Reproj(lake_cart,False)            # Reproj 2 Plr rotated\n",
    "        \n",
    "        # MAYBE REPLACE THIS CODE...\n",
    "        #if EB_id != lk_processed_inf.index[n]:                   # Error check\n",
    "        #    print 'Warning! Lake feature and metadata miss-match for some reason. Check it out:'\n",
    "        #    print 'Problem at:',num,lk_processed_inf.num[n],EB_id[2:],lk_processed_inf.index[n]\n",
    "        if plots == True:     \n",
    "            ECCO.Preview_Lake(lake_cart)        \n",
    "            print 'Area in km^2 (not inc. islands):',ECCO.Area_Lake_and_Islands(lake_poly=lake_cart)         \n",
    "            print ', No. xy bound. points:',len(lake_cart.vertices)\n",
    "        \n",
    "        \n",
    "        sub_clim,sub_rlat,sub_rlon = ECCO.TrimToLake(lake_in=lake_rprj,Cdat=dat_loaded[0,:,:],\n",
    "                                                     rlat=rlat_loaded,rlon=rlon_loaded,\n",
    "                                                     off = 3, show = True) \n",
    "        \n",
    "        weight_mask = ECCO.Pixel_Weights(lake_in=lake_rprj,datin=sub_clim,\n",
    "                                         lat_atts=sub_rlat,lon_atts=sub_rlon)\n",
    "        \n",
    "        # For making the surface-weights saved .npy arrays, \n",
    "        # and extracting metadata (pixel counts and xy)\n",
    "        if gen_meta == True:\n",
    "            pix_truth = (weight_mask > 0.0)    # Count how many times the weight mask is\n",
    "            pxnum = len(weight_mask[pix_truth])  #  above 0.0 (i.e. how many pixels of data are needed)\n",
    "            print 'how many pixels?',pxnum\n",
    "            ypix = -99\n",
    "            xpix = -99\n",
    "            if pxnum == 1:\n",
    "                xxx,yyy = ECCO.Get_LatLonLim(xypath=lake_rprj.vertices)  # Find upp./low.lake lims.\n",
    "                ypix = (ECCO.Closest(array=rlat,value=yyy[0]))                # For lakes of one pixel  \n",
    "                xpix = (ECCO.Closest(array=rlon,value=xxx[0]))\n",
    "                print 'one pixel (x,y):',xpix,ypix\n",
    "            if pxnum < 1:\n",
    "                pxnum = 1  # Small bug where it thinks lakes dont exist, no biggy...\n",
    "            #if pxnum > 1:\n",
    "                #np.save('Lakes/Weights/'+EB_id[2:],weight_mask)\n",
    "        \n",
    "        \n",
    "            #return num,EB_id[2:], Area_Lake_and_Islands(lake_cart),pxnum,etime,ypix,xpix\n",
    "            plt.imshow(weight_mask,interpolation='none',alpha=None,cmap=plt.cm.gray)\n",
    "        \n",
    "        '''\n",
    "        #<<<< NEED TO CREATE DATABASE OF LAKE CATCHMENT METADATA, and WORK OUT ORDER\n",
    "        # TO READ IN ALL THE SHAPE DATA FROM ALL THE FILES...\n",
    "        \n",
    "        if lk_processed_inf.npix[EB_id] == 1:         # ONE PIXEL LAKES <<<\n",
    "            ypix = lk_processed_inf.ypix[EB_id]       # Get the pre-calc. pixel indexes...\n",
    "            xpix = lk_processed_inf.xpix[EB_id]       # ...calc in MT_Gen_SWeights() earlier\n",
    "            if lake_altitude == None:                 # Some lakes don't have alitude values\n",
    "                offset = -999.\n",
    "        else:                                         # LAKES OF MORE THAN ONE PIXEL <<<\n",
    "            pre_test = (lk_processed_inf.hex[EB_id] == precalculated)\n",
    "            if(any(pre_test) == True):                # Scipy's any() evalautes list truth\n",
    "                weightfile = 'Metadata/Weights/'+precalculated[pre_test][0]+'.npy'\n",
    "                weight_mask = np.load(weightfile)\n",
    "            else:           # If no pre-calculated weight mask file then calculate it now\n",
    "                sub_clim,sub_rlat,sub_rlon = TrimToLake(lake_rprj,dat_loaded[0,:,:],rlat_loaded,\n",
    "                                                        rlon_loaded,off = 3, show = False) \n",
    "                weight_mask = Pixel_Weights(lake_rprj,sub_clim,sub_rlat,sub_rlon)\n",
    "\n",
    "            \n",
    "            sub_clim,sub_rlat,sub_rlon = TrimToLake3D(lake_rprj,dat_loaded,rlat_loaded,rlon_loaded,\n",
    "                                                      off = 3, show = False)\n",
    "            \n",
    "            tlist = Weighted_Mean_3D(weight_mask, sub_clim, chatty=False)  # Here's the t-series\n",
    "            tlist = np.squeeze(tlist)                                      # Remove empty dimension\n",
    "            \n",
    "            if plots == True:\n",
    "                Show_LakeAndData(lake_rprj,dat_loaded[0,:,:],rlat,rlon,zoom=6.)\n",
    "                Preview_Weights(lake_rprj,weight_mask,sub_rlat,sub_rlon) \n",
    "                \n",
    "        if rprt_loop ==True:\n",
    "            print '\\rStats:',(float(n)/float(lstop))*100.,'% ',n,EB_id,offset,lake_altitude,\n",
    "        if sbar ==True:\n",
    "            icnt=icnt+1\n",
    "            if (float(icnt) % 10.) == 0.0:\n",
    "                Update_Progress(float(icnt)/float(len(dolakes)-1))\n",
    "\n",
    "        Write_HDF(f,EB_id,tlist,offset,lk_processed_inf.area[n])  # Write inside function\n",
    "        feature1=0\n",
    "        lake_feature = 0\n",
    "\n",
    "    f.close()                                # Close the HDF5 file after the lake loop finishes\n",
    "    subprocess.call([\"gzip\", FILE])             # Compress the file and remove original with gzip             \n",
    "    if rprt == True:\n",
    "        ctime = clock.time()\n",
    "    #-------------------------------------------------------------------------------------------\n",
    "    # 3. Finish and report time if requested\n",
    "    if rprt == True:\n",
    "            print '\\nTime to read data: %4.2f sec'%(btime - atime)\n",
    "            print 'Time to Process %i lakes: %4.2f sec'%(len(dolakes),ctime - btime)\n",
    "    '''\n",
    "    return"
   ]
  },
  {
   "cell_type": "code",
   "execution_count": 26,
   "metadata": {
    "collapsed": false
   },
   "outputs": [],
   "source": []
  },
  {
   "cell_type": "code",
   "execution_count": 172,
   "metadata": {
    "collapsed": false
   },
   "outputs": [
    {
     "name": "stdout",
     "output_type": "stream",
     "text": [
      "Catchments/ecco_biwa_catchments_part_1.shp\n",
      "91268\n",
      "Simple Polygon type\n",
      "d30b2 1.2 2 -99 -99\n",
      "Simple Polygon type\n",
      "d47c6 1.61 1 310 233\n",
      "Simple Polygon type\n",
      "d4bd1 2.19 2 -99 -99\n",
      "Simple Polygon type\n",
      "d5a60 0.57 2 -99 -99\n",
      "Simple Polygon type\n",
      "d730e 0.62 1 396 275\n",
      "Simple Polygon type\n",
      "dc03a 8.24 1 286 207\n",
      "Simple Polygon type\n",
      "e3cbf 0.02 1 371 262\n",
      "Simple Polygon type\n",
      "e347e 0.15 1 285 229\n",
      "Multi-polygon type\n",
      "e527b 2.32 2 -99 -99\n",
      "Simple Polygon type\n",
      "e63bb 0.06 1 345 264\n",
      "Catchments/ecco_biwa_catchments_part_2.shp\n",
      "91457\n",
      "Simple Polygon type\n",
      "555cd0 0.07 1 333 232\n",
      "Simple Polygon type\n",
      "5588ef 0.19 1 330 243\n",
      "Multi-polygon type\n",
      "55a0d0 73.61 5 -99 -99\n",
      "Multi-polygon type\n",
      "55cdec 6.65 1 385 295\n",
      "Simple Polygon type\n",
      "56422f 0.39 1 325 286\n",
      "Simple Polygon type\n",
      "567155 59.79 3 -99 -99\n",
      "Simple Polygon type\n",
      "569cad 0.05 1 332 219\n",
      "Simple Polygon type\n",
      "56d57c 0.11 2 -99 -99\n",
      "Simple Polygon type\n",
      "56bebc 0.08 1 341 244\n",
      "Simple Polygon type\n",
      "56c44f 1.31 1 349 295\n",
      "Catchments/ecco_biwa_catchments_part_3.shp\n",
      "92066\n",
      "Simple Polygon type\n",
      "aab151 0.07 1 344 300\n",
      "Simple Polygon type\n",
      "aab28e 0.3 1 300 212\n",
      "Multi-polygon type\n",
      "aad046 1.03 1 332 245\n",
      "Multi-polygon type\n",
      "aaef0b 259.64 9 -99 -99\n",
      "Simple Polygon type\n",
      "aaf4d4 7.95 2 -99 -99\n",
      "Simple Polygon type\n",
      "aaf7f5 6.97 3 -99 -99\n",
      "Simple Polygon type\n",
      "ab2a93 1.4 1 331 220\n",
      "Simple Polygon type\n",
      "ab5e9e 1.12 1 280 229\n",
      "Simple Polygon type\n",
      "ab9914 0.13 1 384 294\n",
      "Multi-polygon type\n",
      "aba1d3 20.9 4 -99 -99\n"
     ]
    }
   ],
   "source": [
    "nc_path ='CORDEX/tas_EUR-11_ICHEC-EC-EARTH_rcp45_r1i1p1_KNMI-RACMO22E_v1_day_20960101-21001231.nc'\n",
    "lake_file ='Catchments/ecco_biwa_catchments_part_1.shp'\n",
    "\n",
    "#Catchment_Process(nc_path=nc_path, outputprefix=None,plots = True,rprt=False,sbar=False,\n",
    "#                       rprt_loop=False,gen_meta=True)\n",
    "\n",
    "Catchment_Weights_Meta(nc_path=nc_path)"
   ]
  },
  {
   "cell_type": "code",
   "execution_count": 121,
   "metadata": {
    "collapsed": false
   },
   "outputs": [],
   "source": [
    "# Save it out...\n",
    "#meta_test.to_csv('Catchments/Meta_test.csv',index=False)\n",
    "# Read it back...\n",
    "#atest = pd.read_csv('Catchments/Meta_test.csv')\n",
    "#atest = atest.set_index('eb_id')"
   ]
  },
  {
   "cell_type": "code",
   "execution_count": 170,
   "metadata": {
    "collapsed": false
   },
   "outputs": [
    {
     "name": "stdout",
     "output_type": "stream",
     "text": [
      "Catchments/ecco_biwa_catchments_part_1.shp\n",
      "91268\n",
      "Catchments/ecco_biwa_catchments_part_2.shp\n",
      "91457\n",
      "Catchments/ecco_biwa_catchments_part_3.shp\n",
      "92066\n"
     ]
    }
   ],
   "source": [
    "# Find every catchment shape file, also find the number of features inside it\n",
    "\n",
    "catchflist = []                                     # Gather precalculated surface weights \n",
    "for fnm in glob.glob(\"Catchments/*.shp\"):           # N.b. You can precalculate as many as you\n",
    "    catchflist.append(fnm)\n",
    "    print(fnm)\n",
    "    ShapeData = osgeo.ogr.Open(fnm)                  # Make a link to Lake Shape Files\n",
    "    TheLayer = ShapeData.GetLayer(iLayer=0)\n",
    "    print(TheLayer.GetFeatureCount())\n",
    "    dolakes=range(TheLayer.GetFeatureCount())   # Create a range to loop over lake features   \n"
   ]
  },
  {
   "cell_type": "code",
   "execution_count": null,
   "metadata": {
    "collapsed": false
   },
   "outputs": [],
   "source": []
  },
  {
   "cell_type": "code",
   "execution_count": 171,
   "metadata": {
    "collapsed": false
   },
   "outputs": [],
   "source": [
    "def Catchment_Weights_Meta(nc_path):\n",
    "    '''\n",
    "    From catchment data, generate surface weights if requested, and meta\n",
    "    data files also.\n",
    "    '''\n",
    "    # 1. LOAD Climate DATA\n",
    "    clim_dat,rlat,rlon,timeCDX,metadata,txtfname = ECCO.Read_CORDEX_V2(nc_path) # CORDEX NetCDF Read file\n",
    "    vname, m1, m2, dexp, m3, m4, m5, m6, drange_orignial = metadata        # Metadata of fname string\n",
    "    var_type = clim_dat.standard_name                                      # What kind of CORDEX data?\n",
    "    dat_loaded = clim_dat[:,:,:]                                           # Load CORDEX data into RAM\n",
    "    rlat_loaded = rlat[:]\n",
    "    rlon_loaded = rlon[:]\n",
    "    \n",
    "    #lake_file='Catchments/ecco_biwa_catchments_part_1.shp'  # just for testing...\n",
    "    #ShapeData = osgeo.ogr.Open(lake_file)                  # Connection to catchment shapes\n",
    "    #TheLayer = ShapeData.GetLayer(iLayer=0)\n",
    "    tmp_meta = []  # list to hold what will become the metadat dataframe values\n",
    "    # 2. Execute code over each catchment area\n",
    "    \n",
    "    # For the three catchment files - loop over each file and do every feature element...\n",
    "    catchflist = []                                     # Gather precalculated surface weights \n",
    "    for fnm in glob.glob(\"Catchments/*.shp\"):           # N.b. You can precalculate as many as you\n",
    "        catchflist.append(fnm)\n",
    "        print(fnm)\n",
    "        ShapeData = osgeo.ogr.Open(fnm)                  # Make a link to Lake Shape Files\n",
    "        TheLayer = ShapeData.GetLayer(iLayer=0)\n",
    "        print(TheLayer.GetFeatureCount())\n",
    "        dolakes=range(TheLayer.GetFeatureCount())   # Create a range to loop over lake features   \n",
    "     \n",
    "    #for n in range(0,30):\n",
    "        for n in dolakes[0:10]:\n",
    "            tlist = []\n",
    "            feature1 = TheLayer.GetFeature(n)                        # Get catchtment data\n",
    "            lake_feature = feature1.ExportToJson(as_object=True)     # Convert to JSON\n",
    "            EB_id = hex(int(lake_feature['properties']['ebint']))[2:]# Extract id number\n",
    "            wgs85_xy = Reproj_Catchment(lake_feature=lake_feature,\n",
    "                                       chatty=True)   # Convert to WGS system\n",
    "            lake_cart = ECCO.Path_LkIsl_ShpFile([wgs85_xy])          # Create shape object\n",
    "            lake_rprj = ECCO.Path_Reproj(lake_cart,False)            # Reproj 2 Plr rotated\n",
    "        \n",
    "            sub_clim,sub_rlat,sub_rlon = ECCO.TrimToLake(lake_in=lake_rprj,Cdat=dat_loaded[0,:,:],\n",
    "                                                         rlat=rlat_loaded,rlon=rlon_loaded,\n",
    "                                                         off = 3, show = False) \n",
    "        \n",
    "            weight_mask = ECCO.Pixel_Weights(lake_in=lake_rprj,datin=sub_clim,\n",
    "                                             lat_atts=sub_rlat,lon_atts=sub_rlon)\n",
    "        \n",
    "            # For making the surface-weights saved .npy arrays and metadata (pixel counts and xy)\n",
    "            pix_truth = (weight_mask > 0.0)    # Count how many times the weight mask is\n",
    "            pxnum = len(weight_mask[pix_truth])  #  above 0.0 (i.e. how many pixels of data are needed)\n",
    "        \n",
    "            if pxnum > 1:\n",
    "                np.save('Catchments/Weights/'+EB_id,weight_mask)\n",
    "                ypix = -99\n",
    "                xpix = -99\n",
    "\n",
    "            if pxnum < 1:\n",
    "                pxnum = 1                                               # Small bug fix, no biggy...\n",
    "            if pxnum == 1:\n",
    "                xxx,yyy = ECCO.Get_LatLonLim(xypath=lake_rprj.vertices)  # Find upp./low.lake lims.\n",
    "                ypix = (ECCO.Closest(array=rlat,value=yyy[0]))                # For lakes of one pixel  \n",
    "                xpix = (ECCO.Closest(array=rlon,value=xxx[0]))\n",
    "                #print 'one pixel (x,y):',xpix,ypix\n",
    "            print EB_id, ECCO.Area_Lake_and_Islands(lake_poly=lake_cart),pxnum,ypix,xpix\n",
    "            tmp_meta.append([EB_id, ECCO.Area_Lake_and_Islands(lake_poly=lake_cart),pxnum,ypix,xpix])\n",
    "\n",
    "    meta = pd.DataFrame(data = tmp_meta,columns=['eb_id','area','npix','ypix','xpix'])\n",
    "    meta.to_csv('Catchments/Metadata/Meta_Catchments.csv',index=False)\n",
    "    return"
   ]
  },
  {
   "cell_type": "code",
   "execution_count": 108,
   "metadata": {
    "collapsed": true
   },
   "outputs": [],
   "source": []
  },
  {
   "cell_type": "code",
   "execution_count": null,
   "metadata": {
    "collapsed": true
   },
   "outputs": [],
   "source": []
  }
 ],
 "metadata": {
  "kernelspec": {
   "display_name": "Python 2",
   "language": "python",
   "name": "python2"
  },
  "language_info": {
   "codemirror_mode": {
    "name": "ipython",
    "version": 2
   },
   "file_extension": ".py",
   "mimetype": "text/x-python",
   "name": "python",
   "nbconvert_exporter": "python",
   "pygments_lexer": "ipython2",
   "version": "2.7.9"
  }
 },
 "nbformat": 4,
 "nbformat_minor": 0
}
