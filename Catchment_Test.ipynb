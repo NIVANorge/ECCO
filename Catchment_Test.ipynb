{
 "cells": [
  {
   "cell_type": "markdown",
   "metadata": {},
   "source": [
    "Test code to examine Lake Catchment Areas"
   ]
  },
  {
   "cell_type": "code",
   "execution_count": null,
   "metadata": {
    "collapsed": false
   },
   "outputs": [],
   "source": [
    "#from __future__ import print_function\n",
    "\n",
    "from collections import OrderedDict\n",
    "import pandas as pd\n",
    "import osgeo.ogr\n",
    "import sys, time, os, json, glob\n",
    "import numpy as np\n",
    "import pyproj\n",
    "import h5py\n",
    "\n",
    "import matplotlib.pyplot as plt\n",
    "%matplotlib inline"
   ]
  },
  {
   "cell_type": "code",
   "execution_count": null,
   "metadata": {
    "collapsed": true
   },
   "outputs": [],
   "source": [
    "import ECCO_functions_v2 as ECCO\n",
    "\n",
    "import csv  # <<-- dont forget to add this ti function file"
   ]
  },
  {
   "cell_type": "code",
   "execution_count": 15,
   "metadata": {
    "collapsed": false
   },
   "outputs": [
    {
     "name": "stdout",
     "output_type": "stream",
     "text": [
      "Catchments/ecco_biwa_catchments_part_1.shp\n",
      "91268\n",
      "Catchments/ecco_biwa_catchments_part_2.shp\n",
      "91457\n",
      "Catchments/ecco_biwa_catchments_part_3.shp\n",
      "92066\n"
     ]
    }
   ],
   "source": [
    "# Find every catchment shape file, also find the number of features inside it\n",
    "\n",
    "#catchflist = []                                     # Gather precalculated surface weights \n",
    "#for fnm in glob.glob(\"Catchments/*.shp\"):           # N.b. You can precalculate as many as you\n",
    "#    catchflist.append(fnm)\n",
    "#    print(fnm)\n",
    "#    ShapeData = osgeo.ogr.Open(fnm)                  # Make a link to Lake Shape Files\n",
    "#    TheLayer = ShapeData.GetLayer(iLayer=0)\n",
    "#    print(TheLayer.GetFeatureCount())\n",
    "#    dolakes=range(TheLayer.GetFeatureCount())   # Create a range to loop over lake features   \n"
   ]
  },
  {
   "cell_type": "code",
   "execution_count": 92,
   "metadata": {
    "collapsed": false
   },
   "outputs": [],
   "source": [
    "# Catchment specific function (to be added to function file after development)\n",
    "\n",
    "def Reproj_Catchment(lake_feature,chatty=False):\n",
    "    '''\n",
    "    Takes the lowest level data from the Catchment shape file feature, and\n",
    "    reprojects the coordinate system using PROJ (PyProj) to a WGS85 system.\n",
    "    '''\n",
    "    p1 = pyproj.Proj(\"+init=EPSG:25833\")   # Projected system for lake catchments\n",
    "    p2 = pyproj.Proj(\"+init=EPSG:4326\")    # World Geodetic system\n",
    "    tmp1=[]\n",
    "    \n",
    "    if lake_feature['geometry']['type'] == 'MultiPolygon':\n",
    "        if chatty == True: print 'Multi-polygon type'\n",
    "        for n in lake_feature['geometry']['coordinates'][0][0]:  #For every vertice pair...\n",
    "            x,y=(pyproj.transform(p1,p2,n[0],n[1],z=None,radians=False)) # trans. coords. to WGS85\n",
    "            tmp1.append([x,y])\n",
    "        return tmp1\n",
    "    else:\n",
    "        if chatty == True: print 'Simple Polygon type'\n",
    "        for n in lake_feature['geometry']['coordinates'][0]:  #For every vertice pair...\n",
    "            x,y=(pyproj.transform(p1,p2,n[0],n[1],z=None,radians=False)) # trans. coords. to WGS85\n",
    "            tmp1.append([x,y])\n",
    "        return tmp1\n",
    "\n",
    "def write_metadata_csv(mfname,meta_list):\n",
    "    '''\n",
    "    Writes a list of metadata (meta_list) to a csv file one\n",
    "    line at a time, appending to the file. This means I dont\n",
    "    need to keep all the data in memory at once.\n",
    "    requires > import csv\n",
    "    '''\n",
    "    with open(mfname, 'a') as csvfile:\n",
    "        metawriter = csv.writer(csvfile,delimiter=',',\n",
    "                            quotechar='|', quoting=csv.QUOTE_MINIMAL)\n",
    "        metawriter.writerow(meta_list)\n",
    "    return\n",
    "    \n",
    "def Write_HDF_weights(fw,EB_id,weights):\n",
    "    '''\n",
    "    Simple writing using H5py module in HDF5 format.\n",
    "    (This should be used for the final program)\n",
    "    '''\n",
    "    dim1,dim2 = np.shape(weights)\n",
    "    dset = fw.create_dataset(EB_id,(dim1,dim2,),dtype='f')\n",
    "    dset[...]=weights\n",
    "    return"
   ]
  },
  {
   "cell_type": "code",
   "execution_count": 4,
   "metadata": {
    "collapsed": false
   },
   "outputs": [
    {
     "name": "stdout",
     "output_type": "stream",
     "text": [
      "Simple Polygon type\n"
     ]
    },
    {
     "data": {
      "image/png": "[encoded data removed]",
      "text/plain": [
       "<matplotlib.figure.Figure at 0x7fe47d2fc990>"
      ]
     },
     "metadata": {},
     "output_type": "display_data"
    },
    {
     "name": "stdout",
     "output_type": "stream",
     "text": [
      "e9f40\n",
      "Area in km^2: 2.79 , No. xy bound. points: 576\n"
     ]
    }
   ],
   "source": [
    "input_file = 'Catchments/ecco_biwa_catchments_part_1.shp'\n",
    "\n",
    "n = 10\n",
    "\n",
    "ShapeData = osgeo.ogr.Open(input_file)                  # Make a link to Lake Shape Files\n",
    "TheLayer = ShapeData.GetLayer(iLayer=0)\n",
    "feature1 = TheLayer.GetFeature(n)                      # Get individ. lake in shapefile\n",
    "lake_feature = feature1.ExportToJson(as_object=True)\n",
    "EB_id = hex(int(lake_feature['properties']['ebint']))[2:]\n",
    "\n",
    "\n",
    "wgs85_xy = Reproj_Catchment(lake_feature=lake_feature,chatty=True)\n",
    "lake_cart = ECCO.Path_LkIsl_ShpFile([wgs85_xy])\n",
    "lake_rprj = ECCO.Path_Reproj(lake_cart,False)    # Reproj. lake to CORDEX plr. rotated\n",
    "\n",
    "ECCO.Preview_Lake(lake_cart)        \n",
    "print EB_id\n",
    "print 'Area in km^2:', ECCO.Area_Lake_and_Islands(lake_cart),         \n",
    "print ', No. xy bound. points:',len(lake_cart.vertices)\n"
   ]
  },
  {
   "cell_type": "code",
   "execution_count": 5,
   "metadata": {
    "collapsed": false
   },
   "outputs": [
    {
     "name": "stdout",
     "output_type": "stream",
     "text": [
      "(1, 577, 2)\n",
      "False\n"
     ]
    }
   ],
   "source": [
    "#lake_feature\n",
    "lake_feature['geometry']['coordinates'][0]\n",
    "p1 = pyproj.Proj(\"+init=EPSG:25833\")   # Projected system for lake catchments\n",
    "p2 = pyproj.Proj(\"+init=EPSG:4326\")    # World Geodetic system\n",
    "tmp1=[]\n",
    "print np.shape(lake_feature['geometry']['coordinates'])\n",
    "for i,n in enumerate(lake_feature['geometry']['coordinates'][0]):  #For every vertice pair...\n",
    "    x,y=(pyproj.transform(p1,p2,n[0],n[1],z=None,radians=False)) # trans. coords. to WGS85\n",
    "    tmp1.append([x,y])\n",
    "    \n",
    "print lake_feature['geometry']['type'] == 'MultiPolygon'"
   ]
  },
  {
   "cell_type": "code",
   "execution_count": 7,
   "metadata": {
    "collapsed": false
   },
   "outputs": [
    {
     "name": "stdout",
     "output_type": "stream",
     "text": [
      "274791\n"
     ]
    }
   ],
   "source": [
    "input_file = 'Catchments/ecco_biwa_catchments_part_3.shp'\n",
    "ShapeData = osgeo.ogr.Open(input_file)                  # Make a link to Lake Shape Files\n",
    "TheLayer = ShapeData.GetLayer(iLayer=0)\n",
    "\n",
    "TheLayer.GetFeatureCount()\n",
    "\n",
    "print(np.sum([91268, 91457, 92066]))"
   ]
  },
  {
   "cell_type": "code",
   "execution_count": 13,
   "metadata": {
    "collapsed": false
   },
   "outputs": [],
   "source": [
    "def Catchment_timeseries(nc_path, outputprefix,tt=None,plots = False,rprt=False,sbar=False,\n",
    "                       rprt_loop=False,gen_meta=False):\n",
    "    \n",
    "    # 1. LOADING Climate DATA SECTION and create output file\n",
    "    if rprt == True:\n",
    "        atime = clock.time()\n",
    "    \n",
    "    clim_dat,rlat,rlon,timeCDX,metadata,txtfname = ECCO.Read_CORDEX_V2(nc_path) # CORDEX NetCDF Read file\n",
    "    vname, m1, m2, dexp, m3, m4, m5, m6, drange_orignial = metadata        # Metadata of fname string\n",
    "    var_type = clim_dat.standard_name                                      # What kind of CORDEX data?\n",
    "    dat_loaded = clim_dat[:,:,:]                                           # Load CORDEX data into RAM\n",
    "    rlat_loaded = rlat[:]\n",
    "    rlon_loaded = rlon[:]\n",
    "    \n",
    "    #thefilename = 'Catchment_'+str.split(nc_path,'/')[-1][:-3] \n",
    "    #FILE= outputprefix + thefilename +'.h5'                # Set up HDF5 file output\n",
    "    #if os.path.isfile(FILE) == True:\n",
    "    #    print 'File already exists: Overwriting...'\n",
    "    #    os.remove(FILE)\n",
    "    #else:\n",
    "    #    print 'Creating file: ',FILE\n",
    "    #f = h5py.File(FILE,'w')\n",
    "    #-------------------------\n",
    "    \n",
    "    # Read it back...\n",
    "    #atest = pd.read_csv('Catchments/Meta_test.csv')\n",
    "    #atest = atest.set_index('eb_id')\n",
    "    \n",
    "    #lk_processed_inf = pd.read_csv('Metadata/Meta_Lakes.csv')  # Pre-processed lake metadata (CSV)\n",
    "    #lk_processed_inf.index = lk_processed_inf.hex              # Use the hex-code column as the index \n",
    "    \n",
    "    #c_shapes=[] # put a fixed list of cathcment shapes with relative folder path 'Data/'?\n",
    "    \n",
    "    \n",
    "    lake_file='Catchments/ecco_biwa_catchments_part_1.shp'  # just for testing...\n",
    "    ShapeData = osgeo.ogr.Open(lake_file)                  # Connection to catchment shapes\n",
    "    TheLayer = ShapeData.GetLayer(iLayer=0)\n",
    "    \n",
    "    #precalculated = []                                     # Gather precalculated surface weights \n",
    "    #for fnm in glob.glob(\"Metadata/Weights/*.npy\"):           # N.b. You can precalculate as many as you\n",
    "    #    precalculated.append(fnm[14:-4])                   # like: place in folder to run (for speed)\n",
    "    #precalculated = np.array(precalculated)                # Make it a np.array (needed for functions)\n",
    "    \n",
    "#----------------------------------------------------------------------\n",
    "    # 2. Execute code over each catchment area\n",
    "    if rprt == True:\n",
    "        btime = clock.time()\n",
    "    if sbar ==True:\n",
    "        icnt = 0\n",
    "    \n",
    "    for n in range(7,9):\n",
    "    #for n in dolakes:\n",
    "        print n\n",
    "        tlist = []\n",
    "        feature1 = TheLayer.GetFeature(n)                        # Get catchtment data\n",
    "        lake_feature = feature1.ExportToJson(as_object=True)     # Convert to JSON\n",
    "        EB_id = hex(int(lake_feature['properties']['ebint']))[2:]# Extract id number\n",
    "        wgs85_xy = Reproj_Catchment(lake_feature=lake_feature,\n",
    "                                   chatty=True)                  # Convert to WGS system\n",
    "        lake_cart = ECCO.Path_LkIsl_ShpFile([wgs85_xy])          # Create shape object\n",
    "        lake_rprj = ECCO.Path_Reproj(lake_cart,False)            # Reproj 2 Plr rotated\n",
    "        \n",
    "        # MAYBE REPLACE THIS CODE...\n",
    "        #if EB_id != lk_processed_inf.index[n]:                   # Error check\n",
    "        #    print 'Warning! Lake feature and metadata miss-match for some reason. Check it out:'\n",
    "        #    print 'Problem at:',num,lk_processed_inf.num[n],EB_id[2:],lk_processed_inf.index[n]\n",
    "        if plots == True:     \n",
    "            ECCO.Preview_Lake(lake_cart)        \n",
    "            print 'Area in km^2 (not inc. islands):',ECCO.Area_Lake_and_Islands(lake_poly=lake_cart)         \n",
    "            print ', No. xy bound. points:',len(lake_cart.vertices)\n",
    "        \n",
    "        \n",
    "        sub_clim,sub_rlat,sub_rlon = ECCO.TrimToLake(lake_in=lake_rprj,Cdat=dat_loaded[0,:,:],\n",
    "                                                     rlat=rlat_loaded,rlon=rlon_loaded,\n",
    "                                                     off = 3, show = True) \n",
    "        \n",
    "        weight_mask = ECCO.Pixel_Weights(lake_in=lake_rprj,datin=sub_clim,\n",
    "                                         lat_atts=sub_rlat,lon_atts=sub_rlon)\n",
    "        \n",
    "        # For making the surface-weights saved .npy arrays, \n",
    "        # and extracting metadata (pixel counts and xy)\n",
    "        if gen_meta == True:\n",
    "            pix_truth = (weight_mask > 0.0)    # Count how many times the weight mask is\n",
    "            pxnum = len(weight_mask[pix_truth])  #  above 0.0 (i.e. how many pixels of data are needed)\n",
    "            print 'how many pixels?',pxnum\n",
    "            ypix = -99\n",
    "            xpix = -99\n",
    "            if pxnum == 1:\n",
    "                xxx,yyy = ECCO.Get_LatLonLim(xypath=lake_rprj.vertices)  # Find upp./low.lake lims.\n",
    "                ypix = (ECCO.Closest(array=rlat,value=yyy[0]))                # For lakes of one pixel  \n",
    "                xpix = (ECCO.Closest(array=rlon,value=xxx[0]))\n",
    "                print 'one pixel (x,y):',xpix,ypix\n",
    "            if pxnum < 1:\n",
    "                pxnum = 1  # Small bug where it thinks lakes dont exist, no biggy...\n",
    "            #if pxnum > 1:\n",
    "                #np.save('Lakes/Weights/'+EB_id[2:],weight_mask)\n",
    "        \n",
    "        \n",
    "            #return num,EB_id[2:], Area_Lake_and_Islands(lake_cart),pxnum,etime,ypix,xpix\n",
    "            plt.imshow(weight_mask,interpolation='none',alpha=None,cmap=plt.cm.gray)\n",
    "        \n",
    "        '''\n",
    "        #<<<< NEED TO CREATE DATABASE OF LAKE CATCHMENT METADATA, and WORK OUT ORDER\n",
    "        # TO READ IN ALL THE SHAPE DATA FROM ALL THE FILES...\n",
    "        \n",
    "        if lk_processed_inf.npix[EB_id] == 1:         # ONE PIXEL LAKES <<<\n",
    "            ypix = lk_processed_inf.ypix[EB_id]       # Get the pre-calc. pixel indexes...\n",
    "            xpix = lk_processed_inf.xpix[EB_id]       # ...calc in MT_Gen_SWeights() earlier\n",
    "            if lake_altitude == None:                 # Some lakes don't have alitude values\n",
    "                offset = -999.\n",
    "        else:                                         # LAKES OF MORE THAN ONE PIXEL <<<\n",
    "            pre_test = (lk_processed_inf.hex[EB_id] == precalculated)\n",
    "            if(any(pre_test) == True):                # Scipy's any() evalautes list truth\n",
    "                weightfile = 'Metadata/Weights/'+precalculated[pre_test][0]+'.npy'\n",
    "                weight_mask = np.load(weightfile)\n",
    "            else:           # If no pre-calculated weight mask file then calculate it now\n",
    "                sub_clim,sub_rlat,sub_rlon = TrimToLake(lake_rprj,dat_loaded[0,:,:],rlat_loaded,\n",
    "                                                        rlon_loaded,off = 3, show = False) \n",
    "                weight_mask = Pixel_Weights(lake_rprj,sub_clim,sub_rlat,sub_rlon)\n",
    "\n",
    "            \n",
    "            sub_clim,sub_rlat,sub_rlon = TrimToLake3D(lake_rprj,dat_loaded,rlat_loaded,rlon_loaded,\n",
    "                                                      off = 3, show = False)\n",
    "            \n",
    "            tlist = Weighted_Mean_3D(weight_mask, sub_clim, chatty=False)  # Here's the t-series\n",
    "            tlist = np.squeeze(tlist)                                      # Remove empty dimension\n",
    "            \n",
    "            if plots == True:\n",
    "                Show_LakeAndData(lake_rprj,dat_loaded[0,:,:],rlat,rlon,zoom=6.)\n",
    "                Preview_Weights(lake_rprj,weight_mask,sub_rlat,sub_rlon) \n",
    "                \n",
    "        if rprt_loop ==True:\n",
    "            print '\\rStats:',(float(n)/float(lstop))*100.,'% ',n,EB_id,offset,lake_altitude,\n",
    "        if sbar ==True:\n",
    "            icnt=icnt+1\n",
    "            if (float(icnt) % 10.) == 0.0:\n",
    "                Update_Progress(float(icnt)/float(len(dolakes)-1))\n",
    "\n",
    "        Write_HDF(f,EB_id,tlist,offset,lk_processed_inf.area[n])  # Write inside function\n",
    "        feature1=0\n",
    "        lake_feature = 0\n",
    "\n",
    "    f.close()                                # Close the HDF5 file after the lake loop finishes\n",
    "    subprocess.call([\"gzip\", FILE])             # Compress the file and remove original with gzip             \n",
    "    if rprt == True:\n",
    "        ctime = clock.time()\n",
    "    #-------------------------------------------------------------------------------------------\n",
    "    # 3. Finish and report time if requested\n",
    "    if rprt == True:\n",
    "            print '\\nTime to read data: %4.2f sec'%(btime - atime)\n",
    "            print 'Time to Process %i lakes: %4.2f sec'%(len(dolakes),ctime - btime)\n",
    "    '''\n",
    "    return"
   ]
  },
  {
   "cell_type": "code",
   "execution_count": 85,
   "metadata": {
    "collapsed": false
   },
   "outputs": [
    {
     "name": "stdout",
     "output_type": "stream",
     "text": [
      "hdf weights file exists, removing it...\n",
      "Progress: [----------------------------------------] 0% "
     ]
    }
   ],
   "source": [
    "#nc_path ='CORDEX/tas_EUR-11_ICHEC-EC-EARTH_rcp45_r1i1p1_KNMI-RACMO22E_v1_day_20960101-21001231.nc'\n",
    "nc_path='/uio/kant/geo-metos-u1/blaken/datadisk/ECCO/CORDEX/Data_CORDEX/tas_EUR-11_ICHEC-EC-EARTH_historical_r1i1p1_KNMI-RACMO22E_v1_day_19660101-19701231.nc'\n",
    "lake_file ='Catchments/ecco_biwa_catchments_part_1.shp'\n",
    "\n",
    "#Catchment_Process(nc_path=nc_path, outputprefix=None,plots = True,rprt=False,sbar=False,\n",
    "#                       rprt_loop=False,gen_meta=True)\n",
    "\n",
    "Catchment_Weights_Meta(nc_path=nc_path,sbar=True)"
   ]
  },
  {
   "cell_type": "code",
   "execution_count": 121,
   "metadata": {
    "collapsed": false
   },
   "outputs": [],
   "source": [
    "# Save it out...\n",
    "#meta_test.to_csv('Catchments/Meta_test.csv',index=False)\n",
    "# Read it back...\n",
    "#atest = pd.read_csv('Catchments/Meta_test.csv')\n",
    "#atest = atest.set_index('eb_id')"
   ]
  },
  {
   "cell_type": "code",
   "execution_count": null,
   "metadata": {
    "collapsed": false
   },
   "outputs": [],
   "source": []
  },
  {
   "cell_type": "code",
   "execution_count": null,
   "metadata": {
    "collapsed": false
   },
   "outputs": [],
   "source": []
  },
  {
   "cell_type": "code",
   "execution_count": 1,
   "metadata": {
    "collapsed": false
   },
   "outputs": [],
   "source": [
    "def Catchment_Weights_Meta(nc_path,sbar=False):\n",
    "    '''\n",
    "    From catchment data, generate surface weights if requested, and meta\n",
    "    data files also.\n",
    "    '''\n",
    "    # 1. LOAD Climate DATA\n",
    "    clim_dat,rlat,rlon,timeCDX,metadata,txtfname = ECCO.Read_CORDEX_V2(nc_path) # CORDEX NetCDF Read file\n",
    "    vname, m1, m2, dexp, m3, m4, m5, m6, drange_orignial = metadata        # Metadata of fname string\n",
    "    var_type = clim_dat.standard_name                                      # What kind of CORDEX data?\n",
    "    dat_loaded = clim_dat[:,:,:]                                           # Load CORDEX data into RAM\n",
    "    rlat_loaded = rlat[:]\n",
    "    rlon_loaded = rlon[:]\n",
    "\n",
    "    # Create a hdf5 file of catchment weights\n",
    "    thefilename = 'catchment_weights'\n",
    "    FILE= 'Catchments/Weights/' + thefilename +'.h5'                # Set up HDF5 file output\n",
    "    if os.path.isfile(FILE) == True:\n",
    "        print 'HDF5 File already exists. Leaving loop so you dont clobber it by accident.'\n",
    "        return\n",
    "        #print 'hdf weights file exists, removing it...'\n",
    "        #os.remove(FILE)\n",
    "    else:\n",
    "        print 'Creating file: ',FILE\n",
    "        fweights = h5py.File(FILE,'w')\n",
    "    \n",
    "    # set and write header info for the metadata file\n",
    "    metacsv = 'Catchments/Metadata/Catchment_meta.csv'\n",
    "    tmplist = ['EB_id','area','npix','ypix','xpix'] \n",
    "    write_metadata_csv(mfname=metacsv,meta_list=tmplist)\n",
    "    \n",
    "    if sbar ==True:\n",
    "        icnt = 0\n",
    "    \n",
    "    # For the three catchment files - loop over each file and do every feature element...\n",
    "    catchflist = []                                     # Gather precalculated surface weights \n",
    "    for fnm in glob.glob(\"Catchments/*.shp\"):           # N.b. You can precalculate as many as you\n",
    "        catchflist.append(fnm)\n",
    "        #print(fnm)\n",
    "        ShapeData = osgeo.ogr.Open(fnm)                  # Make a link to Lake Shape Files\n",
    "        TheLayer = ShapeData.GetLayer(iLayer=0)\n",
    "        #print(TheLayer.GetFeatureCount())\n",
    "        dolakes=range(TheLayer.GetFeatureCount())   # Create a range to loop over lake features   \n",
    "     \n",
    "        for n in dolakes[0:10]:\n",
    "            tlist = []\n",
    "            feature1 = TheLayer.GetFeature(n)                        # Get catchtment data\n",
    "            lake_feature = feature1.ExportToJson(as_object=True)     # Convert to JSON\n",
    "            EB_id = hex(int(lake_feature['properties']['ebint']))[2:]# Extract id number\n",
    "            wgs85_xy = Reproj_Catchment(lake_feature=lake_feature,\n",
    "                                       chatty=False)   # Convert to WGS system\n",
    "            lake_cart = ECCO.Path_LkIsl_ShpFile([wgs85_xy])          # Create shape object\n",
    "            lake_rprj = ECCO.Path_Reproj(lake_cart,False)            # Reproj 2 Plr rotated\n",
    "        \n",
    "            sub_clim,sub_rlat,sub_rlon = ECCO.TrimToLake(lake_in=lake_rprj,Cdat=dat_loaded[0,:,:],\n",
    "                                                         rlat=rlat_loaded,rlon=rlon_loaded,\n",
    "                                                         off = 3, show = False) \n",
    "        \n",
    "            weight_mask = ECCO.Pixel_Weights(lake_in=lake_rprj,datin=sub_clim,\n",
    "                                             lat_atts=sub_rlat,lon_atts=sub_rlon)\n",
    "            \n",
    "            # For making the surface-weights saved .npy arrays and metadata (pixel counts and xy)\n",
    "            pix_truth = (weight_mask > 0.0)    # Count how many times the weight mask is\n",
    "            pxnum = len(weight_mask[pix_truth])  #  above 0.0 (i.e. how many pixels of data are needed)\n",
    "        \n",
    "            if pxnum > 1:\n",
    "                #np.save('Catchments/Weights/'+EB_id,weight_mask)\n",
    "                Write_HDF_weights(fw=fweights,EB_id=EB_id,weights=weight_mask) \n",
    "                ypix = -99\n",
    "                xpix = -99\n",
    "\n",
    "            if pxnum < 1:\n",
    "                pxnum = 1                                               # Small bug fix, no biggy...\n",
    "            if pxnum == 1:\n",
    "                xxx,yyy = ECCO.Get_LatLonLim(xypath=lake_rprj.vertices)  # Find upp./low.lake lims.\n",
    "                ypix = (ECCO.Closest(array=rlat,value=yyy[0]))                # For lakes of one pixel  \n",
    "                xpix = (ECCO.Closest(array=rlon,value=xxx[0]))\n",
    "                #print 'one pixel (x,y):',xpix,ypix\n",
    "            #print EB_id, ECCO.Area_Lake_and_Islands(lake_poly=lake_cart),pxnum,ypix,xpix\n",
    "            tmplist=[EB_id, ECCO.Area_Lake_and_Islands(lake_poly=lake_cart),pxnum,ypix,xpix]\n",
    "            write_metadata_csv(mfname=metacsv,meta_list=tmplist)\n",
    "            \n",
    "            if sbar ==True:\n",
    "                icnt=icnt+1\n",
    "                if (float(icnt) % 10.) == 0.0:\n",
    "                    ECCO.Update_Progress(float(icnt)/274791.)\n",
    "    return"
   ]
  },
  {
   "cell_type": "code",
   "execution_count": 77,
   "metadata": {
    "collapsed": false
   },
   "outputs": [],
   "source": []
  },
  {
   "cell_type": "code",
   "execution_count": 57,
   "metadata": {
    "collapsed": false
   },
   "outputs": [
    {
     "name": "stdout",
     "output_type": "stream",
     "text": [
      "CPU times: user 0 ns, sys: 0 ns, total: 0 ns\n",
      "Wall time: 4.05 µs\n",
      "1.0\n"
     ]
    },
    {
     "data": {
      "image/png": "[encoded data removed]",
      "text/plain": [
       "<matplotlib.figure.Figure at 0x7fe47b1686d0>"
      ]
     },
     "metadata": {},
     "output_type": "display_data"
    }
   ],
   "source": [
    "%time\n",
    "a = np.load('Catchments/Weights/aaef0b.npy')\n",
    "plt.imshow(a,interpolation='none')\n",
    "print(np.sum(a))"
   ]
  },
  {
   "cell_type": "code",
   "execution_count": 70,
   "metadata": {
    "collapsed": false
   },
   "outputs": [
    {
     "name": "stdout",
     "output_type": "stream",
     "text": [
      "CPU times: user 0 ns, sys: 0 ns, total: 0 ns\n",
      "Wall time: 7.87 µs\n",
      "1.0\n"
     ]
    },
    {
     "data": {
      "image/png": "[encoded data removed]",
      "text/plain": [
       "<matplotlib.figure.Figure at 0x7fe47b56cad0>"
      ]
     },
     "metadata": {},
     "output_type": "display_data"
    }
   ],
   "source": [
    "alist = pd.read_csv('Catchments/Metadata/Meta_Catchments.csv')  # Read metadata\n",
    "#alist\n",
    "f = h5py.File('Catchments/Weights/catchment_weights.h5','r')\n",
    "#a2 = f['aaef0b']\n",
    "# Need to add a line that checks number of pixels etc...\n",
    "a2 = f[alist['eb_id'][23]]  # example of pulling the catchment weights back with metadata\n",
    "plt.imshow(a2,interpolation='none')\n",
    "print(np.sum(a2))\n",
    "f.close()"
   ]
  },
  {
   "cell_type": "code",
   "execution_count": 60,
   "metadata": {
    "collapsed": false
   },
   "outputs": [],
   "source": []
  },
  {
   "cell_type": "code",
   "execution_count": null,
   "metadata": {
    "collapsed": false
   },
   "outputs": [],
   "source": []
  },
  {
   "cell_type": "code",
   "execution_count": 62,
   "metadata": {
    "collapsed": false
   },
   "outputs": [],
   "source": [
    "#fweights = h5py.File(fwe,'w')\n",
    "#\n",
    "#Write_HDF_weights(fw=fweights,EB_id='dddd',weights=a) \n",
    "#fweights.close()   "
   ]
  },
  {
   "cell_type": "code",
   "execution_count": null,
   "metadata": {
    "collapsed": false
   },
   "outputs": [],
   "source": []
  },
  {
   "cell_type": "code",
   "execution_count": 71,
   "metadata": {
    "collapsed": false
   },
   "outputs": [],
   "source": []
  },
  {
   "cell_type": "code",
   "execution_count": 75,
   "metadata": {
    "collapsed": false
   },
   "outputs": [],
   "source": [
    "#with open('eggs.csv', 'wb') as csvfile:\n",
    "\n",
    "with open('eggs.csv', 'a') as csvfile:\n",
    "    spamwriter = csv.writer(csvfile, delimiter=',',\n",
    "                            quotechar='|', quoting=csv.QUOTE_MINIMAL)\n",
    "    spamwriter.writerow(['Spam'] * 5 + ['Baked Beans'])\n",
    "    spamwriter.writerow(['Spam', 'Lovely Spam', 'Wonderful Spam'])"
   ]
  },
  {
   "cell_type": "code",
   "execution_count": null,
   "metadata": {
    "collapsed": true
   },
   "outputs": [],
   "source": []
  }
 ],
 "metadata": {
  "kernelspec": {
   "display_name": "Python 2",
   "language": "python",
   "name": "python2"
  },
  "language_info": {
   "codemirror_mode": {
    "name": "ipython",
    "version": 2
   },
   "file_extension": ".py",
   "mimetype": "text/x-python",
   "name": "python",
   "nbconvert_exporter": "python",
   "pygments_lexer": "ipython2",
   "version": "2.7.9"
  }
 },
 "nbformat": 4,
 "nbformat_minor": 0
}
