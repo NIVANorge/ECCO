{
 "metadata": {
  "name": "",
  "signature": "sha256:701b215bc1feafb1724526a5c2f8c4e5e6375496bf6bcc37e81d8420216f448b"
 },
 "nbformat": 3,
 "nbformat_minor": 0,
 "worksheets": [
  {
   "cells": [
    {
     "cell_type": "heading",
     "level": 1,
     "metadata": {},
     "source": [
      "Paralell implementation of the ECCO data creation"
     ]
    },
    {
     "cell_type": "markdown",
     "metadata": {},
     "source": [
      "Implementation of working ECCO data production, to use mutliple threads to create time series of one lake."
     ]
    },
    {
     "cell_type": "code",
     "collapsed": false,
     "input": [
      "import numpy as np\n",
      "import sys, time, os, json\n",
      "from netCDF4 import Dataset  \n",
      "from matplotlib.path import Path\n",
      "from matplotlib import cm\n",
      "import matplotlib.patches as patches\n",
      "from matplotlib import path\n",
      "from matplotlib.transforms import Bbox\n",
      "from math import pi, cos, sin, radians, atan, asin\n",
      "import mpl_toolkits.basemap.pyproj as pyproj\n",
      "import matplotlib.pyplot as plt"
     ],
     "language": "python",
     "metadata": {},
     "outputs": [],
     "prompt_number": 1
    },
    {
     "cell_type": "heading",
     "level": 2,
     "metadata": {},
     "source": [
      "Data reading functions"
     ]
    },
    {
     "cell_type": "code",
     "collapsed": false,
     "input": [
      "def Read_Lakes(file_in):\n",
      "    '''Purpose - Use Json module to read GeoJSON Lake data\n",
      "    Input   - File name including path (string)\n",
      "    Output  - Various arrays containing Lake data\n",
      "    '''\n",
      "    with open(file_in) as f:\n",
      "        data = json.load(f)\n",
      "    lake_id =[] ; lake_path=[] ; lake_geometry=[] ; lake_name=[]\n",
      "    for feature in data['features']:\n",
      "        lake_geometry.append(feature['geometry']['type'])\n",
      "        lake_id.append(feature['id'])\n",
      "        lake_name.append(feature['properties']['comsat.Lake'])\n",
      "        lake_path.append(feature['geometry']['coordinates'])\n",
      "    print 'Read data for', len(lake_id), ' lakes.'\n",
      "    return lake_geometry, lake_id, lake_name,lake_path\n",
      "\n",
      "\n",
      "def Tmp_CORDEX_Read():\n",
      "    '''Temporay way to read the CORDEX data, while I am testing the software and getting the remote\n",
      "    access working still.\n",
      "    '''\n",
      "    #cordex_dlist = 'file_list.txt'    # A list of CORDEX data held locally (path and file name)\n",
      "    #with open(cordex_dlist) as f:\n",
      "    #    cordex_files = f.readlines()\n",
      "    #[l.strip('\\n\\r') for l in cordex_files]\n",
      "    \n",
      "    #print cordex_files  # NB having some problem, CORDEX file names are too big for the module to read!\n",
      "    # I have temporarily renamed tas_EUR-11_ICHEC-EC-EARTH_rcp45_r1i1p1_KNMI-RACMO22E_v1_day_20960101-21001231.nc\n",
      "    # to tas_20960101-21001231.nc while i am testing...\n",
      "    NCfpth = '/uio/kant/geo-metos-u1/blaken/Data/CORDEX/tas_20960101-21001231.nc'\n",
      "    print 'Reading file:',NCfpth\n",
      "    tmp = Dataset(NCfpth,'r')              # Use NetCDF4 to read the file\n",
      "    tmp.close                              # Close the connection to the file \n",
      "\n",
      "    # Gather info about the NetCDF file\n",
      "    print 'Experiment ID ',tmp.experiment_id\n",
      "    print 'Domain',tmp.CORDEX_domain\n",
      "    print 'Driving Experiment:',tmp.driving_experiment\n",
      "    print 'Experiment name:',tmp.driving_experiment_name\n",
      "    #print tmp.filepath()\n",
      "    print 'From Institute:',tmp.institute_id\n",
      "\n",
      "    #for dimobj in tmp.dimensions.values():        # Examine the dimensions\n",
      "    #    print dimobj\n",
      "    #for varobj in tmp.variables.values():       # Examine the variable\n",
      "    #    print varobj\n",
      "    tas = tmp.variables['tas']\n",
      "    rlat = tmp.variables['rlat']\n",
      "    rlon = tmp.variables['rlon']\n",
      "    time = tmp.variables['time']\n",
      "    \n",
      "    drange = tmp.filepath()  # This is a unicode date range of the data stripped from the filename, pass it to the text\n",
      "    drange = drange[-20:-3]   # files as part of their naming convention\n",
      "    dexp = tmp.driving_experiment  # variable to hold experiment info\n",
      "    \n",
      "    return tas,rlat,rlon,time,drange,dexp"
     ],
     "language": "python",
     "metadata": {},
     "outputs": [],
     "prompt_number": 2
    },
    {
     "cell_type": "heading",
     "level": 2,
     "metadata": {},
     "source": [
      "Main functionaility"
     ]
    },
    {
     "cell_type": "code",
     "collapsed": false,
     "input": [
      "def Calc_Coordinates(lon_2transform,lat_2transform):\n",
      "    ''' Returns lat lon coordinates on a polar rotated sphere, from the input of the North\n",
      "    Pole longitude, and North Pole latitude (that is the rotated position of the pole),\n",
      "    and the lon and lat which you wish to transform (as two speperate floating point values).\n",
      "    Note   - Currently this has the CORDEX EUR-11 pole shift hardcoded into the routine, as \n",
      "    lo_polo = 198. (Cartesian Lontidue of N. Pole Shift), and la_polo = 39.25 (Latitude of N.Pole shift)\n",
      "    '''\n",
      "    lo = lon_2transform\n",
      "    la = lat_2transform\n",
      "    lo_polo=198.                  # Lon and lat of the new position of the north pole\n",
      "    la_polo=39.25\n",
      "    lon=lo*(pi/180)               # Transform into radians\n",
      "    lat=la*(pi/180)\n",
      "    lon_polo=lo_polo*pi/180       # Transformation into radians\n",
      "    lat_polo=la_polo*pi/180\n",
      "    phi=pi-lon_polo               # Calcuus of the angles we are rotating to move\n",
      "    teta=-(pi/2-lat_polo)         # from the real north pole to the new one\n",
      "    x=cos(lon)*cos(lat)           # Change in coordinates from lon, lat to cardinates\n",
      "    y=sin(lon)*cos(lat)\n",
      "    z=sin(lat)\n",
      "    xr=cos(teta)*cos(phi)*x-cos(teta)*sin(phi)*y-sin(teta)*z    # Calculus of the new rotated cordinates in cartesians\n",
      "    yr=sin(phi)*x+cos(phi)*y\n",
      "    zr=sin(teta)*cos(phi)*x-sin(teta)*sin(phi)*y+cos(teta)*z\n",
      "    lonr=atan(yr/xr)               # Transformation from cartesians into lon and lat again \n",
      "    latr=asin(zr)\n",
      "    #if (lonr < 0.):\n",
      "    #    lonr=2* pi+lonr            # If the longitude is negative\n",
      "    return lonr*180/pi, latr*180/pi\n",
      "\n",
      "def Closest(array, value):\n",
      "    '''Purpose    -  Functions like the IDL routine CLOSEST. Essentially just returns\n",
      "    the value of an array closest to a specified value.\n",
      "    Input    -  array: a np.array\n",
      "             -  value: the value to which you are looking for the closest match to\n",
      "    Output   - Returns an integer value index to the input array, of the data point\n",
      "               most closely corresponding to the input value.\n",
      "    '''\n",
      "    y = [0] * len(array)            # Declare a list to hold (array - value) numbers.\n",
      "    #out = [0] * 2                  # A list to hold the output.\n",
      "    for i in xrange(len(array)):\n",
      "        y[i] = np.abs(array[i] - value)\n",
      "    mval = np.min(y)\n",
      "    #out[1] = np.where(y == mval)   # Identify where smallest diffrence occurs in y.\n",
      "    #out[0] = array[out[1]]\n",
      "    out = np.where(y == mval)\n",
      "    return int(out[0])\n",
      "\n",
      "\n",
      "def EqArea(verts):\n",
      "    '''Purpose - Take gridded data and, using the assumption of a spherical earth, re-project it to\n",
      "    a spherical coordinate system.\n",
      "    Input   - The Matplolib.Path.Path object vertexes\n",
      "    Output  - x,y coordinates projected onto a sphere\n",
      "    Notes   - Solution from stackoverflow.com/questions/4681737/how-to-calculate-the-area-of-a-polygon-\n",
      "    on-the-earths-surface-using-python\n",
      "    By multiplying the latitude by the length of one degree of latitude, and the longitude by the length of\n",
      "    a degree of latitude and the cosine of the latitude. Then, calculate the area of an arbitrary polygon in a plane.\n",
      "'''\n",
      "    earth_radius = 6367.4447             # Earth avg. radius (km) from Wolfram Alpha\n",
      "    lat_dist = pi * earth_radius / 180.0  \n",
      "    eqout =[]\n",
      "    for n,i in enumerate(verts):\n",
      "        longitude = i[0] \n",
      "        latitude = i[1]\n",
      "        x = longitude * lat_dist * cos(radians(latitude))\n",
      "        y = latitude * lat_dist\n",
      "        eqout.append([x,y])\n",
      "    return eqout\n",
      "\n",
      "\n",
      "def Get_LatLonLim(xypath):\n",
      "    '''Purpose - Find the bounding (i.e. max/min) lat/lons of a given lake.\n",
      "    Input   - Path.verticies of Lake\n",
      "    Output  - x[max,min],y[max,min]\n",
      "    '''\n",
      "    xset = []\n",
      "    yset = []\n",
      "    for i in xypath:\n",
      "        xset.append(i[0])\n",
      "        yset.append(i[1])        \n",
      "    return [max(xset),min(xset)],[max(yset),min(yset)]\n",
      "\n",
      "\n",
      "def Gen_FileName(pth,lname,drange,ext):\n",
      "    '''Purpose   - This is needed to use the unicode lake names to generate a string\n",
      "    used as a file name and folder path to save output files. Idea is to modify this as needed.\n",
      "    \n",
      "    Inputs    - lname: Lake_name[n] unicode name\n",
      "              - pth: path of where the file should go\n",
      "              - ext: extention type of the desired file\n",
      "    Outputs   - filename: A string with the path, filename, and type all together. \n",
      "    ''' \n",
      "    #pth = '/uio/kant/geo-metos-u1/blaken/Work/Python/ECCO/Outputs/'\n",
      "    #ext = '.pdf'\n",
      "    filename = u''.join((pth,lname,'_',drange,ext)).encode('utf-8').strip()  \n",
      "    return filename\n",
      "\n",
      "\n",
      "def Gen_FName_Head(long_name):\n",
      "    '''Purpose   - Set the string to start the file names with (should be the variable)\n",
      "    Input    - clim_dat.long_name (from the NetCDF data)\n",
      "    Output   - fnm_head: a short string to indicate the variable \n",
      "    '''\n",
      "    fnm_head=''\n",
      "    if long_name == 'Near-Surface Air Temperature':\n",
      "        fnm_head = 'TAS_'\n",
      "    return fnm_head\n",
      "\n",
      "\n",
      "def Path_Make(coord):\n",
      "    '''Purpose  - Create a Polygon from the Lake vectors, as a Matplotlib.Path.Path object, and nothing else.\n",
      "    Input    - Lake coordinate data as an x,y list (from the GeoJSON file).\n",
      "    Output   - Path_out (A Matplotlib.Path object) \n",
      "    Requires - Matplotlib.Path import Path\n",
      "    Notes   - The way the lake addressing goes is Lake[0][0][0] where the first 0 is the individual lake.\n",
      "    Lake[0][0][:] will give you every x,y element. Lake[0][0][0][0] will give the first x-element of the first lake.\n",
      "    Lake[0][0][0][1] will give the first y-element etc.\n",
      "    '''\n",
      "    verts =[] ; codes=[]\n",
      "    pth_ln = int(len(coord) - 1) \n",
      "    for i,n in enumerate(coord[0:pth_ln]):\n",
      "        verts.append(n)\n",
      "        if i == 0:\n",
      "            codes.append(Path.MOVETO)\n",
      "        if ((i >= 1)&(i < (pth_ln - 1))):\n",
      "            codes.append(Path.LINETO)  \n",
      "        if i == (pth_ln - 1):\n",
      "            codes.append(Path.CLOSEPOLY)\n",
      "    path_out = Path(verts, codes)  \n",
      "    return path_out\n",
      "\n",
      "\n",
      "\n",
      "def Path_Reproj(path_in,INV):\n",
      "    '''This program reprojects a path object from cartesian lat lon to Spherical reprojected coordinates.\n",
      "    Note, this could easily be changed in the future to use diffrent coordinates as requirements of model input changes.\n",
      "    Currently works on Lat Lon to rotated Lat Lon of EUR-11 model.\n",
      "    Input    -   Lake Path object\n",
      "             -   change_proj, a projection object from Get_Proj() to transform coordinates.\n",
      "             -   INV keyword as a boolean. If false the transformation goes forwards\n",
      "                 meaning cartesian lon/lat are converted by the reprojection. If it\n",
      "                 is true, however, the tranformation goes in reverse. Changing reprojected data back to cartesian data.\n",
      "    Output   -   Transformed Path object. Note the codes are intact.        \n",
      "    '''\n",
      "    verts =[] ; codes=[] \n",
      "    pth_ln = int(len(path_in.vertices) - 1) \n",
      "    for i,n in enumerate(path_in.vertices):\n",
      "        if (INV == False):\n",
      "            rx,ry = Calc_Coordinates(n[0],n[1])\n",
      "        if (INV == True):\n",
      "            #rx,ry =  Change_Proj(n[0],n[1],inverse=True)  # Transform from rlat/rlon to lat/lon\n",
      "            print 'Still have to add the inverse projection functionaility!'\n",
      "        tmp_rverts = [rx,ry]\n",
      "        verts.append(tmp_rverts)                          # Use reprojected verticies\n",
      "        codes.append(path_in.codes[i])                    # Use existing path codes already set\n",
      "    path_out = Path(verts, codes)\n",
      "    return path_out\n",
      "\n",
      "\n",
      "\n",
      "\n",
      "def Pixel_Weights(lake_in, datin,lat_atts,lon_atts):\n",
      "    '''\n",
      "    Purpose - Provides a 2D array matching the input array, which has the weights of pixels\n",
      "                to calc. lake mean\n",
      "    \n",
      "    Input   - lake_in: A Path object\n",
      "            - datin: A 2D array of values: either real data, or fake data generated by Gen_Test_Dat()\n",
      "            - Lat subscripts: list of y values in rotated coordinates\n",
      "            - Lon subscripts: list of x values in rotated coordinates\n",
      "            \n",
      "    Output  - pix_weights: A 2D array matching the input data of the fractional area of lake per pixel\n",
      "    \n",
      "    Notes   - For each grid cell of the provided 2D data the individual bounding box of each pixel is calculated\n",
      "                as a bounding box object (Matplotlib.Transform.Bbox).\n",
      "              Using the intersects_bbox() function, a logic test determines if any vectors of the\n",
      "              Lake's path are within the bounding box. If the condition is false (no lake within pixel),\n",
      "              the value of the mask is set to 0.0. If the condition is true (lake within pixel), the\n",
      "              fractional area of the lake polygon within the polygon within the pixel is calculated.\n",
      "              This requires the area of the lake polygon within the pixel (in km^2) is calculated, and\n",
      "              divided by the area of the total lake (also in km^2). \n",
      "              The areas are calculated by the custom functions EqArea() and PolyArea2D().\n",
      "    '''\n",
      "    lout = lake_in\n",
      "    pix_weights = np.zeros(np.shape(datin))\n",
      "    cnt = 0\n",
      "    latstep = (float(lat_atts[-1]) - float(lat_atts[0])) / float(len(lat_atts))\n",
      "    lonstep = (float(lon_atts[-1]) - float(lon_atts[0])) / float(len(lon_atts))\n",
      "    xvar = lon_atts[0] ; yvar= lat_atts[0]       # Initialize the looping indexes to first positions\n",
      "    for x in xrange(len(lon_atts)):\n",
      "        if(x == 0):  \n",
      "            x_ll = lon_atts[0]                   # ..then set the lower left corner to be the first lon val.\n",
      "            x_ur = lonstep + x_ll                # and the upper right, to be the x_ll + increment\n",
      "        if(x > 0):                               # If it is already in the loop, use the older x_ll, and x_ur\n",
      "            x_ll = x_ur                          # to continue calculating the bounding box area. \n",
      "            x_ur = x_ll + lonstep    \n",
      "        for y in xrange(len(lat_atts)):\n",
      "            if(y == 0):\n",
      "                y_ll = lat_atts[0]\n",
      "                y_ur = latstep + y_ll\n",
      "            if(y > 0):\n",
      "                y_ll = y_ur\n",
      "                y_ur = y_ll + latstep  \n",
      "            lims =np.array([[x_ll,y_ll],[x_ur,y_ur]])  # Construct a 2D np.array for the BB object\n",
      "            tmpbb = Bbox(lims)\n",
      "            test = lout.intersects_bbox(tmpbb)\n",
      "            if (test == 1):                         # If Lake within the Bbox test will be 1 (no lake, test = 0)\n",
      "                cnt = cnt + 1                     # Counter is just for testing.\n",
      "                #pix_weights[y,x] = 0.0            # For pixels where Lake is, calc. and write the frac area (%)\n",
      "                sub_lout =[] ; area_sub = []\n",
      "                sub_lout = lout.clip_to_bbox(tmpbb,inside ='True')\n",
      "                area_sub = Poly_Area2D(EqArea(sub_lout.vertices))\n",
      "                lkarea = Poly_Area2D(EqArea(lout.vertices))\n",
      "                pix_weights[y,x]= float(area_sub)/float(lkarea)         # The fractional area (0-1.0) of lake within a given pixel\n",
      "    return pix_weights\n",
      "\n",
      "\n",
      "\n",
      "def Poly_Area2D(poly):\n",
      "    '''Purpose - This function implements Green's Theorem to calculate to find the\n",
      "    area of a polygon in a 2D co-ordinate system.   \n",
      "    Input   - A polygon, as the verticies of a Matplotlib.Path \n",
      "    Notes   - More info at http://code.activestate.com/recipes/578275-2d-polygon-area\n",
      "    Join this function with EqArea function to find the area of a lake in km^2.\n",
      "    Example - area = Poly_area2D(EqArea(A_Lake_Path.vertices))\n",
      "    '''\n",
      "    total = 0.0\n",
      "    N = len(poly)\n",
      "    for i in range(N):\n",
      "        v1 = poly[i]\n",
      "        v2 = poly[(i+1) % N]\n",
      "        total += v1[0]*v2[1] - v1[1]*v2[0]\n",
      "    return '%6.2f'%abs(total/2.)  \n",
      "\n",
      "\n",
      "def Plot_LakeAndData_Save(lake_in,cdat,rlat,rlon,zoom):\n",
      "    ''' Like Show_LakeAndData(), but this one outputs the plot object without displaying it to the screen.\n",
      "    Creates a nice plot for the user to check the lake is in the right place on the data. Specify a zoom to\n",
      "    change perspective as required.\n",
      "    Input   - lake_in : a Path object containing a lake\n",
      "            - cdat: a 2D array of lat/lon holding climate variables\n",
      "            - rlon and rlat : rotated lon/lat vectors of cdat\n",
      "            - zoom : a positive floating point value speciying the area in decimal degrees\n",
      "                    to plot around the lake. You can use this to zoom on the lake!\n",
      "    Output  - A plot object of the lake overlaid on the data, ready to save to file.\n",
      "    '''\n",
      "    if ((zoom < 0) | (zoom != zoom)):\n",
      "        zoom = 0.\n",
      "    xmaxmin,ymaxmin = Get_LatLonLim(lake_in.vertices)\n",
      "\n",
      "    fig2 = plt.figure()\n",
      "    ax1 = fig2.add_subplot(111)\n",
      "    patch = patches.PathPatch(lake_in, facecolor='#06ebf6', lw=1)\n",
      "    ax1.add_patch(patch)      # ADD LAKE\n",
      "    ax1.set_xlim(xmaxmin[1]-zoom,xmaxmin[0]+zoom)\n",
      "    ax1.set_ylim(ymaxmin[1]-zoom,ymaxmin[0]+zoom)\n",
      "    ax1.set_ylabel('Lat. (Deg. N)')\n",
      "    ax1.set_xlabel('Lon. (Deg. E)')\n",
      "    ax1.set_title('Lake and Climate data Overlaid'+'\\n'+'Zoom of '+str(zoom) +' degrees around lake')\n",
      "    ax1.imshow(cdat,interpolation='none', cmap=cm.RdBu,extent=[rlon[0],rlon[-1],rlat[0],rlat[-1]],origin='lower')\n",
      "    #plt.show(fig2)\n",
      "    return fig2\n",
      "\n",
      "def Preview_Lake(lake_in):\n",
      "    '''Purpose   - Plot to screen a specified lake from a path object. Only meant for preview purposes.\n",
      "    Input     - Matplotlib.Path object\n",
      "    '''\n",
      "    xtmp=[] ; ytmp=[]\n",
      "    for i in xrange(len(lake_in.vertices)):\n",
      "        xtmp.append(lake_in.vertices[i][0])\n",
      "        ytmp.append(lake_in.vertices[i][1]) \n",
      "    fig2 = plt.figure()\n",
      "    ax1 = fig2.add_subplot(111)\n",
      "    patch = patches.PathPatch(lake_in, facecolor='#06ebf6', lw=1)\n",
      "    ax1.set_axis_bgcolor('#87c540')   # Hexcolor is a green\n",
      "    ax1.set_xlim(min(xtmp)-0.05,max(xtmp)+0.05)\n",
      "    ax1.set_ylim(min(ytmp)-0.05,max(ytmp)+0.05)\n",
      "    ax1.add_patch(patch)              # Add the lake object here\n",
      "    ax1.set_ylabel('Lat. (Deg. N)')\n",
      "    ax1.set_xlabel('Lon. (Deg. E)')\n",
      "    ax1.set_title('Lake preview')\n",
      "    plt.show()\n",
      "    return\n",
      "\n",
      "\n",
      "def Preview_Weights(lake_in,pix_weights,lat_atts,lon_atts):\n",
      "    '''\n",
      "    Purpose  - To plot a preview of the pixel weight mask with the lake overlaid.\n",
      "                 Weights calculated from the custom Pixel_Weights() function.\n",
      "    Input    - Lake Path\n",
      "             - 2D array of pixel weights\n",
      "             - subscripts of lon and lats from SubsetClimDat() function.\n",
      "    '''\n",
      "    lout = lake_in\n",
      "    fig2 = plt.figure()\n",
      "    ax1 = fig2.add_subplot(111)\n",
      "    patch = patches.PathPatch(lout, facecolor='#06ebf6', lw=1)\n",
      "    ax1.add_patch(patch)     # ADD LAKE\n",
      "    ax1.set_xlim(lon_atts[0],lon_atts[-1])\n",
      "    ax1.set_ylim(lat_atts[0],lat_atts[-1])\n",
      "    ax1.set_ylabel('Lat. (Deg. N)')\n",
      "    ax1.set_xlabel('Lon. (Deg. E)') \n",
      "    ax1.imshow(pix_weights,interpolation='none', cmap=cm.Greys, extent=[lon_atts[0],lon_atts[-1],lat_atts[0],\n",
      "                lat_atts[-1]],origin='lower')\n",
      "    plt.show()\n",
      "    return\n",
      "\n",
      "def Show_LakeAndData(lake_in,cdat,rlat,rlon,zoom):\n",
      "    ''' This creates a nice plot for the user to check the lake is in the right place on the data. Specify a zoom to\n",
      "    change perspective as required.\n",
      "    Input   - lake_in : a Path object containing a lake\n",
      "            - cdat: a 2D array of lat/lon holding climate variables\n",
      "            - rlon and rlat : rotated lon/lat vectors of cdat\n",
      "            - zoom : a positive floating point value speciying the area in decimal degrees\n",
      "                    to plot around the lake. You can use this to zoom on the lake!\n",
      "    Output  - A nice plot of the lake overlaid on the data\n",
      "    '''\n",
      "    if ((zoom < 0) | (zoom != zoom)):\n",
      "        zoom = 0.\n",
      "    xmaxmin,ymaxmin = Get_LatLonLim(lake_in.vertices)\n",
      "\n",
      "    fig2 = plt.figure()\n",
      "    ax1 = fig2.add_subplot(111)\n",
      "    patch = patches.PathPatch(lake_in, facecolor='#06ebf6', lw=1)\n",
      "    ax1.add_patch(patch)      # ADD LAKE\n",
      "    ax1.set_xlim(xmaxmin[1]-zoom,xmaxmin[0]+zoom)\n",
      "    ax1.set_ylim(ymaxmin[1]-zoom,ymaxmin[0]+zoom)\n",
      "    ax1.set_ylabel('Lat. (Deg. N)')\n",
      "    ax1.set_xlabel('Lon. (Deg. E)')\n",
      "    ax1.set_title('Lake and Climate data Overlaid'+'\\n'+'Zoom of '+str(zoom) +' degrees around lake')\n",
      "    ax1.imshow(cdat,interpolation='none', cmap=cm.RdBu,extent=[rlon[0],rlon[-1],rlat[0],rlat[-1]],origin='lower')\n",
      "    plt.show(fig2)\n",
      "    return\n",
      "\n",
      "def TrimToLake(lake_in,Cdat,rlat,rlon,off,show):\n",
      "    ''' Purpose   - To go from the full CORDEX lat lon array (one time slice), to a small np.array\n",
      "        subset over the immediate pixels surrounding the lake (with a few eitherside). This will speed up the\n",
      "        execution of the pixel weight calculation code.\n",
      "        \n",
      "    Input     -  lake_in : A Path object, holding the lake data\n",
      "              -  Cdat : Climate Data, as a 2D array (lat,lon) sliced from the cordex array\n",
      "              -  rlat : Rotated Latitude attributes of the Cdat array\n",
      "              -  rlon : Rotated Lontiude attributes of the Cdat array\n",
      "              -  off  : an offset value (in pixels) to expand the area around the lake. By default, if the offset\n",
      "                        enterd is less than 3, it will be set to 3 pixels (as from testing this prevents errors).\n",
      "              -  show : A keyword set to either True or False depending on if you want to see the result\n",
      "                        plotted to the screen or not.\n",
      "                        \n",
      "    Output    -  data_sub : Np.Array subset of Cdat. This will be used to create a weighted mask.\n",
      "              -  rlat_subs: subset of the rotated latitude\n",
      "              -  rlon_subs: subset of the rotated lontiude\n",
      "              \n",
      "    Example   - grid_subset,subset_rlats,subset_rlons = Subset_ClimDat(lake_in,climdata[0,:,:],rlat,rlon,show=True)\n",
      "    \n",
      "    Notes     - The zoom2 factor, is a bit arbitrary, is is designed to include several pixels comfortably either side\n",
      "                of the lake. While this may be a waste, and perhaps could be cut, I perfer to leave it in, as the lakes\n",
      "                have some unusual shapes, and leaving pixels to work with seems like a good idea for now.\n",
      "    '''\n",
      "    if ((off < 3) | (off != off)):\n",
      "        off = 3\n",
      "    xxx,yyy = Get_LatLonLim(lake_in.vertices)  # Get bounds of a lake\n",
      "    ymx = (Closest(rlat,yyy[0])) + off         # Gather the max and minimum range\n",
      "    ymn = (Closest(rlat,yyy[1])) - off         # also add an offset (measured in pixels)\n",
      "    xmx = (Closest(rlon,xxx[0])) + off         # Gather the max and minimum range\n",
      "    xmn = (Closest(rlon,xxx[1])) - off         # also add an offset (measured in pixels)\n",
      "    sub_rlat = rlat[ymn:ymx]\n",
      "    sub_rlon = rlon[xmn:xmx]\n",
      "    data_sub = Cdat[ymn:ymx,xmn:xmx]\n",
      "    if show == True:          # (If show is set to True, then make a plot to show what's what)\n",
      "        fig3 = plt.figure()\n",
      "        ax1 = fig3.add_subplot(111)\n",
      "        patch = patches.PathPatch(lake_rprj, facecolor='#06ebf6', lw=1)\n",
      "        ax1.add_patch(patch)      # ADD LAKE\n",
      "        ax1.set_ylabel('Lat. (Deg. N)')\n",
      "        ax1.set_xlabel('Lon. (Deg. E)')\n",
      "        ax1.set_title('Preview of trimmed climate data with lake overlaid')\n",
      "        ax1.imshow(data_sub,interpolation='none', cmap=cm.RdBu,\n",
      "                   extent=[sub_rlon[0],sub_rlon[-1],sub_rlat[0],sub_rlat[-1]],origin='lower')\n",
      "        plt.show(fig3)    \n",
      "        print shape(data_sub),type(data_sub)\n",
      "    return data_sub,sub_rlat,sub_rlon\n",
      "\n",
      "\n",
      "def Update_Progress(progress):\n",
      "    '''A nice solution to progress bars, all contained here (no need to load packages). \n",
      "    Update_Progress() : Displays or updates a console progress bar\n",
      "    Accepts a float between 0 and 1. Any int will be converted to a float.\n",
      "    A value under 0 represents a 'halt'.\n",
      "    A value at 1 or bigger represents 100%\n",
      "    Took this code from http://stackoverflow.com/questions/3160699/python-progress-bar\n",
      "    Testing shows the p-bar doesn't slow programs (tests showed +0.2 sec in loops of n=77)\n",
      "    '''\n",
      "    barLength = 40 # Modify this to change the length of the progress bar\n",
      "    status = \"\"\n",
      "    if isinstance(progress, int):\n",
      "        progress = float(progress)\n",
      "    if not isinstance(progress, float):\n",
      "        progress = 0\n",
      "        status = \"error: progress var must be float\\r\\n\"\n",
      "    if progress < 0:\n",
      "        progress = 0\n",
      "        status = \"Halt...\\r\\n\"\n",
      "    if progress >= 1:\n",
      "        progress = 1\n",
      "        status = \"Done...\\r\\n\"\n",
      "    block = int(round(barLength*progress))\n",
      "    text = \"\\rProgress: [{0}] {1}% {2}\".format( \"#\"*block + \"-\"*(barLength-block), int(progress*100), status)\n",
      "    sys.stdout.write(text)\n",
      "    sys.stdout.flush()\n",
      "    return\n",
      "\n",
      "def Weighted_Mean(weight_mask,sub_clim,chatty):\n",
      "    '''Purpose    - Reads in the 2D weight mask (from Pixel_Weights function) and the trimmed data from TrimToLake\n",
      "    and returns a weighted mean. This should be iterated for each time-step.\n",
      "    Input    - weight_mask: Pixel weights\n",
      "             - sub_clim: subset of the climate data (one time slice, lat lon subset)\n",
      "             - chatty: a true or false statement, if true, it will print some info on the weighting process.\n",
      "    Output   - val_out: the weighted mean value\n",
      "    '''\n",
      "    aaa = np.where(weight_mask > 0.000)      # Index where weights exist\n",
      "    if (len(aaa[0]) == 0):\n",
      "        print 'Error: no lake cover identified! :('\n",
      "    if (chatty == True):\n",
      "        print 'Lake covers',len(weight_mask[aaa]),' pixels'\n",
      "        print 'Actual weight values are :',weight_mask[aaa]\n",
      "        print 'Cum. sum of pixel weights (should end as 1.0):',cumsum(weight_mask[aaa])\n",
      "    val_out = 0\n",
      "    for n in xrange(len(aaa[0])):\n",
      "        val_out = val_out + weight_mask[aaa[0][n],aaa[1][n]] * sub_clim[aaa[0][n],aaa[1][n]]\n",
      "    return val_out\n"
     ],
     "language": "python",
     "metadata": {},
     "outputs": [],
     "prompt_number": 3
    },
    {
     "cell_type": "heading",
     "level": 2,
     "metadata": {},
     "source": [
      "Read Data"
     ]
    },
    {
     "cell_type": "code",
     "collapsed": false,
     "input": [
      "lake_data = 'Lakes/comsat_fetch.geojson'\n",
      "lake_geometry, lake_id, lake_name,lake_path = Read_Lakes(lake_data)   # Get Lake data\n",
      "\n",
      "clim_dat,rlat,rlon,time,drange,dexp = Tmp_CORDEX_Read()   # Temporary way of getting CORDEX data from a local file"
     ],
     "language": "python",
     "metadata": {},
     "outputs": [
      {
       "output_type": "stream",
       "stream": "stdout",
       "text": [
        "Read data for 77  lakes.\n",
        "Reading file: /uio/kant/geo-metos-u1/blaken/Data/CORDEX/tas_20960101-21001231.nc\n",
        "Experiment ID  rcp45\n",
        "Domain EUR-11\n",
        "Driving Experiment: ICHEC-EC-EARTH,rcp45,r1i1p1\n",
        "Experiment name: rcp45\n",
        "From Institute: KNMI\n"
       ]
      }
     ],
     "prompt_number": 4
    },
    {
     "cell_type": "heading",
     "level": 2,
     "metadata": {},
     "source": [
      "Simple (one thread, one lake, one time point) method of Processing the Data"
     ]
    },
    {
     "cell_type": "code",
     "collapsed": false,
     "input": [
      "num = 0                                              # Pick a test lake (will be automatic)\n",
      "\n",
      "lake_cart= Path_Make(lake_path[num][0][0][:])        # Create a lake polygon (lon,lat) - a path object \n",
      "lake_rprj = Path_Reproj(lake_cart,False)             # Reprojects the lake (False sets cartesian to rotated)\n",
      "\n",
      "Preview_Lake(lake_rprj)                              # Plot the lake out as a test (not needed)\n",
      "print 'Lake name', lake_name[num],\n",
      "print ', Area(km^2)=', Poly_Area2D(EqArea(lake_rprj.vertices)),\n",
      "print ', No. xy Datapoints=',len(lake_rprj.vertices)\n",
      "\n",
      "Show_LakeAndData(lake_rprj,clim_dat[0,:,:],rlat,rlon,zoom=0.5)  # Show overlay of the lake and CORDEX(zoom value focuses on lake)\n",
      "\n",
      "sub_clim,sub_rlat,sub_rlon = TrimToLake(lake_rprj,clim_dat[0,:,:],rlat,rlon,off = 3, show = True) # Subset area around lake\n",
      "\n",
      "weight_mask = Pixel_Weights(lake_rprj,sub_clim,sub_rlat,sub_rlon)   # Create a weighting mask for the subset\n",
      "Preview_Weights(lake_rprj,weight_mask,sub_rlat,sub_rlon)\n",
      "\n",
      "final_val = Weighted_Mean(weight_mask,sub_clim,chatty=True)\n",
      "print 'Weighted temperature =','%6.2f'%(final_val -272.15),'Deg C'"
     ],
     "language": "python",
     "metadata": {},
     "outputs": [
      {
       "metadata": {},
       "output_type": "display_data",
       "png": "[encoded data removed]",
       "text": [
        "<matplotlib.figure.Figure at 0x7f867b21b310>"
       ]
      },
      {
       "output_type": "stream",
       "stream": "stdout",
       "text": [
        "Lake name Gjersj\u00f8en , Area(km^2)=   2.63 , No. xy Datapoints= 579\n"
       ]
      },
      {
       "metadata": {},
       "output_type": "display_data",
       "png": "[encoded data removed]",
       "text": [
        "<matplotlib.figure.Figure at 0x7f867aedfd50>"
       ]
      },
      {
       "metadata": {},
       "output_type": "display_data",
       "png": "[encoded data removed]",
       "text": [
        "<matplotlib.figure.Figure at 0x7f86823e9350>"
       ]
      },
      {
       "output_type": "stream",
       "stream": "stdout",
       "text": [
        "(6, 6) <type 'numpy.ndarray'>\n"
       ]
      },
      {
       "metadata": {},
       "output_type": "display_data",
       "png": "[encoded data removed]",
       "text": [
        "<matplotlib.figure.Figure at 0x7f86802e8650>"
       ]
      },
      {
       "output_type": "stream",
       "stream": "stdout",
       "text": [
        "Lake covers 2  pixels\n",
        "Actual weight values are : [ 0.69201521  0.30798479]\n",
        "Cum. sum of pixel weights (should end as 1.0): [ 0.69201521  1.        ]\n",
        "Weighted temperature =   1.45 Deg C\n"
       ]
      }
     ],
     "prompt_number": 5
    },
    {
     "cell_type": "heading",
     "level": 2,
     "metadata": {},
     "source": [
      "Now, One lake, All time-points (no visual output), in a one line function (SINGLE THREAD)"
     ]
    },
    {
     "cell_type": "code",
     "collapsed": false,
     "input": [
      "def Means_Over_Lake(lake_num,lake_path=lake_path,lake_name=lake_name,\n",
      "                    clim_dat=clim_dat,rlat=rlat,rlon=rlon,time=time,drange=drange,dexp=dexp):\n",
      "    dout =[]\n",
      "    num = lake_num  # Work on a specific lake\n",
      "\n",
      "    lake_cart= Path_Make(lake_path[num][0][0][:])        # Create a lake polygon (lon,lat) - a path object \n",
      "    lake_rprj = Path_Reproj(lake_cart,False)             # Reprojects the lake (False sets cartesian to rotated)\n",
      "    sub_clim,sub_rlat,sub_rlon = TrimToLake(lake_rprj,clim_dat[0,:,:],rlat,rlon,off = 3, show = False) # Sub-area around lake...\n",
      "    weight_mask = Pixel_Weights(lake_rprj,sub_clim,sub_rlat,sub_rlon)   #...a weighting mask from the subset\n",
      "\n",
      "    print 'Lake', lake_name[num], Poly_Area2D(EqArea(lake_rprj.vertices)),'(km^2)'\n",
      "    \n",
      "    fig_lake = Plot_LakeAndData_Save(lake_rprj,clim_dat[0,:,:],rlat,rlon,zoom=0.10)  #Print to file a test plot for the lake\n",
      "    out = '/uio/kant/geo-metos-u1/blaken/Work/Python/ECCO/Outputs/'    \n",
      "    figname = Gen_FileName(lake_name[num],out,'.pdf')    \n",
      "    fig_lake.savefig(figname,dpi=72)\n",
      "    \n",
      "\n",
      "    # FOR EACH TIMESTEP NOW  (THIS BIT CAN BE MADE PARALELL/CONCURRENT THREADS)\n",
      "    #for t in xrange(len(time)):\n",
      "    #for t in xrange(10):\n",
      "    #    sub_clim,sub_rlat,sub_rlon = TrimToLake(lake_rprj,clim_dat[t,:,:],rlat,rlon,off = 3, show = False)\n",
      "    #    final_val = Weighted_Mean(weight_mask,sub_clim,chatty=False)\n",
      "    #    dout.append(final_val)\n",
      "        #print 'Timestep:',t, '  Weighted temperature =','%6.2f'%(final_val) #-272.15),'Deg C'\n",
      "\n",
      "    \n",
      "    #fnm_head=Gen_FName_Head(clim_dat.long_name)\n",
      "    #hcreate = 'Data = '+clim_dat.long_name+', time range of file = '+drange+' Model = '+dexp  \n",
      "         \n",
      "    #out = '/uio/kant/geo-metos-u1/blaken/Work/Python/ECCO/Outputs/'+fnm_head\n",
      "    #txtfname = Gen_FileName(out,lake_name[num],drange,'.txt.gz')       \n",
      "    #np.savetxt(txtfname,dout,fmt='%7.3f',newline='\\n', header=hcreate)\n",
      "    \n",
      "    return #dout"
     ],
     "language": "python",
     "metadata": {},
     "outputs": [],
     "prompt_number": 21
    },
    {
     "cell_type": "code",
     "collapsed": false,
     "input": [
      "%time Means_Over_Lake(51)"
     ],
     "language": "python",
     "metadata": {},
     "outputs": [
      {
       "output_type": "stream",
       "stream": "stdout",
       "text": [
        "Lake Tisj\u00f6n  27.46 (km^2)\n",
        "CPU times: user 2.63 s, sys: 3 ms, total: 2.63 s"
       ]
      },
      {
       "output_type": "stream",
       "stream": "stdout",
       "text": [
        "\n",
        "Wall time: 2.63 s\n"
       ]
      }
     ],
     "prompt_number": 83
    },
    {
     "cell_type": "code",
     "collapsed": false,
     "input": [
      "#fnm_head=Gen_FName_Head(clim_dat.long_name)\n",
      "#hcreate = 'Data = '+clim_dat.long_name+', time range of file = '+drange+' Model = '+dexp\n",
      "#print hcreate"
     ],
     "language": "python",
     "metadata": {},
     "outputs": [],
     "prompt_number": 85
    },
    {
     "cell_type": "heading",
     "level": 2,
     "metadata": {},
     "source": [
      "Multiple Lakes (All Time-points) running on different simultaneous threads (NOT YET WORKING)"
     ]
    },
    {
     "cell_type": "code",
     "collapsed": false,
     "input": [
      "from multiprocessing import Process,Pool,cpu_count\n",
      "#from multiprocessing import Queue, Pipe\n",
      "print 'Number of cores:',cpu_count()"
     ],
     "language": "python",
     "metadata": {},
     "outputs": [
      {
       "output_type": "stream",
       "stream": "stdout",
       "text": [
        "Number of cores: 8\n"
       ]
      }
     ],
     "prompt_number": 13
    },
    {
     "cell_type": "code",
     "collapsed": false,
     "input": [
      "def MT_Means_Over_Lake(lake_num,lake_path=lake_path,lake_name=lake_name,\n",
      "                    clim_dat=clim_dat,rlat=rlat,rlon=rlon,time=time,drange=drange,dexp=dexp):\n",
      "    \n",
      "    num = lake_num\n",
      "    #print 'No.',lake_num,' on PID',(os.getpid()),' Lake',lake_name[num],\n",
      "    \n",
      "    lake_cart= Path_Make(lake_path[num][0][0][:])\n",
      "    lake_rprj = Path_Reproj(lake_cart,False)             \n",
      "    sub_clim,sub_rlat,sub_rlon = TrimToLake(lake_rprj,clim_dat[0,:,:],rlat,rlon,off = 3, show = False)\n",
      "    weight_mask = Pixel_Weights(lake_rprj,sub_clim,sub_rlat,sub_rlon)\n",
      "   # print ' area=',Poly_Area2D(EqArea(lake_rprj.vertices)),'km^2'\n",
      "\n",
      "    \n",
      "    #fig_lake = Plot_LakeAndData_Save(lake_rprj,clim_dat[0,:,:],rlat,rlon,zoom=0.10)  #Test plot for the lake\n",
      "    #out = '/uio/kant/geo-metos-u1/blaken/Work/Python/ECCO/Outputs/'\n",
      "    #figname = Gen_FileName(out,lake_name[num],'fig','.pdf')         # Generate a file name from the lake name\n",
      "    #fig_lake.savefig(figname,dpi=72)                          # Save the test plot\n",
      "\n",
      "    tlist =[]\n",
      "    for t in xrange(30):\n",
      "    #for t in xrange(len(time)):\n",
      "        sub_clim,sub_rlat,sub_rlon = TrimToLake(lake_rprj,clim_dat[t,:,:],rlat,rlon,off = 3, show = False)\n",
      "        final_val = Weighted_Mean(weight_mask,sub_clim,chatty=False)\n",
      "        tlist.append(final_val)\n",
      "        #print 'Timestep:',t, '  Weighted temperature =','%6.2f'%(final_val) #-272.15),'Deg C'\n",
      "    \n",
      "    fnm_head=Gen_FName_Head(clim_dat.long_name)\n",
      "    hcreate = 'Data = '+clim_dat.long_name+', time range of file = '+drange+' Model = '+dexp  \n",
      "         \n",
      "    out = '/uio/kant/geo-metos-u1/blaken/Work/Python/ECCO/Outputs/'+fnm_head\n",
      "    txtfname = Gen_FileName(out,lake_name[num],drange,'.txt.gz')       \n",
      "    np.savetxt(txtfname,tlist,fmt='%7.3f',newline='\\n', header=hcreate)\n",
      "        \n",
      "    return"
     ],
     "language": "python",
     "metadata": {},
     "outputs": [],
     "prompt_number": 16
    },
    {
     "cell_type": "code",
     "collapsed": false,
     "input": [
      "#%time tlist = MT_Means_Over_Lake(6)"
     ],
     "language": "python",
     "metadata": {},
     "outputs": [],
     "prompt_number": 15
    },
    {
     "cell_type": "code",
     "collapsed": false,
     "input": [],
     "language": "python",
     "metadata": {},
     "outputs": [],
     "prompt_number": 15
    },
    {
     "cell_type": "code",
     "collapsed": false,
     "input": [
      "%%time\n",
      "\n",
      "jobs = []\n",
      "for i in range(len(lake_name)):\n",
      "    p = Process(target=MT_Means_Over_Lake, args=(i,))\n",
      "    jobs.append(p)\n",
      "\n",
      "for n,i in enumerate(jobs):\n",
      "    i.start()          # Start the processes\n",
      "    i.join()           # End the process as they finish (kill zombies!)\n",
      "    Update_Progress(float(n)/float(len(jobs)-1.))\n",
      "    \n",
      "print '\\n'+'Lake processing complete' "
     ],
     "language": "python",
     "metadata": {},
     "outputs": [
      {
       "output_type": "stream",
       "stream": "stdout",
       "text": [
        "\r",
        "Progress: [----------------------------------------] 0% "
       ]
      },
      {
       "output_type": "stream",
       "stream": "stdout",
       "text": [
        "\r",
        "Progress: [#---------------------------------------] 1% "
       ]
      },
      {
       "output_type": "stream",
       "stream": "stdout",
       "text": [
        "\r",
        "Progress: [#---------------------------------------] 2% "
       ]
      },
      {
       "output_type": "stream",
       "stream": "stdout",
       "text": [
        "\r",
        "Progress: [##--------------------------------------] 3% "
       ]
      },
      {
       "output_type": "stream",
       "stream": "stdout",
       "text": [
        "\r",
        "Progress: [##--------------------------------------] 5% "
       ]
      },
      {
       "output_type": "stream",
       "stream": "stdout",
       "text": [
        "\r",
        "Progress: [###-------------------------------------] 6% "
       ]
      },
      {
       "output_type": "stream",
       "stream": "stdout",
       "text": [
        "\r",
        "Progress: [###-------------------------------------] 7% "
       ]
      },
      {
       "output_type": "stream",
       "stream": "stdout",
       "text": [
        "\r",
        "Progress: [####------------------------------------] 9% "
       ]
      },
      {
       "output_type": "stream",
       "stream": "stdout",
       "text": [
        "\r",
        "Progress: [####------------------------------------] 10% "
       ]
      },
      {
       "output_type": "stream",
       "stream": "stdout",
       "text": [
        "\r",
        "Progress: [#####-----------------------------------] 11% "
       ]
      },
      {
       "output_type": "stream",
       "stream": "stdout",
       "text": [
        "\r",
        "Progress: [#####-----------------------------------] 13% "
       ]
      },
      {
       "output_type": "stream",
       "stream": "stdout",
       "text": [
        "\r",
        "Progress: [######----------------------------------] 14% "
       ]
      },
      {
       "output_type": "stream",
       "stream": "stdout",
       "text": [
        "\r",
        "Progress: [######----------------------------------] 15% "
       ]
      },
      {
       "output_type": "stream",
       "stream": "stdout",
       "text": [
        "\r",
        "Progress: [#######---------------------------------] 17% "
       ]
      },
      {
       "output_type": "stream",
       "stream": "stdout",
       "text": [
        "\r",
        "Progress: [#######---------------------------------] 18% "
       ]
      },
      {
       "output_type": "stream",
       "stream": "stdout",
       "text": [
        "\r",
        "Progress: [########--------------------------------] 19% "
       ]
      },
      {
       "output_type": "stream",
       "stream": "stdout",
       "text": [
        "\r",
        "Progress: [########--------------------------------] 21% "
       ]
      },
      {
       "output_type": "stream",
       "stream": "stdout",
       "text": [
        "\r",
        "Progress: [#########-------------------------------] 22% "
       ]
      },
      {
       "output_type": "stream",
       "stream": "stdout",
       "text": [
        "\r",
        "Progress: [#########-------------------------------] 23% "
       ]
      },
      {
       "output_type": "stream",
       "stream": "stdout",
       "text": [
        "\r",
        "Progress: [##########------------------------------] 25% "
       ]
      },
      {
       "output_type": "stream",
       "stream": "stdout",
       "text": [
        "\r",
        "Progress: [###########-----------------------------] 26% "
       ]
      },
      {
       "output_type": "stream",
       "stream": "stdout",
       "text": [
        "\r",
        "Progress: [###########-----------------------------] 27% "
       ]
      },
      {
       "output_type": "stream",
       "stream": "stdout",
       "text": [
        "\r",
        "Progress: [############----------------------------] 28% "
       ]
      },
      {
       "output_type": "stream",
       "stream": "stdout",
       "text": [
        "\r",
        "Progress: [############----------------------------] 30% "
       ]
      },
      {
       "output_type": "stream",
       "stream": "stdout",
       "text": [
        "\r",
        "Progress: [#############---------------------------] 31% "
       ]
      },
      {
       "output_type": "stream",
       "stream": "stdout",
       "text": [
        "\r",
        "Progress: [#############---------------------------] 32% "
       ]
      },
      {
       "output_type": "stream",
       "stream": "stdout",
       "text": [
        "\r",
        "Progress: [##############--------------------------] 34% "
       ]
      },
      {
       "output_type": "stream",
       "stream": "stdout",
       "text": [
        "\r",
        "Progress: [##############--------------------------] 35% "
       ]
      },
      {
       "output_type": "stream",
       "stream": "stdout",
       "text": [
        "\r",
        "Progress: [###############-------------------------] 36% "
       ]
      },
      {
       "output_type": "stream",
       "stream": "stdout",
       "text": [
        "\r",
        "Progress: [###############-------------------------] 38% "
       ]
      },
      {
       "output_type": "stream",
       "stream": "stdout",
       "text": [
        "\r",
        "Progress: [################------------------------] 39% "
       ]
      },
      {
       "output_type": "stream",
       "stream": "stdout",
       "text": [
        "\r",
        "Progress: [################------------------------] 40% "
       ]
      },
      {
       "output_type": "stream",
       "stream": "stdout",
       "text": [
        "\r",
        "Progress: [#################-----------------------] 42% "
       ]
      },
      {
       "output_type": "stream",
       "stream": "stdout",
       "text": [
        "\r",
        "Progress: [#################-----------------------] 43% "
       ]
      },
      {
       "output_type": "stream",
       "stream": "stdout",
       "text": [
        "\r",
        "Progress: [##################----------------------] 44% "
       ]
      },
      {
       "output_type": "stream",
       "stream": "stdout",
       "text": [
        "\r",
        "Progress: [##################----------------------] 46% "
       ]
      },
      {
       "output_type": "stream",
       "stream": "stdout",
       "text": [
        "\r",
        "Progress: [###################---------------------] 47% "
       ]
      },
      {
       "output_type": "stream",
       "stream": "stdout",
       "text": [
        "\r",
        "Progress: [###################---------------------] 48% "
       ]
      },
      {
       "output_type": "stream",
       "stream": "stdout",
       "text": [
        "\r",
        "Progress: [####################--------------------] 50% "
       ]
      },
      {
       "output_type": "stream",
       "stream": "stdout",
       "text": [
        "\r",
        "Progress: [#####################-------------------] 51% "
       ]
      },
      {
       "output_type": "stream",
       "stream": "stdout",
       "text": [
        "\r",
        "Progress: [#####################-------------------] 52% "
       ]
      },
      {
       "output_type": "stream",
       "stream": "stdout",
       "text": [
        "\r",
        "Progress: [######################------------------] 53% "
       ]
      },
      {
       "output_type": "stream",
       "stream": "stdout",
       "text": [
        "\r",
        "Progress: [######################------------------] 55% "
       ]
      },
      {
       "output_type": "stream",
       "stream": "stdout",
       "text": [
        "\r",
        "Progress: [#######################-----------------] 56% "
       ]
      },
      {
       "output_type": "stream",
       "stream": "stdout",
       "text": [
        "\r",
        "Progress: [#######################-----------------] 57% "
       ]
      },
      {
       "output_type": "stream",
       "stream": "stdout",
       "text": [
        "\r",
        "Progress: [########################----------------] 59% "
       ]
      },
      {
       "output_type": "stream",
       "stream": "stdout",
       "text": [
        "\r",
        "Progress: [########################----------------] 60% "
       ]
      },
      {
       "output_type": "stream",
       "stream": "stdout",
       "text": [
        "\r",
        "Progress: [#########################---------------] 61% "
       ]
      },
      {
       "output_type": "stream",
       "stream": "stdout",
       "text": [
        "\r",
        "Progress: [#########################---------------] 63% "
       ]
      },
      {
       "output_type": "stream",
       "stream": "stdout",
       "text": [
        "\r",
        "Progress: [##########################--------------] 64% "
       ]
      },
      {
       "output_type": "stream",
       "stream": "stdout",
       "text": [
        "\r",
        "Progress: [##########################--------------] 65% "
       ]
      },
      {
       "output_type": "stream",
       "stream": "stdout",
       "text": [
        "\r",
        "Progress: [###########################-------------] 67% "
       ]
      },
      {
       "output_type": "stream",
       "stream": "stdout",
       "text": [
        "\r",
        "Progress: [###########################-------------] 68% "
       ]
      },
      {
       "output_type": "stream",
       "stream": "stdout",
       "text": [
        "\r",
        "Progress: [############################------------] 69% "
       ]
      },
      {
       "output_type": "stream",
       "stream": "stdout",
       "text": [
        "\r",
        "Progress: [############################------------] 71% "
       ]
      },
      {
       "output_type": "stream",
       "stream": "stdout",
       "text": [
        "\r",
        "Progress: [#############################-----------] 72% "
       ]
      },
      {
       "output_type": "stream",
       "stream": "stdout",
       "text": [
        "\r",
        "Progress: [#############################-----------] 73% "
       ]
      },
      {
       "output_type": "stream",
       "stream": "stdout",
       "text": [
        "\r",
        "Progress: [##############################----------] 75% "
       ]
      },
      {
       "output_type": "stream",
       "stream": "stdout",
       "text": [
        "\r",
        "Progress: [###############################---------] 76% "
       ]
      },
      {
       "output_type": "stream",
       "stream": "stdout",
       "text": [
        "\r",
        "Progress: [###############################---------] 77% "
       ]
      },
      {
       "output_type": "stream",
       "stream": "stdout",
       "text": [
        "\r",
        "Progress: [################################--------] 78% "
       ]
      },
      {
       "output_type": "stream",
       "stream": "stdout",
       "text": [
        "\r",
        "Progress: [################################--------] 80% "
       ]
      },
      {
       "output_type": "stream",
       "stream": "stdout",
       "text": [
        "\r",
        "Progress: [#################################-------] 81% "
       ]
      },
      {
       "output_type": "stream",
       "stream": "stdout",
       "text": [
        "\r",
        "Progress: [#################################-------] 82% "
       ]
      },
      {
       "output_type": "stream",
       "stream": "stdout",
       "text": [
        "\r",
        "Progress: [##################################------] 84% "
       ]
      },
      {
       "output_type": "stream",
       "stream": "stdout",
       "text": [
        "\r",
        "Progress: [##################################------] 85% "
       ]
      },
      {
       "output_type": "stream",
       "stream": "stdout",
       "text": [
        "\r",
        "Progress: [###################################-----] 86% "
       ]
      },
      {
       "output_type": "stream",
       "stream": "stdout",
       "text": [
        "\r",
        "Progress: [###################################-----] 88% "
       ]
      },
      {
       "output_type": "stream",
       "stream": "stdout",
       "text": [
        "\r",
        "Progress: [####################################----] 89% "
       ]
      },
      {
       "output_type": "stream",
       "stream": "stdout",
       "text": [
        "\r",
        "Progress: [####################################----] 90% "
       ]
      },
      {
       "output_type": "stream",
       "stream": "stdout",
       "text": [
        "\r",
        "Progress: [#####################################---] 92% "
       ]
      },
      {
       "output_type": "stream",
       "stream": "stdout",
       "text": [
        "\r",
        "Progress: [#####################################---] 93% "
       ]
      },
      {
       "output_type": "stream",
       "stream": "stdout",
       "text": [
        "\r",
        "Progress: [######################################--] 94% "
       ]
      },
      {
       "output_type": "stream",
       "stream": "stdout",
       "text": [
        "\r",
        "Progress: [######################################--] 96% "
       ]
      },
      {
       "output_type": "stream",
       "stream": "stdout",
       "text": [
        "\r",
        "Progress: [#######################################-] 97% "
       ]
      },
      {
       "output_type": "stream",
       "stream": "stdout",
       "text": [
        "\r",
        "Progress: [#######################################-] 98% "
       ]
      },
      {
       "output_type": "stream",
       "stream": "stdout",
       "text": [
        "\r",
        "Progress: [########################################] 100% Done...\r\n"
       ]
      },
      {
       "output_type": "stream",
       "stream": "stdout",
       "text": [
        "\n",
        "Lake processing complete\n",
        "CPU times: user 101 ms, sys: 215 ms, total: 316 ms\n",
        "Wall time: 9min 33s\n"
       ]
      }
     ],
     "prompt_number": 16
    },
    {
     "cell_type": "code",
     "collapsed": false,
     "input": [
      "p1=Process(target=MT_Means_Over_Lake,args=(1,))\n",
      "p2=Process(target=MT_Means_Over_Lake,args=(2,))\n",
      "p3=Process(target=MT_Means_Over_Lake,args=(3,))\n",
      "p4=Process(target=MT_Means_Over_Lake,args=(4,))\n",
      "\n",
      "p1.start()\n",
      "p2.start()\n",
      "p3.start()\n",
      "#p4.start()\n",
      "\n",
      "#p1.join()\n",
      "#p2.join()\n",
      "#p3.join()\n",
      "#p4.join()\n"
     ],
     "language": "python",
     "metadata": {},
     "outputs": [
      {
       "output_type": "stream",
       "stream": "stderr",
       "text": [
        "Process Process-26:\n",
        "Process Process-30:\n",
        "Traceback (most recent call last):\n",
        "Traceback (most recent call last):\n",
        "  File \"/site/opt/python/anaconda/lib/python2.7/multiprocessing/process.py\", line 258, in _bootstrap\n",
        "  File \"/site/opt/python/anaconda/lib/python2.7/multiprocessing/process.py\", line 258, in _bootstrap\n",
        "    self.run()\n",
        "    self.run()\n",
        "  File \"/site/opt/python/anaconda/lib/python2.7/multiprocessing/process.py\", line 114, in run\n",
        "  File \"/site/opt/python/anaconda/lib/python2.7/multiprocessing/process.py\", line 114, in run\n",
        "    self._target(*self._args, **self._kwargs)\n",
        "    self._target(*self._args, **self._kwargs)\n",
        "  File \"<ipython-input-16-fb203639de09>\", line 22, in MT_Means_Over_Lake\n",
        "  File \"<ipython-input-16-fb203639de09>\", line 22, in MT_Means_Over_Lake\n",
        "    sub_clim,sub_rlat,sub_rlon = TrimToLake(lake_rprj,clim_dat[t,:,:],rlat,rlon,off = 3, show = False)\n",
        "    sub_clim,sub_rlat,sub_rlon = TrimToLake(lake_rprj,clim_dat[t,:,:],rlat,rlon,off = 3, show = False)\n",
        "  File \"netCDF4.pyx\", line 2754, in netCDF4.Variable.__getitem__ (netCDF4.c:34243)\n",
        "  File \"netCDF4.pyx\", line 2754, in netCDF4.Variable.__getitem__ (netCDF4.c:34243)\n",
        "  File \"netCDF4.pyx\", line 3271, in netCDF4.Variable._get (netCDF4.c:40343)\n",
        "  File \"netCDF4.pyx\", line 3271, in netCDF4.Variable._get (netCDF4.c:40343)\n",
        "RuntimeError: NetCDF: HDF error\n",
        "RuntimeError: NetCDF: HDF error\n"
       ]
      }
     ],
     "prompt_number": 23
    },
    {
     "cell_type": "code",
     "collapsed": false,
     "input": [
      "# Going to use the map function, which takes a function, and a sequence as inputs, and applies\n",
      "# the sequence to the function."
     ],
     "language": "python",
     "metadata": {},
     "outputs": [],
     "prompt_number": 19
    },
    {
     "cell_type": "code",
     "collapsed": false,
     "input": [
      "from multiprocessing.dummy import Pool as Threadpool\n",
      "from multiprocessing import cpu_count\n",
      "Pool = Threadpool(int(cpu_count() -1))\n",
      "#seq=range(len(lake_name))\n",
      "seq=range(10)"
     ],
     "language": "python",
     "metadata": {},
     "outputs": [],
     "prompt_number": 6
    },
    {
     "cell_type": "code",
     "collapsed": false,
     "input": [],
     "language": "python",
     "metadata": {},
     "outputs": [],
     "prompt_number": 39
    },
    {
     "cell_type": "code",
     "collapsed": false,
     "input": [
      "%%time\n",
      "Pool.map(MT_Means_Over_Lake,seq)\n",
      "Pool.close()\n",
      "Pool.join()"
     ],
     "language": "python",
     "metadata": {},
     "outputs": [
      {
       "output_type": "stream",
       "stream": "stdout",
       "text": [
        "CPU times: user 2min 30s, sys: 6.19 s, total: 2min 36s\n",
        "Wall time: 2min 28s\n"
       ]
      }
     ],
     "prompt_number": 10
    },
    {
     "cell_type": "code",
     "collapsed": false,
     "input": [
      "map?"
     ],
     "language": "python",
     "metadata": {},
     "outputs": [],
     "prompt_number": 7
    },
    {
     "cell_type": "code",
     "collapsed": false,
     "input": [
      "from multiprocessing import Pool as Px\n",
      "Px?"
     ],
     "language": "python",
     "metadata": {},
     "outputs": [],
     "prompt_number": 12
    },
    {
     "cell_type": "code",
     "collapsed": false,
     "input": [],
     "language": "python",
     "metadata": {},
     "outputs": []
    }
   ],
   "metadata": {}
  }
 ]
}