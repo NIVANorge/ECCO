{
 "metadata": {
  "name": ""
 },
 "nbformat": 3,
 "nbformat_minor": 0,
 "worksheets": [
  {
   "cells": [
    {
     "cell_type": "heading",
     "level": 1,
     "metadata": {},
     "source": [
      "OpenDAP /THREDDS testing"
     ]
    },
    {
     "cell_type": "markdown",
     "metadata": {},
     "source": [
      "This workbook is a test of the potential ways to implement a remote access and download of data using OpenDAP/THREDDS from the CORDEX downscaled climate model data. From this, we could then plug in to the processing code I have already written.\n",
      "\n",
      "ESG has a CORDEX help wiki at https://github.com/ESGF/esgf.github.io/wiki"
     ]
    },
    {
     "cell_type": "markdown",
     "metadata": {},
     "source": [
      "There is a nice answer relevant to this at: http://askbot.esgf.org/question/2024/dowload-of-data-for-a-selected-range-of-cells/\n",
      "\n",
      "OpenDAP can enable a file to be addressed on a remote server as if it were local, but it must be addressed as if it were a URL. Instructions on how to subset the data can be attached to this request. So for me, the first step is to find out where the data I want to access are held. An example of the addressing to access a subset of some CORDEX data is the following:\n",
      " http://cordexesg.dmi.dk/thredds/dodsC/cordex_general/cordex/output/EUR-11/DMI/ICHEC-EC-EARTH/rcp45/r3i1p1/DMI-HIRHAM5/v1/day/huss/v20131119/huss_EUR-11_ICHEC-EC-EARTH_rcp45_r3i1p1_DMI-HIRHAM5_v1_day_20060101-20101231.nc.dods?huss[0:1824][104:257][104:212]"
     ]
    },
    {
     "cell_type": "code",
     "collapsed": false,
     "input": [
      "import numpy as np\n",
      "import matplotlib.pyplot as plt\n",
      "#from pydap.parsers.dds import DDSParser\n",
      "#from pydap.parsers.das import DASParser\n",
      "#from pydap.xdr import DapUnpacker \n",
      "from pydap.client import open_url\n",
      "import pprint"
     ],
     "language": "python",
     "metadata": {},
     "outputs": [],
     "prompt_number": 54
    },
    {
     "cell_type": "code",
     "collapsed": false,
     "input": [
      "dataset = open_url('http://test.opendap.org/dap/data/nc/coads_climatology.nc')"
     ],
     "language": "python",
     "metadata": {},
     "outputs": [],
     "prompt_number": 55
    },
    {
     "cell_type": "code",
     "collapsed": false,
     "input": [
      "print dataset.keys()   # The keys command shows the dictionary of datasets you can call from.\n",
      "print\n",
      "sst = dataset['SST']\n",
      "print sst.type\n",
      "print sst.shape\n",
      "print sst.dimensions\n",
      "print sst.maps"
     ],
     "language": "python",
     "metadata": {},
     "outputs": [
      {
       "output_type": "stream",
       "stream": "stdout",
       "text": [
        "['COADSX', 'COADSY', 'TIME', 'SST', 'AIRT', 'UWND', 'VWND']\n",
        "\n",
        "<class 'pydap.model.Float32'>\n",
        "(12, 90, 180)\n",
        "('TIME', 'COADSY', 'COADSX')\n",
        "{'TIME': <pydap.model.BaseType object at 0x4721ad0>, 'COADSY': <pydap.model.BaseType object at 0x4721810>, 'COADSX': <pydap.model.BaseType object at 0x4721f50>}\n"
       ]
      }
     ],
     "prompt_number": 56
    },
    {
     "cell_type": "code",
     "collapsed": false,
     "input": [
      "print sst.keys()\n",
      "time =  sst['TIME']\n",
      "lat = sst['COADSY']\n",
      "lon =sst['COADSX']"
     ],
     "language": "python",
     "metadata": {},
     "outputs": [
      {
       "output_type": "stream",
       "stream": "stdout",
       "text": [
        "['SST', 'TIME', 'COADSY', 'COADSX']\n"
       ]
      }
     ],
     "prompt_number": 19
    },
    {
     "cell_type": "code",
     "collapsed": false,
     "input": [
      "print sst['COADSY'][:]"
     ],
     "language": "python",
     "metadata": {},
     "outputs": [
      {
       "output_type": "stream",
       "stream": "stdout",
       "text": [
        "[-89. -87. -85. -83. -81. -79. -77. -75. -73. -71. -69. -67. -65. -63. -61.\n",
        " -59. -57. -55. -53. -51. -49. -47. -45. -43. -41. -39. -37. -35. -33. -31.\n",
        " -29. -27. -25. -23. -21. -19. -17. -15. -13. -11.  -9.  -7.  -5.  -3.  -1.\n",
        "   1.   3.   5.   7.   9.  11.  13.  15.  17.  19.  21.  23.  25.  27.  29.\n",
        "  31.  33.  35.  37.  39.  41.  43.  45.  47.  49.  51.  53.  55.  57.  59.\n",
        "  61.  63.  65.  67.  69.  71.  73.  75.  77.  79.  81.  83.  85.  87.  89.]\n"
       ]
      }
     ],
     "prompt_number": 20
    },
    {
     "cell_type": "code",
     "collapsed": false,
     "input": [
      "%%time\n",
      "time = sst['TIME'][:]                  # This is how you actually download the specified data\n",
      "lat  = sst['COADSX'][:]                # Here is the lat / lon download\n",
      "lon  = sst['COADSY'][:]"
     ],
     "language": "python",
     "metadata": {},
     "outputs": [
      {
       "output_type": "stream",
       "stream": "stdout",
       "text": [
        "CPU times: user 14 ms, sys: 3 ms, total: 17 ms\n",
        "Wall time: 25.2 s\n"
       ]
      }
     ],
     "prompt_number": 57
    },
    {
     "cell_type": "code",
     "collapsed": false,
     "input": [
      "print lat\n",
      "print\n",
      "print time\n",
      "print\n",
      "print lon"
     ],
     "language": "python",
     "metadata": {},
     "outputs": [
      {
       "output_type": "stream",
       "stream": "stdout",
       "text": [
        "[  21.   23.   25.   27.   29.   31.   33.   35.   37.   39.   41.   43.\n",
        "   45.   47.   49.   51.   53.   55.   57.   59.   61.   63.   65.   67.\n",
        "   69.   71.   73.   75.   77.   79.   81.   83.   85.   87.   89.   91.\n",
        "   93.   95.   97.   99.  101.  103.  105.  107.  109.  111.  113.  115.\n",
        "  117.  119.  121.  123.  125.  127.  129.  131.  133.  135.  137.  139.\n",
        "  141.  143.  145.  147.  149.  151.  153.  155.  157.  159.  161.  163.\n",
        "  165.  167.  169.  171.  173.  175.  177.  179.  181.  183.  185.  187.\n",
        "  189.  191.  193.  195.  197.  199.  201.  203.  205.  207.  209.  211.\n",
        "  213.  215.  217.  219.  221.  223.  225.  227.  229.  231.  233.  235.\n",
        "  237.  239.  241.  243.  245.  247.  249.  251.  253.  255.  257.  259.\n",
        "  261.  263.  265.  267.  269.  271.  273.  275.  277.  279.  281.  283.\n",
        "  285.  287.  289.  291.  293.  295.  297.  299.  301.  303.  305.  307.\n",
        "  309.  311.  313.  315.  317.  319.  321.  323.  325.  327.  329.  331.\n",
        "  333.  335.  337.  339.  341.  343.  345.  347.  349.  351.  353.  355.\n",
        "  357.  359.  361.  363.  365.  367.  369.  371.  373.  375.  377.  379.]\n",
        "\n",
        "[  366.     1096.485  1826.97   2557.455  3287.94   4018.425  4748.91\n",
        "  5479.395  6209.88   6940.365  7670.85   8401.335]\n",
        "\n",
        "[-89. -87. -85. -83. -81. -79. -77. -75. -73. -71. -69. -67. -65. -63. -61.\n",
        " -59. -57. -55. -53. -51. -49. -47. -45. -43. -41. -39. -37. -35. -33. -31.\n",
        " -29. -27. -25. -23. -21. -19. -17. -15. -13. -11.  -9.  -7.  -5.  -3.  -1.\n",
        "   1.   3.   5.   7.   9.  11.  13.  15.  17.  19.  21.  23.  25.  27.  29.\n",
        "  31.  33.  35.  37.  39.  41.  43.  45.  47.  49.  51.  53.  55.  57.  59.\n",
        "  61.  63.  65.  67.  69.  71.  73.  75.  77.  79.  81.  83.  85.  87.  89.]\n"
       ]
      }
     ],
     "prompt_number": 27
    },
    {
     "cell_type": "code",
     "collapsed": false,
     "input": [
      "pprint.pprint(sst.attributes)\n",
      "print\n",
      "print sst.units\n",
      "print\n",
      "print sst.shape"
     ],
     "language": "python",
     "metadata": {},
     "outputs": [
      {
       "output_type": "stream",
       "stream": "stdout",
       "text": [
        "{'_FillValue': -9.999999790214768e+33,\n",
        " 'history': 'From coads_climatology',\n",
        " 'long_name': 'SEA SURFACE TEMPERATURE',\n",
        " 'missing_value': -9.999999790214768e+33,\n",
        " 'units': 'Deg C'}\n",
        "\n",
        "Deg C\n",
        "\n",
        "(12, 90, 180)\n"
       ]
      }
     ],
     "prompt_number": 29
    },
    {
     "cell_type": "code",
     "collapsed": false,
     "input": [
      "%%time\n",
      "tst1 = sst[0,:,:]   # Here is how you would download the first time-step for all lat/lon points \n",
      "tst2 = sst[:,0:5,0:10]    # Here is an example of how you would subset the lat / lon points\n",
      "\n",
      "# Note, not sure what the exact relationship is b/w the time needed for a data request and size / subsetting"
     ],
     "language": "python",
     "metadata": {},
     "outputs": [
      {
       "output_type": "stream",
       "stream": "stdout",
       "text": [
        "CPU times: user 38 ms, sys: 9 ms, total: 47 ms\n",
        "Wall time: 15.5 s\n"
       ]
      }
     ],
     "prompt_number": 76
    },
    {
     "cell_type": "code",
     "collapsed": false,
     "input": [
      "tst3=[]\n",
      "print tst1.shape,'\\n'\n",
      "tst3 = np.squeeze(tst1)    # The np.squeeze function removes the extra dimension remaining from time\n",
      "print tst3.shape           "
     ],
     "language": "python",
     "metadata": {},
     "outputs": [
      {
       "output_type": "stream",
       "stream": "stdout",
       "text": [
        "(1, 90, 180) \n",
        "\n",
        "(90, 180)\n"
       ]
      }
     ],
     "prompt_number": 77
    },
    {
     "cell_type": "code",
     "collapsed": false,
     "input": [
      "plt.imshow(tst3,interpolation='none', extent=[lat[0],lat[-1],lon[0],lon[-1]], cmap=cm.RdBu,origin='lower')\n",
      "plt.show()"
     ],
     "language": "python",
     "metadata": {},
     "outputs": [
      {
       "metadata": {},
       "output_type": "display_data",
       "png": "[encoded data removed]",
       "text": [
        "<matplotlib.figure.Figure at 0x4721e90>"
       ]
      }
     ],
     "prompt_number": 78
    },
    {
     "cell_type": "heading",
     "level": 2,
     "metadata": {},
     "source": [
      "Test reading CORDEX data"
     ]
    },
    {
     "cell_type": "markdown",
     "metadata": {},
     "source": [
      "Okay, time to graduate and get some real data for the project. We want to access CORDEX, over Europe (Region 4). There is some info on this at http://euro-cordex.net/EURO-CORDEX-Data.2613.0.html \n",
      "\n",
      "Essentially, the data is accessed from the Earth Systems Grid Federation: http://esgf-data.dkrz.de/esgf-web-fe/\n",
      "\n",
      "ESGF> CORDEX > EUR-11 \n",
      "EUR-11 data is 0.11 $\\times$ 0.11$^{o}$ data ($\\sim12.5 km^{2}$) \n",
      "\n",
      "Note the EUR-11 data is from one single regional climate model, but run under diffrernt RCP scenarios, and forced with different GCM data\n",
      "\n",
      "\n",
      "CORDEX name convetions are as follows:\n",
      "VariableName_Domain_GCMModelName_CMIP5ExperimentName_CMIP5EnsembleMember_RCMModelName_RCMVersionID_Frequency_StartTime-EndTime.nc\n",
      "\n",
      "Ensemble member data is in the form of r< N >i< M >p< L > for which the definition is at http://cmip-pcmdi.llnl.gov/cmip5/docs/cmip5_data_reference_syntax_v0-25_clean.pdf\n",
      "\n"
     ]
    },
    {
     "cell_type": "code",
     "collapsed": false,
     "input": [
      "# 'http://webportals.ipsl.jussieu.fr/thredds/dodsC/EUROCORDEX/output/tas_seasmax/rcp45/FIN/tas_seasmax_rcp45_CNRM-CERFACS-CNRM-CM5_CLMcom-CCLM4-8-17_FIN_DJF.nc'\n",
      "\n",
      "\t\n",
      "CORDEX_pth ='http://carbon.dkrz.de/thredds/dodsC/cordex/output/EUR-11/KNMI/ICHEC-EC-EARTH/rcp45/r1i1p1/KNMI-RACMO22E/v1/day/tas/v20140402/tas_EUR-11_ICHEC-EC-EARTH_rcp45_r1i1p1_KNMI-RACMO22E_v1_day_20960101-21001231.nc'\n",
      "\n",
      "Cpth='http://carbon.dkrz.de/thredds/dodsC/cordex/output/EUR-11/KNMI/ICHEC-EC-EARTH/rcp45/r1i1p1/KNMI-RACMO22E/v1/mon/tas/v20140402/tas_EUR-11_ICHEC-EC-EARTH_rcp45_r1i1p1_KNMI-RACMO22E_v1_mon_205101-206012.nc'\n",
      "\n",
      "c2 = 'http://webportals.ipsl.jussieu.fr/thredds/dodsC/EUROCORDEX/output/tas_yearmean/rcp85/tas_yearmean_rcp85_ICHEC-EC-EARTH_CLMcom-CCLM4-8-17_YEAR.nc.html'\n",
      "\n",
      "cordex = open_url(c2)\n"
     ],
     "language": "python",
     "metadata": {},
     "outputs": [
      {
       "ename": "ServerError",
       "evalue": "'Server error 404: \"EUROCORDEX/output/tas_yearmean/rcp85/tas_yearmean_rcp85_ICHEC-EC-EARTH_CLMcom-CCLM4-8-17_YEAR.nc.html\"'",
       "output_type": "pyerr",
       "traceback": [
        "\u001b[1;31m---------------------------------------------------------------------------\u001b[0m\n\u001b[1;31mServerError\u001b[0m                               Traceback (most recent call last)",
        "\u001b[1;32m<ipython-input-98-f839f0b4c38d>\u001b[0m in \u001b[0;36m<module>\u001b[1;34m()\u001b[0m\n\u001b[0;32m      8\u001b[0m \u001b[0mc2\u001b[0m \u001b[1;33m=\u001b[0m \u001b[1;34m'http://webportals.ipsl.jussieu.fr/thredds/dodsC/EUROCORDEX/output/tas_yearmean/rcp85/tas_yearmean_rcp85_ICHEC-EC-EARTH_CLMcom-CCLM4-8-17_YEAR.nc.html'\u001b[0m\u001b[1;33m\u001b[0m\u001b[0m\n\u001b[0;32m      9\u001b[0m \u001b[1;33m\u001b[0m\u001b[0m\n\u001b[1;32m---> 10\u001b[1;33m \u001b[0mcordex\u001b[0m \u001b[1;33m=\u001b[0m \u001b[0mopen_url\u001b[0m\u001b[1;33m(\u001b[0m\u001b[0mc2\u001b[0m\u001b[1;33m)\u001b[0m\u001b[1;33m\u001b[0m\u001b[0m\n\u001b[0m",
        "\u001b[1;32m/mn/vann/rhel6/opt/python/anaconda/lib/python2.7/site-packages/pydap/client.pyc\u001b[0m in \u001b[0;36mopen_url\u001b[1;34m(url)\u001b[0m\n\u001b[0;32m     58\u001b[0m     \"\"\"\n\u001b[0;32m     59\u001b[0m     \u001b[1;32mfor\u001b[0m \u001b[0mresponse\u001b[0m \u001b[1;32min\u001b[0m \u001b[1;33m[\u001b[0m\u001b[0m_ddx\u001b[0m\u001b[1;33m,\u001b[0m \u001b[0m_ddsdas\u001b[0m\u001b[1;33m]\u001b[0m\u001b[1;33m:\u001b[0m\u001b[1;33m\u001b[0m\u001b[0m\n\u001b[1;32m---> 60\u001b[1;33m         \u001b[0mdataset\u001b[0m \u001b[1;33m=\u001b[0m \u001b[0mresponse\u001b[0m\u001b[1;33m(\u001b[0m\u001b[0murl\u001b[0m\u001b[1;33m)\u001b[0m\u001b[1;33m\u001b[0m\u001b[0m\n\u001b[0m\u001b[0;32m     61\u001b[0m         \u001b[1;32mif\u001b[0m \u001b[0mdataset\u001b[0m\u001b[1;33m:\u001b[0m \u001b[1;32mbreak\u001b[0m\u001b[1;33m\u001b[0m\u001b[0m\n\u001b[0;32m     62\u001b[0m     \u001b[1;32melse\u001b[0m\u001b[1;33m:\u001b[0m\u001b[1;33m\u001b[0m\u001b[0m\n",
        "\u001b[1;32m/mn/vann/rhel6/opt/python/anaconda/lib/python2.7/site-packages/pydap/client.pyc\u001b[0m in \u001b[0;36m_ddsdas\u001b[1;34m(url)\u001b[0m\n\u001b[0;32m    204\u001b[0m             (scheme, netloc, path + '.das', query, fragment))\n\u001b[0;32m    205\u001b[0m \u001b[1;33m\u001b[0m\u001b[0m\n\u001b[1;32m--> 206\u001b[1;33m     \u001b[0mrespdds\u001b[0m\u001b[1;33m,\u001b[0m \u001b[0mdds\u001b[0m \u001b[1;33m=\u001b[0m \u001b[0mrequest\u001b[0m\u001b[1;33m(\u001b[0m\u001b[0mddsurl\u001b[0m\u001b[1;33m)\u001b[0m\u001b[1;33m\u001b[0m\u001b[0m\n\u001b[0m\u001b[0;32m    207\u001b[0m     \u001b[0mrespdas\u001b[0m\u001b[1;33m,\u001b[0m \u001b[0mdas\u001b[0m \u001b[1;33m=\u001b[0m \u001b[0mrequest\u001b[0m\u001b[1;33m(\u001b[0m\u001b[0mdasurl\u001b[0m\u001b[1;33m)\u001b[0m\u001b[1;33m\u001b[0m\u001b[0m\n\u001b[0;32m    208\u001b[0m \u001b[1;33m\u001b[0m\u001b[0m\n",
        "\u001b[1;32m/mn/vann/rhel6/opt/python/anaconda/lib/python2.7/site-packages/pydap/util/http.pyc\u001b[0m in \u001b[0;36mrequest\u001b[1;34m(url)\u001b[0m\n\u001b[0;32m     48\u001b[0m                 data, re.DOTALL | re.MULTILINE)\n\u001b[0;32m     49\u001b[0m         \u001b[0mmsg\u001b[0m \u001b[1;33m=\u001b[0m \u001b[1;34m'Server error %(code)s: \"%(msg)s\"'\u001b[0m \u001b[1;33m%\u001b[0m \u001b[0mm\u001b[0m\u001b[1;33m.\u001b[0m\u001b[0mgroupdict\u001b[0m\u001b[1;33m(\u001b[0m\u001b[1;33m)\u001b[0m\u001b[1;33m\u001b[0m\u001b[0m\n\u001b[1;32m---> 50\u001b[1;33m         \u001b[1;32mraise\u001b[0m \u001b[0mServerError\u001b[0m\u001b[1;33m(\u001b[0m\u001b[0mmsg\u001b[0m\u001b[1;33m)\u001b[0m\u001b[1;33m\u001b[0m\u001b[0m\n\u001b[0m\u001b[0;32m     51\u001b[0m \u001b[1;33m\u001b[0m\u001b[0m\n\u001b[0;32m     52\u001b[0m     \u001b[1;32mreturn\u001b[0m \u001b[0mresp\u001b[0m\u001b[1;33m,\u001b[0m \u001b[0mdata\u001b[0m\u001b[1;33m\u001b[0m\u001b[0m\n",
        "\u001b[1;31mServerError\u001b[0m: 'Server error 404: \"EUROCORDEX/output/tas_yearmean/rcp85/tas_yearmean_rcp85_ICHEC-EC-EARTH_CLMcom-CCLM4-8-17_YEAR.nc.html\"'"
       ]
      }
     ],
     "prompt_number": 98
    },
    {
     "cell_type": "code",
     "collapsed": false,
     "input": [
      "print cordex.keys()"
     ],
     "language": "python",
     "metadata": {},
     "outputs": [
      {
       "output_type": "stream",
       "stream": "stdout",
       "text": [
        "['lon', 'lat', 'time', 'time_bnds', 'tas']\n"
       ]
      }
     ],
     "prompt_number": 93
    },
    {
     "cell_type": "code",
     "collapsed": false,
     "input": [
      "tas = cordex['tas']\n"
     ],
     "language": "python",
     "metadata": {},
     "outputs": [],
     "prompt_number": 81
    },
    {
     "cell_type": "code",
     "collapsed": false,
     "input": [
      "print tas.dimensions\n",
      "print tas.shape"
     ],
     "language": "python",
     "metadata": {},
     "outputs": [
      {
       "output_type": "stream",
       "stream": "stdout",
       "text": [
        "('time', 'lat', 'lon')\n",
        "(129, 1, 1)\n"
       ]
      }
     ],
     "prompt_number": 85
    },
    {
     "cell_type": "code",
     "collapsed": false,
     "input": [
      "print tas['time'][:]"
     ],
     "language": "python",
     "metadata": {},
     "outputs": [
      {
       "output_type": "stream",
       "stream": "stdout",
       "text": [
        "[  7759.5   8125.5   8490.5   8855.5   9220.5   9586.5   9951.5  10316.5\n",
        "  10681.5  11047.5  11412.5  11777.5  12142.5  12508.5  12873.5  13238.5\n",
        "  13603.5  13969.5  14334.5  14699.5  15064.5  15430.5  15795.5  16160.5\n",
        "  16525.5  16891.5  17256.5  17621.5  17986.5  18352.5  18717.5  19082.5\n",
        "  19447.5  19813.5  20178.5  20543.5  20908.5  21274.5  21639.5  22004.5\n",
        "  22369.5  22735.5  23100.5  23465.5  23830.5  24196.5  24561.5  24926.5\n",
        "  25291.5  25657.5  26022.5  26387.5  26752.5  27118.5  27483.5  27848.5\n",
        "  28213.5  28579.5  28944.5  29309.5  29674.5  30040.5  30405.5  30770.5\n",
        "  31135.5  31501.5  31866.5  32231.5  32596.5  32962.5  33327.5  33692.5\n",
        "  34057.5  34423.5  34788.5  35153.5  35518.5  35884.5  36249.5  36614.5\n",
        "  36979.5  37345.5  37710.5  38075.5  38440.5  38806.5  39171.5  39536.5\n",
        "  39901.5  40267.5  40632.5  40997.5  41362.5  41728.5  42093.5  42458.5\n",
        "  42823.5  43189.5  43554.5  43919.5  44284.5  44650.5  45015.5  45380.5\n",
        "  45745.5  46111.5  46476.5  46841.5  47206.5  47572.5  47937.5  48302.5\n",
        "  48667.5  49033.5  49398.5  49763.5  50128.5  50494.5  50859.5  51224.5\n",
        "  51589.5  51955.5  52320.5  52685.5  53050.5  53416.5  53781.5  54146.5\n",
        "  54511.5]\n"
       ]
      }
     ],
     "prompt_number": 89
    },
    {
     "cell_type": "code",
     "collapsed": false,
     "input": [],
     "language": "python",
     "metadata": {},
     "outputs": []
    }
   ],
   "metadata": {}
  }
 ]
}