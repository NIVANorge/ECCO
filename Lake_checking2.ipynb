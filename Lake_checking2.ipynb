{
 "metadata": {
  "name": "",
  "signature": "sha256:f182b341ef9ad900a3356dd98da6635da9b1cfc65c8404b70d6a2b9cacae64eb"
 },
 "nbformat": 3,
 "nbformat_minor": 0,
 "worksheets": [
  {
   "cells": [
    {
     "cell_type": "code",
     "collapsed": false,
     "input": [
      "from ECCO_functions_v2 import *"
     ],
     "language": "python",
     "metadata": {},
     "outputs": [],
     "prompt_number": 2
    },
    {
     "cell_type": "code",
     "collapsed": false,
     "input": [
      "nc_path = '/uio/kant/geo-metos-u1/blaken/datadisk/ECCO/CORDEX/Data_CORDEX/rlus_EUR-11_ICHEC-EC-EARTH_rcp45_r1i1p1_KNMI-RACMO22E_v1_day_20310101-20351231.nc'\n",
      "lake_data='Lakes/ecco-biwa_lakes_v/ecco-biwa_lakes_v.0.1.shp'\n",
      "out_path = 'Outputs'"
     ],
     "language": "python",
     "metadata": {},
     "outputs": [],
     "prompt_number": 3
    },
    {
     "cell_type": "code",
     "collapsed": false,
     "input": [
      "tmpout=[]\n",
      "icnt = 0\n",
      "a = arange(0,30,1)\n",
      "for n in a:\n",
      "    #MT_Means_Over_Lake(nc_path, lake_data, n, out_path,plots=False,rprt_tme=False)\n",
      "    tmpout.append(MT_Gen_SWeights(nc_path, lake_data, n, out_path,rprt_tme=False))\n",
      "    if (float(n) % 10.) == 0.0:\n",
      "        Update_Progress(float(icnt)/float(len(a)-1))\n",
      "    icnt=icnt+1\n",
      "    \n",
      "f = 'Try2_write1.txt'\n",
      "with open(f, 'a') as the_file:\n",
      "    for nlines in tmpout:\n",
      "        the_file.write('%i,%s,%.2f,%i,%.3f,%i,%i'%nlines+'\\n')"
     ],
     "language": "python",
     "metadata": {},
     "outputs": [
      {
       "output_type": "stream",
       "stream": "stdout",
       "text": [
        "\r",
        "Progress: [----------------------------------------] 0% "
       ]
      },
      {
       "output_type": "stream",
       "stream": "stdout",
       "text": [
        "\r",
        "Progress: [##############--------------------------] 34% "
       ]
      },
      {
       "output_type": "stream",
       "stream": "stdout",
       "text": [
        "\r",
        "Progress: [############################------------] 68% "
       ]
      }
     ],
     "prompt_number": 4
    },
    {
     "cell_type": "code",
     "collapsed": false,
     "input": [
      "#print '%i,%s,%.2f,%i,%.3f,%i,%i' %tmpout[4]"
     ],
     "language": "python",
     "metadata": {},
     "outputs": [
      {
       "output_type": "stream",
       "stream": "stdout",
       "text": [
        "4,1fc67b,0.34,1,0.250,327,255\n"
       ]
      }
     ],
     "prompt_number": 45
    },
    {
     "cell_type": "code",
     "collapsed": false,
     "input": [],
     "language": "python",
     "metadata": {},
     "outputs": [],
     "prompt_number": 9
    },
    {
     "cell_type": "code",
     "collapsed": false,
     "input": [
      "#a = arange(0,10000,1)\n",
      "#icnt = 0\n",
      "#for n in a:\n",
      "#    if (float(n) % 100.) == 0.0:\n",
      "#        Update_Progress(float(icnt)/float(len(a)-1))\n",
      "#    icnt=icnt+1"
     ],
     "language": "python",
     "metadata": {},
     "outputs": [],
     "prompt_number": 25
    },
    {
     "cell_type": "code",
     "collapsed": false,
     "input": [],
     "language": "python",
     "metadata": {},
     "outputs": []
    }
   ],
   "metadata": {}
  }
 ]
}