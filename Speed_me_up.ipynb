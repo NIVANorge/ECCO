{
 "metadata": {
  "name": "",
  "signature": "sha256:b89938e8a4d750de8ef7cad97396c0b19ca667d35bf39aa3fde45b16761ebaae"
 },
 "nbformat": 3,
 "nbformat_minor": 0,
 "worksheets": [
  {
   "cells": [
    {
     "cell_type": "code",
     "collapsed": false,
     "input": [
      "import numpy as np\n",
      "import sys, time, os, json\n",
      "from netCDF4 import Dataset  \n",
      "from matplotlib.path import Path\n",
      "from matplotlib import cm\n",
      "import matplotlib.patches as patches\n",
      "from matplotlib import path\n",
      "from matplotlib.transforms import Bbox\n",
      "from math import pi, cos, sin, radians, atan, asin\n",
      "import mpl_toolkits.basemap.pyproj as pyproj\n",
      "import matplotlib.pyplot as plt\n",
      "from multiprocessing import Process,Pool,cpu_count\n",
      "import os\n",
      "import time"
     ],
     "language": "python",
     "metadata": {},
     "outputs": [],
     "prompt_number": 1
    },
    {
     "cell_type": "heading",
     "level": 2,
     "metadata": {},
     "source": [
      "Read functions"
     ]
    },
    {
     "cell_type": "code",
     "collapsed": false,
     "input": [
      "from ECCO_functions import *"
     ],
     "language": "python",
     "metadata": {},
     "outputs": [],
     "prompt_number": 2
    },
    {
     "cell_type": "heading",
     "level": 2,
     "metadata": {},
     "source": [
      "Wrapper"
     ]
    },
    {
     "cell_type": "code",
     "collapsed": false,
     "input": [
      "def MT_Means_Over_Lake(nc_path, lake_file, lake_num, outputprefix, threeD=True, tt=None):\n",
      "    '''\n",
      "    nc_path is the file path for the CORDEX NetCDF file\n",
      "    lake_data is file path and filename to GeoJSON file\n",
      "    lake_num is the lake number to be processed (the int feature number from within the lake_data file)\n",
      "    outputprefix is the directory for the outputs (it will be then nested according to netcdf file name)\n",
      "\n",
      "    '''\n",
      "    import time as clock\n",
      "    a = clock.time()\n",
      "    num = lake_num\n",
      "\n",
      "    # As Multiprocessing does not use shared memory, I will need to load the data uniquley for each\n",
      "    #lake_data = 'Lakes/comsat_fetch.geojson'\n",
      "    \n",
      "    #lake_geometry, lake_id, lake_name,lake_path,lake_altitude,feno_lake_id = Read_Lakes(lake_data)\n",
      "    EB_id, lake_path, lake_altitude = Read_LakesV2(lake_file)\n",
      "    # Get Lake data\n",
      "    # clim_dat,rlat,rlon,time,drange,dexp = Tmp_CORDEX_Read() # Temporary way of getting CORDEX data from a local file\n",
      "    \n",
      "    nc_fname = os.path.basename(nc_path)\n",
      "    metadata = os.path.splitext(nc_fname)[0].split('_')\n",
      "    # metadata is a list of cordex netcdf file metadata\n",
      "    vname, m1, m2, dexp, m3, m4, m5, m6, drange_orignial = metadata # dexp, driving experiment\n",
      "    print(metadata)\n",
      "    drange = '_'.join([dexp, drange_orignial])\n",
      "    txtfname = '_'.join([vname, drange])  # vname + '_' + drange # '%s_%s' % (vname, drange)\n",
      "        \n",
      "    nc = Dataset(nc_path)\n",
      "    clim_dat = nc.variables[vname]\n",
      "    rlat = nc.variables['rlat']\n",
      "    rlon = nc.variables['rlon']\n",
      "    time = nc.variables['time']\n",
      "        \n",
      "    orog = Height_CORDEX() # Get orography data of EUR-11\n",
      "    b = clock.time()  \n",
      "    #lake_cart= Path_Make(lake_path[num][0][0][:])  # Old path make (not island aware)\n",
      "    lake_cart = Path_Lake_and_Islands(num = num,lake_path=lake_path)\n",
      "    lake_rprj = Path_Reproj(lake_cart,False)             \n",
      "    sub_clim,sub_rlat,sub_rlon = TrimToLake(lake_rprj,clim_dat[0,:,:],rlat,rlon,off = 3, show = False)\n",
      "    weight_mask = Pixel_Weights(lake_rprj,sub_clim,sub_rlat,sub_rlon)\n",
      "    \n",
      "    # The below two lines are where the offset (height adjustment comes from)\n",
      "    sub_orog,sub_rlat,sub_rlon = TrimToLake(lake_rprj,orog[:,:],rlat,rlon,off = 3, show = False) # Subset area around lake\n",
      "    hght,offset = Orographic_Adjustment(weight_mask,sub_orog,lake_altitude[num],clim_dat,chatty=False)\n",
      "\n",
      "    print 'Offset to be applied (in Kelvin):',offset\n",
      "    c = clock.time()\n",
      "    \n",
      "    if threeD:\n",
      "        sub_clim,sub_rlat,sub_rlon = TrimToLake3D(lake_rprj,clim_dat[:,:,:],rlat,rlon,off = 3, show = False)\n",
      "        tlist = Weighted_Mean_3D(weight_mask, sub_clim, chatty=False)\n",
      "    else:\n",
      "        tlist =[]\n",
      "        if tt is None:\n",
      "            tt = clim_dat.shape[0]\n",
      "        for t in xrange(tt):\n",
      "        #for t in xrange(len(time)):\n",
      "            sub_clim,sub_rlat,sub_rlon = TrimToLake(lake_rprj,clim_dat[t,:,:],rlat,rlon,off = 3, show = False)\n",
      "            final_val = Weighted_Mean(weight_mask,sub_clim,chatty=False)\n",
      "            tlist.append(final_val)\n",
      "            #print 'Timestep:',t, '  Weighted temperature =','%6.2f'%(final_val) #-272.15),'Deg C'\n",
      "        tlist = np.array(tlist)\n",
      "    \n",
      "    \n",
      "    \n",
      "    fnm_head=Gen_FName_Head(clim_dat.long_name)\n",
      "    #hcreate = 'Height offset = '+ '%6.2f'%offset+'  Data = '+clim_dat.long_name+', time range of file = '+drange+' Model = '+dexp  \n",
      "    hcreate = 'Height offset = %f  Data = %s, time range of file = %s  Model = %s' % (offset, clim_dat.long_name, drange, dexp) \n",
      "    \n",
      "    d = clock.time()\n",
      "    out = os.path.join('Outputs', fnm_head)\n",
      "        \n",
      "    #out = '/uio/kant/geo-metos-u1/blaken/Work/Python/ECCO/Outputs/'+fnm_head\n",
      "    # txtfname = Gen_FileName(out,lake_name[num],drange,'_3D.txt.gz' if threeD else '.txt.gz')       \n",
      "    \n",
      "    ideb = EB_id[lake_num][2:]\n",
      "    print(ideb)\n",
      "    l = len(ideb)\n",
      "    if l == 6:\n",
      "        idnew = ideb\n",
      "    elif l == 5:\n",
      "        idnew = '0%s' % ideb\n",
      "    elif l == 4:\n",
      "        idnew = '00%s' % ideb\n",
      "    elif l == 3:\n",
      "        idnew = '000%s' % ideb\n",
      "    elif l == 2:\n",
      "        idnew = '0000%s' % ideb\n",
      "    elif l == 1:\n",
      "        idnew = '00000%s' % ideb\n",
      "    \n",
      "    pathname = os.path.join(outputprefix, '_'.join([m1, m2, m3, m4, m5, m6]), idnew[:2], idnew[:4], idnew)\n",
      "    print(pathname)\n",
      "    if not os.path.exists(pathname): os.makedirs(pathname)\n",
      "    \n",
      "    np.savetxt(os.path.join(pathname, txtfname),\n",
      "               tlist,fmt='%7.3f',newline='\\n', header=hcreate)  \n",
      "    ## TODO make a dictionary of fmts \n",
      "    ## fmts[clim_data.short_name] \n",
      "    ## fmts['tas']\n",
      "    ## definte like this\n",
      "    ## fmts = {'tas': '.2f', 'wss': '.2f'}\n",
      "    e = clock.time()\n",
      "    print 'b',b-a\n",
      "    print 'c',c-a\n",
      "    print 'd',d-a \n",
      "    print 'e',e-a\n",
      "    return\n"
     ],
     "language": "python",
     "metadata": {},
     "outputs": [],
     "prompt_number": 22
    },
    {
     "cell_type": "code",
     "collapsed": false,
     "input": [
      "#MT_Means_Over_Lake(6, tt = 30)"
     ],
     "language": "python",
     "metadata": {},
     "outputs": [],
     "prompt_number": 23
    },
    {
     "cell_type": "markdown",
     "metadata": {},
     "source": [
      "Above for 30 days"
     ]
    },
    {
     "cell_type": "code",
     "collapsed": false,
     "input": [
      "MT_Means_Over_Lake('/uio/kant/geo-metos-u1/blaken/Downloads/tas_EUR-11_ICHEC-EC-EARTH_rcp85_r3i1p1_DMI-HIRHAM5_v1_day_20060101-20101231.nc', \n",
      "                   'Lakes/largest100.geojson', \n",
      "                   0, 'Outputs', threeD=False, tt=30)\n"
     ],
     "language": "python",
     "metadata": {},
     "outputs": [
      {
       "output_type": "stream",
       "stream": "stdout",
       "text": [
        "['tas', 'EUR-11', 'ICHEC-EC-EARTH', 'rcp85', 'r3i1p1', 'DMI-HIRHAM5', 'v1', 'day', '20060101-20101231']\n",
        "Offset to be applied (in Kelvin):"
       ]
      },
      {
       "output_type": "stream",
       "stream": "stdout",
       "text": [
        " -2.21611810919\n",
        "71aa86"
       ]
      },
      {
       "output_type": "stream",
       "stream": "stdout",
       "text": [
        "\n",
        "Outputs/EUR-11_ICHEC-EC-EARTH_r3i1p1_DMI-HIRHAM5_v1_day/71/71aa/71aa86\n",
        "b 2.18206906319\n",
        "c 2.96902394295\n",
        "d 10.3588321209\n",
        "e 10.3610301018\n"
       ]
      }
     ],
     "prompt_number": 24
    },
    {
     "cell_type": "markdown",
     "metadata": {},
     "source": [
      "All 5 years and even faster"
     ]
    },
    {
     "cell_type": "code",
     "collapsed": false,
     "input": [
      "print(len(lake_path))\n",
      "print(len(lake_path[0]))\n",
      "print(len(lake_path[0][0]))\n"
     ],
     "language": "python",
     "metadata": {},
     "outputs": [
      {
       "output_type": "stream",
       "stream": "stdout",
       "text": [
        "100\n",
        "101\n",
        "4667\n"
       ]
      }
     ],
     "prompt_number": 36
    },
    {
     "cell_type": "code",
     "collapsed": false,
     "input": [
      "EB_id, lake_path, lake_altitude = Read_LakesV2('Lakes/largest100.geojson')"
     ],
     "language": "python",
     "metadata": {},
     "outputs": [],
     "prompt_number": 4
    },
    {
     "cell_type": "code",
     "collapsed": false,
     "input": [
      "lake_cart = Path_Lake_and_Islands(0 ,lake_path)\n",
      "\n",
      "PMake(lake_path[0][1])"
     ],
     "language": "python",
     "metadata": {},
     "outputs": [
      {
       "metadata": {},
       "output_type": "pyout",
       "prompt_number": 6,
       "text": [
        "([[11.884288959667211, 59.188249251774685],\n",
        "  [11.88416056582811, 59.18860481969681],\n",
        "  [11.883975708565753, 59.18868912358983],\n",
        "  [11.88345726063808, 59.18862851235715],\n",
        "  [11.8832930331384, 59.188533696620894],\n",
        "  [11.883508655711381, 59.18818072865496],\n",
        "  [11.884134939836741, 59.1880648560974]],\n",
        " [1, 2, 2, 2, 2, 2, 79])"
       ]
      }
     ],
     "prompt_number": 6
    },
    {
     "cell_type": "code",
     "collapsed": false,
     "input": [
      "whos"
     ],
     "language": "python",
     "metadata": {},
     "outputs": [
      {
       "output_type": "stream",
       "stream": "stdout",
       "text": [
        "Variable                Type                          Data/Info\n",
        "---------------------------------------------------------------\n",
        "Bbox                    type                          <class 'matplotlib.transforms.Bbox'>\n",
        "Calc_Coordinates        function                      <function Calc_Coordinates at 0x7fe88bf052a8>\n",
        "Closest                 function                      <function Closest at 0x7fe88bf05320>\n",
        "Dataset                 type                          <type 'netCDF4.Dataset'>\n",
        "EB_id                   list                          n=100\n",
        "EqArea                  function                      <function EqArea at 0x7fe88bf05398>\n",
        "Gen_FName_Head          function                      <function Gen_FName_Head at 0x7fe88bf05500>\n",
        "Gen_FileName            function                      <function Gen_FileName at 0x7fe88bf05488>\n",
        "Get_LatLonLim           function                      <function Get_LatLonLim at 0x7fe88bf05410>\n",
        "Height_CORDEX           function                      <function Height_CORDEX at 0x7fe88bf050c8>\n",
        "MT_Means_Over_Lake      function                      <function MT_Means_Over_Lake at 0x7fe88bef1938>\n",
        "Orographic_Adjustment   function                      <function Orographic_Adju<...>stment at 0x7fe88bf05578>\n",
        "PMake                   function                      <function PMake at 0x7fe88bf05668>\n",
        "Path                    type                          <class 'matplotlib.path.Path'>\n",
        "Path_Lake_and_Islands   function                      <function Path_Lake_and_I<...>slands at 0x7fe88bf056e0>\n",
        "Path_Make               function                      <function Path_Make at 0x7fe88bf055f0>\n",
        "Path_Reproj             function                      <function Path_Reproj at 0x7fe88bf05758>\n",
        "Pixel_Weights           function                      <function Pixel_Weights at 0x7fe88bf057d0>\n",
        "Plot_LakeAndData_Save   function                      <function Plot_LakeAndDat<...>a_Save at 0x7fe88bf058c0>\n",
        "Poly_Area2D             function                      <function Poly_Area2D at 0x7fe88bf05848>\n",
        "Pool                    function                      <function Pool at 0x7fe8aef5a848>\n",
        "Preview_Lake            function                      <function Preview_Lake at 0x7fe88bf05938>\n",
        "Preview_Weights         function                      <function Preview_Weights at 0x7fe88bf059b0>\n",
        "Process                 type                          <class 'multiprocessing.process.Process'>\n",
        "Read_Lakes              function                      <function Read_Lakes at 0x7fe88bf05140>\n",
        "Read_LakesV2            function                      <function Read_LakesV2 at 0x7fe88bf051b8>\n",
        "Show_LakeAndData        function                      <function Show_LakeAndData at 0x7fe88bf05a28>\n",
        "Tmp_CORDEX_Read         function                      <function Tmp_CORDEX_Read at 0x7fe88bf05230>\n",
        "TrimToLake              function                      <function TrimToLake at 0x7fe88bf05aa0>\n",
        "TrimToLake3D            function                      <function TrimToLake3D at 0x7fe88bf05b18>\n",
        "Update_Progress         function                      <function Update_Progress at 0x7fe88bf05b90>\n",
        "Weighted_Mean           function                      <function Weighted_Mean at 0x7fe88bf05c08>\n",
        "Weighted_Mean_3D        function                      <function Weighted_Mean_3D at 0x7fe88bf05c80>\n",
        "asin                    builtin_function_or_method    <built-in function asin>\n",
        "atan                    builtin_function_or_method    <built-in function atan>\n",
        "cos                     builtin_function_or_method    <built-in function cos>\n",
        "cpu_count               function                      <function cpu_count at 0x7fe8aef5a230>\n",
        "json                    module                        <module 'json' from '/sit<...>on2.7/json/__init__.pyc'>\n",
        "lake_altitude           list                          n=100\n",
        "lake_path               list                          n=100\n",
        "os                      module                        <module 'os' from '/site/<...>da/lib/python2.7/os.pyc'>\n",
        "patches                 module                        <module 'matplotlib.patch<...>/matplotlib/patches.pyc'>\n",
        "path                    module                        <module 'matplotlib.path'<...>ges/matplotlib/path.pyc'>\n",
        "pi                      float                         3.14159265359\n",
        "pyproj                  module                        <module 'mpl_toolkits.bas<...>kits/basemap/pyproj.pyc'>\n",
        "radians                 builtin_function_or_method    <built-in function radians>\n",
        "sin                     builtin_function_or_method    <built-in function sin>\n",
        "time                    module                        <module 'time' from '/sit<...>2.7/lib-dynload/time.so'>\n"
       ]
      }
     ],
     "prompt_number": 22
    },
    {
     "cell_type": "code",
     "collapsed": false,
     "input": [
      "shape(lake_path[1])"
     ],
     "language": "python",
     "metadata": {},
     "outputs": [
      {
       "metadata": {},
       "output_type": "pyout",
       "prompt_number": 28,
       "text": [
        "(116,)"
       ]
      }
     ],
     "prompt_number": 28
    },
    {
     "cell_type": "code",
     "collapsed": false,
     "input": [],
     "language": "python",
     "metadata": {},
     "outputs": []
    }
   ],
   "metadata": {}
  }
 ]
}