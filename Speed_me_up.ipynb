{
 "metadata": {
  "name": "",
  "signature": "sha256:c9ed678a40d05a79d1860a82ebae32956dc85298a00cf42521d3b67a54dabfed"
 },
 "nbformat": 3,
 "nbformat_minor": 0,
 "worksheets": [
  {
   "cells": [
    {
     "cell_type": "code",
     "collapsed": false,
     "input": [
      "import numpy as np\n",
      "import sys, time, os, json\n",
      "from netCDF4 import Dataset  \n",
      "from matplotlib.path import Path\n",
      "from matplotlib import cm\n",
      "import matplotlib.patches as patches\n",
      "from matplotlib import path\n",
      "from matplotlib.transforms import Bbox\n",
      "from math import pi, cos, sin, radians, atan, asin\n",
      "import mpl_toolkits.basemap.pyproj as pyproj\n",
      "import matplotlib.pyplot as plt\n",
      "from multiprocessing import Process,Pool,cpu_count\n",
      "import os\n",
      "import time"
     ],
     "language": "python",
     "metadata": {},
     "outputs": [],
     "prompt_number": 1
    },
    {
     "cell_type": "heading",
     "level": 2,
     "metadata": {},
     "source": [
      "Read functions"
     ]
    },
    {
     "cell_type": "code",
     "collapsed": false,
     "input": [
      "from ECCO_functions import *"
     ],
     "language": "python",
     "metadata": {},
     "outputs": [],
     "prompt_number": 2
    },
    {
     "cell_type": "heading",
     "level": 2,
     "metadata": {},
     "source": [
      "Wrapper"
     ]
    },
    {
     "cell_type": "code",
     "collapsed": false,
     "input": [
      "def MT_Means_Over_Lake(lake_num,tt,threeD=False):\n",
      "    import time as clock\n",
      "    a = clock.time()\n",
      "    num = lake_num\n",
      "\n",
      "    # As Multiprocessing does not use shared memory, I will need to load the data uniquley for each\n",
      "    lake_data = 'Lakes/comsat_fetch.geojson'\n",
      "    lake_geometry, lake_id, lake_name,lake_path,lake_altitude,feno_lake_id = Read_Lakes(lake_data)\n",
      "    # Get Lake data\n",
      "    clim_dat,rlat,rlon,time,drange,dexp = Tmp_CORDEX_Read() # Temporary way of getting CORDEX data from a local file\n",
      "    orog = Height_CORDEX() # Get orography data of EUR-11\n",
      "    b = clock.time()  \n",
      "    #lake_cart= Path_Make(lake_path[num][0][0][:])  # Old path make (not island aware)\n",
      "    lake_cart = Path_Lake_and_Islands(num = num,lake_path=lake_path)\n",
      "    lake_rprj = Path_Reproj(lake_cart,False)             \n",
      "    sub_clim,sub_rlat,sub_rlon = TrimToLake(lake_rprj,clim_dat[0,:,:],rlat,rlon,off = 3, show = False)\n",
      "    weight_mask = Pixel_Weights(lake_rprj,sub_clim,sub_rlat,sub_rlon)\n",
      "    \n",
      "    # The below two lines are where the offset (height adjustment comes from)\n",
      "    sub_orog,sub_rlat,sub_rlon = TrimToLake(lake_rprj,orog[:,:],rlat,rlon,off = 3, show = False) # Subset area around lake\n",
      "    hght,offset = Orographic_Adjustment(weight_mask,sub_orog,lake_altitude[num],clim_dat,chatty=False)\n",
      "\n",
      "    print 'Offset to be applied (in Kelvin):',offset\n",
      "    c = clock.time()\n",
      "    \n",
      "    if threeD:\n",
      "        sub_clim,sub_rlat,sub_rlon = TrimToLake3D(lake_rprj,clim_dat[:,:,:],rlat,rlon,off = 3, show = False)\n",
      "        tlist = Weighted_Mean_3D(weight_mask, sub_clim, chatty=False)\n",
      "    else:\n",
      "        tlist =[]\n",
      "        if tt is None:\n",
      "            tt = clim_dat.shape[0]\n",
      "        for t in xrange(tt):\n",
      "        #for t in xrange(len(time)):\n",
      "            sub_clim,sub_rlat,sub_rlon = TrimToLake(lake_rprj,clim_dat[t,:,:],rlat,rlon,off = 3, show = False)\n",
      "            final_val = Weighted_Mean(weight_mask,sub_clim,chatty=False)\n",
      "            tlist.append(final_val)\n",
      "            #print 'Timestep:',t, '  Weighted temperature =','%6.2f'%(final_val) #-272.15),'Deg C'\n",
      "        tlist = np.array(tlist)\n",
      "    \n",
      "    \n",
      "    \n",
      "    fnm_head=Gen_FName_Head(clim_dat.long_name)\n",
      "    hcreate = 'Height offset = '+ '%6.2f'%offset+'  Data = '+clim_dat.long_name+', time range of file = '+drange+' Model = '+dexp  \n",
      "    \n",
      "    d = clock.time()\n",
      "    out = os.path.join('Outputs', fnm_head)\n",
      "        \n",
      "    #out = '/uio/kant/geo-metos-u1/blaken/Work/Python/ECCO/Outputs/'+fnm_head\n",
      "    txtfname = Gen_FileName(out,lake_name[num],drange,'_3D.txt.gz' if threeD else '.txt.gz')       \n",
      "    np.savetxt(txtfname,tlist,fmt='%7.3f',newline='\\n', header=hcreate)\n",
      "    e = clock.time()\n",
      "    print 'b',b-a\n",
      "    print 'c',c-a\n",
      "    print 'd',d-a \n",
      "    print 'e',e-a\n",
      "    return\n"
     ],
     "language": "python",
     "metadata": {},
     "outputs": [],
     "prompt_number": 3
    },
    {
     "cell_type": "code",
     "collapsed": false,
     "input": [
      "MT_Means_Over_Lake(6, tt = 30)"
     ],
     "language": "python",
     "metadata": {},
     "outputs": [
      {
       "output_type": "stream",
       "stream": "stdout",
       "text": [
        "Offset to be applied (in Kelvin): 0.767847832902\n",
        "b"
       ]
      },
      {
       "output_type": "stream",
       "stream": "stdout",
       "text": [
        " 0.165946006775\n",
        "c 0.975186824799\n",
        "d 8.17146992683\n",
        "e 8.19390702248\n"
       ]
      }
     ],
     "prompt_number": 4
    },
    {
     "cell_type": "markdown",
     "metadata": {},
     "source": [
      "Above for 30 days"
     ]
    },
    {
     "cell_type": "code",
     "collapsed": false,
     "input": [
      "MT_Means_Over_Lake(6, tt = None, threeD=True)"
     ],
     "language": "python",
     "metadata": {},
     "outputs": [
      {
       "output_type": "stream",
       "stream": "stdout",
       "text": [
        "Offset to be applied (in Kelvin): 0.767847832902\n",
        "b"
       ]
      },
      {
       "output_type": "stream",
       "stream": "stdout",
       "text": [
        " 0.071485042572\n",
        "c 0.64240694046\n",
        "d 7.74082303047\n",
        "e 7.77271485329\n"
       ]
      }
     ],
     "prompt_number": 5
    },
    {
     "cell_type": "code",
     "collapsed": false,
     "input": [
      "pwd"
     ],
     "language": "python",
     "metadata": {},
     "outputs": [
      {
       "metadata": {},
       "output_type": "pyout",
       "prompt_number": 7,
       "text": [
        "u'/uio/kant/geo-metos-u1/blaken/Work/Python/ECCO'"
       ]
      }
     ],
     "prompt_number": 7
    },
    {
     "cell_type": "markdown",
     "metadata": {},
     "source": [
      "All 5 years and even faster"
     ]
    }
   ],
   "metadata": {}
  }
 ]
}