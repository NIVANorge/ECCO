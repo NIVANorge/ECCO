{
 "cells": [
  {
   "cell_type": "code",
   "execution_count": 1,
   "metadata": {
    "collapsed": true
   },
   "outputs": [],
   "source": [
    "import ECCO_functions_v2 as ECCO"
   ]
  },
  {
   "cell_type": "code",
   "execution_count": 2,
   "metadata": {
    "collapsed": true
   },
   "outputs": [],
   "source": [
    "import numpy as np\n",
    "import matplotlib.pyplot as plt\n",
    "import pandas as pd\n",
    "import h5py\n",
    "import osgeo.ogr\n",
    "import glob\n",
    "from matplotlib.transforms import Bbox\n",
    "\n",
    "%matplotlib inline"
   ]
  },
  {
   "cell_type": "markdown",
   "metadata": {},
   "source": [
    "### First, reproduce the problem ###"
   ]
  },
  {
   "cell_type": "code",
   "execution_count": 7,
   "metadata": {
    "collapsed": false
   },
   "outputs": [],
   "source": [
    " #4a8a86.npy  # big one\n",
    "#atest = np.load('Metadata/Weights/4a586.npy')\n",
    "#plt.imshow(atest,interpolation='none',cmap=plt.cm.gray,origin='lower')\n",
    "#plt.show()\n",
    "#atest.sum()"
   ]
  },
  {
   "cell_type": "markdown",
   "metadata": {},
   "source": [
    "### Examine the problem in the catchment areas too###"
   ]
  },
  {
   "cell_type": "code",
   "execution_count": 5,
   "metadata": {
    "collapsed": false
   },
   "outputs": [],
   "source": [
    "# Read back catchment metadata from Catchment_weights_Meta() function..\n",
    "catch_meta = pd.read_csv('Catchments/Metadata/Catchment_meta.csv')\n",
    "catch_meta = catch_meta.set_index('EB_id')"
   ]
  },
  {
   "cell_type": "code",
   "execution_count": 6,
   "metadata": {
    "collapsed": false
   },
   "outputs": [
    {
     "data": {
      "text/plain": [
       "'d47c6'"
      ]
     },
     "execution_count": 6,
     "metadata": {},
     "output_type": "execute_result"
    }
   ],
   "source": [
    "catch_meta.index[1]"
   ]
  },
  {
   "cell_type": "code",
   "execution_count": 10,
   "metadata": {
    "collapsed": false,
    "scrolled": true
   },
   "outputs": [
    {
     "name": "stdout",
     "output_type": "stream",
     "text": [
      "32def3 0.989199\n",
      "4ddcf7 0.987971\n",
      "Found problems in 2.0  lakes\n"
     ]
    }
   ],
   "source": [
    "# Example of reading the data from a hdf5 file after creation using the metdatada as a lookup\n",
    "#filein = 'Catchments/Weights/catchment_weights.h5'\n",
    "#f = h5py.File(filein,\"r\")\n",
    "\n",
    "# Going to test the weighting for the lakes (.npy) files, and also for the catchment hdf5 file.\n",
    "# will read them in a loop, and sum the pixels. Will stop if the weight masks are not equal to\n",
    "# 1 at any time.\n",
    "\n",
    "acnt = 0\n",
    "for n in catch_meta.index:\n",
    "    if catch_meta.npix[n] > 1:\n",
    "        with h5py.File('Catchments/Weights/catchment_weights.h5','r') as fp:\n",
    "            tmparray = fp[n]\n",
    "            tmparray = tmparray[:,:]\n",
    "        if tmparray.sum() < 0.99:\n",
    "            acnt += 1.\n",
    "            print n, tmparray.sum()\n",
    "print 'Found problems in', acnt,' lakes'\n",
    "\n",
    "# Found problems in 2026.0  lakes: too little weight\n",
    "# Found problems in 2072.0  lakes: too much weight\n",
    "# After change: Found problems in 0  lakes"
   ]
  },
  {
   "cell_type": "markdown",
   "metadata": {},
   "source": [
    "### Let's dig into the weighting function itself ###"
   ]
  },
  {
   "cell_type": "code",
   "execution_count": 4,
   "metadata": {
    "collapsed": false
   },
   "outputs": [],
   "source": [
    "def Fast_v3_stripped(nc_path, lake_file, lstart=0,lstop=275265,\n",
    "                       hexlist=None,tt=None,plots = False):\n",
    "\n",
    "    lk_processed_inf = pd.read_csv('Metadata/Meta_Lakes.csv')  # Pre-processed lake metadata (CSV)\n",
    "    lk_processed_inf.index = lk_processed_inf.hex           # Use the hex-code column as the index \n",
    "    \n",
    "    ShapeData = osgeo.ogr.Open(lake_file)                  # Make a link to Lake Shape Files\n",
    "    TheLayer = ShapeData.GetLayer(iLayer=0)\n",
    "    \n",
    "    clim_dat,rlat,rlon,timeCDX,metadata,txtfname = ECCO.Read_CORDEX_V2(nc_path) # CORDEX NetCDF Read file\n",
    "    vname, m1, m2, dexp, m3, m4, m5, m6, drange_orignial = metadata     # Metadata of fname string\n",
    "    var_type = clim_dat.standard_name                                   # What kind of CORDEX data?\n",
    "    dat_loaded = clim_dat[:,:,:]                                        # Load CORDEX data into RAM\n",
    "    rlat_loaded = rlat[:]\n",
    "    rlon_loaded = rlon[:]\n",
    "    \n",
    "    orog = ECCO.Height_CORDEX()                                 # NetCDF EUR-11 surface height data \n",
    "    \n",
    "    precalculated = []                                     # Gather precalculated surface weights \n",
    "    for fnm in glob.glob(\"Metadata/Weights/*.npy\"):           # N.b. You can precalculate as many as you\n",
    "        precalculated.append(fnm[14:-4])                   # like: place in folder to run (for speed)\n",
    "    precalculated = np.array(precalculated)                # Make it a np.array (needed for functions)\n",
    "    \n",
    "    if hexlist == None:                                    # Set up the list of lakes to process:\n",
    "        dolakes=np.arange(lstart,lstop,1)          #If no Hexcodes, use lstart/lstop to form a list\n",
    "    else:\n",
    "        dolakes= lk_processed_inf.num[hexlist]     #If hexcodes, then gen. list of nums from PD object\n",
    "    \n",
    "\n",
    "    # 2. LOOP OVER ALL LAKES (or specified lakes from lstart to lstop)\n",
    "\n",
    "    for n in dolakes:\n",
    "        tlist = []\n",
    "        feature1 = TheLayer.GetFeature(n)           # Get individ. lake in shapefile\n",
    "        lake_feature = feature1.ExportToJson(as_object=True)\n",
    "        lake_cart = ECCO.Path_LkIsl_ShpFile(lake_feature['geometry']['coordinates'])\n",
    "        lake_altitude=lake_feature['properties']['stf_mean']\n",
    "        EB_id = lake_feature['properties']['EBhex']\n",
    "        EB_id = EB_id[2:]                           # Strip off the hexcode label 0x\n",
    "        lake_rprj = ECCO.Path_Reproj(lake_cart,False)    # Reproj. lake to CORDEX plr. rotated\n",
    "\n",
    "        if plots:     \n",
    "            ECCO.Preview_Lake(lake_cart)        \n",
    "            print 'Area in km^2 (not inc. islands):', ECCO.Area_Lake_and_Islands(lake_cart),         \n",
    "            print ', No. xy bound. points:',len(lake_cart.vertices)\n",
    "            \n",
    "        sub_clim,sub_rlat,sub_rlon = ECCO.TrimToLake(lake_rprj,dat_loaded[0,:,:],\n",
    "                                                             rlat_loaded,\n",
    "                                                        rlon_loaded,off = 3, show = False) \n",
    "        \n",
    "        #return lake_rprj,sub_clim,sub_rlat,sub_rlon\n",
    "        \n",
    "        weight_mask = ECCO.Pixel_Weights(lake_rprj,sub_clim,sub_rlat,sub_rlon)\n",
    "            \n",
    "        return weight_mask\n",
    "        '''            \n",
    "            if ((var_type == 'air_temperature')| (var_type == 'surface_air_pressure')): \n",
    "                sub_orog,sub_rlat,sub_rlon = ECCO.TrimToLake(lake_rprj,orog,rlat_loaded,\n",
    "                                                            rlon_loaded,off = 3, show = False)\n",
    "                #print 'Stats 2:',n,EB_id,lake_altitude\n",
    "                if lake_altitude == None:                 # Some lakes don't have alitude values\n",
    "                    offset = -999.\n",
    "                else:\n",
    "                    hght,offset = ECCO.Orographic_Adjustment(weight_mask,sub_orog,\n",
    "                                                        lake_altitude,clim_dat,chatty=False)\n",
    "            else:\n",
    "                hght = -999.                         # If no offset calculated then\n",
    "                offset = -999.                       # just set them to missing data\n",
    "            \n",
    "            #return weight_mask # Break here\n",
    "            \n",
    "            sub_clim,sub_rlat,sub_rlon = ECCO.TrimToLake3D(lake_rprj,dat_loaded,rlat_loaded,rlon_loaded,\n",
    "                                                      off = 3, show = False)\n",
    "            tlist = ECCO.Weighted_Mean_3D(weight_mask, sub_clim, chatty=False)  # Here's the t-series\n",
    "            tlist = np.squeeze(tlist)                                      # Remove empty dimension\n",
    "            \n",
    "            if plots:\n",
    "                ECCO.Show_LakeAndData(lake_rprj,dat_loaded[0,:,:],rlat,rlon,zoom=6.)\n",
    "                ECCO.Preview_Weights(lake_rprj,weight_mask,sub_rlat,sub_rlon) \n",
    "    return\n",
    "    '''"
   ]
  },
  {
   "cell_type": "code",
   "execution_count": 5,
   "metadata": {
    "collapsed": false
   },
   "outputs": [],
   "source": [
    "#def Fast_v3_stripped(nc_path, lake_file, outputprefix,lstart=0,lstop=275265,\n",
    "#                       hexlist=None,tt=None,plots = False):\n",
    "\n",
    "nc_path = 'CORDEX/tas_EUR-11_ICHEC-EC-EARTH_rcp45_r1i1p1_KNMI-RACMO22E_v1_day_20960101-21001231.nc'\n",
    "lake_file = 'Lakes/Lake_v0.2/ecco-biwa_lakes_v.0.2.shp'\n",
    "\n",
    "# Get what you need to work directly on the pixel weight algorithm (for big lake 78 pixels)\n",
    "#lake_rprj,sub_clim,sub_rlat,sub_rlon = Fast_v3_stripped(nc_path = nc_path, lake_file = lake_file, hexlist=['4a8a86'])\n",
    "# Small lake - one pixel...\n",
    "#lake_rprj,sub_clim,sub_rlat,sub_rlon = Fast_v3_stripped(nc_path = nc_path, lake_file = lake_file, hexlist=['4a586'])\n",
    "\n",
    "weight_mask = Fast_v3_stripped(nc_path = nc_path, lake_file = lake_file, hexlist=['4a586'])"
   ]
  },
  {
   "cell_type": "code",
   "execution_count": null,
   "metadata": {
    "collapsed": false
   },
   "outputs": [],
   "source": []
  },
  {
   "cell_type": "code",
   "execution_count": 26,
   "metadata": {
    "collapsed": false
   },
   "outputs": [
    {
     "name": "stdout",
     "output_type": "stream",
     "text": [
      "At least 3 points inside? False\n",
      "All corners inside lake? False\n",
      "Any pixel within the boundary box? True\n"
     ]
    }
   ],
   "source": [
    "#weight_mask = Pixel_Weights(lake_rprj,sub_clim,sub_rlat,sub_rlon)\n",
    "acheck,tmpbb,lout = weights_version2(lake_rprj,sub_clim,sub_rlat,sub_rlon)"
   ]
  },
  {
   "cell_type": "markdown",
   "metadata": {},
   "source": [
    "Okay, now I can reproduce the error. And I have iscolated the function that gives the bad result. Now, the job is to fix it. Then I also want to update this code like the cathcments\n",
    "to use surface weightings for all multi-pixel data (create a hdf5 mask). Digression - also see if I can speed up the the catchments feature conversion part."
   ]
  },
  {
   "cell_type": "code",
   "execution_count": 6,
   "metadata": {
    "collapsed": false
   },
   "outputs": [
    {
     "data": {
      "image/png": "[encoded data removed]",
      "text/plain": [
       "<matplotlib.figure.Figure at 0x109ff8bd0>"
      ]
     },
     "metadata": {},
     "output_type": "display_data"
    },
    {
     "data": {
      "text/plain": [
       "1.0050793622346634"
      ]
     },
     "execution_count": 6,
     "metadata": {},
     "output_type": "execute_result"
    }
   ],
   "source": [
    "plt.imshow(weight_mask,interpolation='none',cmap=plt.cm.gray,origin='lower')\n",
    "plt.show()\n",
    "\n",
    "#plt.plot(weight_mask[:,10]) # Transect across the lake\n",
    "#plt.show()\n",
    "\n",
    "weight_mask.sum()"
   ]
  },
  {
   "cell_type": "code",
   "execution_count": null,
   "metadata": {
    "collapsed": false
   },
   "outputs": [],
   "source": []
  },
  {
   "cell_type": "code",
   "execution_count": 27,
   "metadata": {
    "collapsed": false
   },
   "outputs": [
    {
     "data": {
      "text/plain": [
       "[<matplotlib.lines.Line2D at 0x10e8a3c50>]"
      ]
     },
     "execution_count": 27,
     "metadata": {},
     "output_type": "execute_result"
    },
    {
     "data": {
      "image/png": "[encoded data removed]",
      "text/plain": [
       "<matplotlib.figure.Figure at 0x10c92b690>"
      ]
     },
     "metadata": {},
     "output_type": "display_data"
    }
   ],
   "source": [
    "lout = lake_rprj\n",
    "\n",
    "xlist=[]\n",
    "ylist=[]\n",
    "for n in lout.vertices:\n",
    "    x,y = n\n",
    "    xlist.append(x)\n",
    "    ylist.append(y)\n",
    "\n",
    "bxlist = []\n",
    "bylist = []\n",
    "ahold = tmpbb.corners()\n",
    "for n in ahold:\n",
    "    x,y = n\n",
    "    bxlist.append(x)\n",
    "    bylist.append(y) \n",
    "\n",
    "    \n",
    "\n",
    "plt.plot(xlist,ylist,'.b',alpha=0.6)  #tmpbb#,\n",
    "#plt.plot(bxlist,bylist,'.r',alpha=0.8)\n"
   ]
  },
  {
   "cell_type": "code",
   "execution_count": 158,
   "metadata": {
    "collapsed": false
   },
   "outputs": [
    {
     "name": "stdout",
     "output_type": "stream",
     "text": [
      "Bcheck: False iSect: 1\n",
      "Doing thing\n"
     ]
    }
   ],
   "source": [
    "# Four possibilities:\n",
    "# 1. no lake in pixel      (bcheck = false, isect_check = false)  : Do NOTHING\n",
    "# 2. some lake in pixel    (bcheck = True, isect_check = True)    : Do thing\n",
    "# 3. all lake within pixel (bcheck=True, isect = True)            : Do thing\n",
    "# 4. pxl fully within lake (bcheck = False, isect = True)         : Do thing\n",
    "\n",
    "lims = tmpbb.corners()  # Get the corners of the bounding box\n",
    "\n",
    "# This will be true if there are any lake vectors WITHIN the pixel.\n",
    "acheck = [((n[0] > lims[0][0])&(n[0]<lims[1][0])&(n[1] >lims[0][1])&\\\n",
    "                (n[1]<lims[1][1])) for n in lout.vertices]\n",
    "\n",
    "bcheck = True in acheck  # See if a True value exists in acheck ANYWHERE\n",
    "\n",
    "isect_check = lout.intersects_bbox(tmpbb)  # True if the lake intersects or \n",
    "# is bigger than pixel. nb. this doesnt always catch the small bits, which is why\n",
    "# I need to use acheck too. AS this is really to pick up sitaution 4.\n",
    "# Use both to see what is what (as just bcheck alone can sometimes miss lake).\n",
    "\n",
    "#isect_check = False # Set manually for control flow testing\n",
    "#bcheck = False\n",
    "\n",
    "print 'Bcheck:',bcheck, 'iSect:',isect_check\n",
    "\n",
    "if bcheck or isect_check:\n",
    "    print 'Doing thing'\n",
    "else:\n",
    "    print 'Not doing thing, all false'"
   ]
  },
  {
   "cell_type": "code",
   "execution_count": 156,
   "metadata": {
    "collapsed": false
   },
   "outputs": [
    {
     "data": {
      "text/plain": [
       "array([[-2.78166667,  8.45166667],\n",
       "       [-2.78166667,  8.55433333],\n",
       "       [-2.679     ,  8.45166667],\n",
       "       [-2.679     ,  8.55433333]])"
      ]
     },
     "execution_count": 156,
     "metadata": {},
     "output_type": "execute_result"
    }
   ],
   "source": [
    "# bottom-left[0], upper-left[1], lower-right[2],upper-right[3]  \n",
    "boxcorners = tmpbb.corners()\n",
    "boxcorners"
   ]
  },
  {
   "cell_type": "code",
   "execution_count": 176,
   "metadata": {
    "collapsed": false
   },
   "outputs": [
    {
     "name": "stdout",
     "output_type": "stream",
     "text": [
      "-2.78166666667 8.45166666667\n",
      "-2.0263507934 8.34919209364\n",
      "True\n",
      "1\n",
      "0\n"
     ]
    }
   ],
   "source": [
    "# If there is lake in the pixel, then the verticies should be \n",
    "\n",
    "acheck = [((n[0] > lims[0][0])&(n[0]<lims[1][0])&(n[1] >lims[0][1])&\\\n",
    "                (n[1]<lims[1][1])) \n",
    "          or (n[0] )\n",
    "          \n",
    "          \n",
    "          for n in lout.vertices]\n",
    "\n",
    "\n",
    "\n",
    "bx,by = boxcorners[0]\n",
    "lx,ly = lout.vertices[0]\n",
    "print bx,by\n",
    "print lx,ly\n",
    "\n",
    "#print (bx,by) < (lx,ly)\n",
    "print lout.intersects_bbox(tmpbb)\n",
    "\n",
    "lims2 =np.array([[-3.2,8.4],[-3.0,8.8]])  # 2D np.array for the BB object\n",
    "tmpbb2 = Bbox(lims2)\n",
    "\n",
    "print lout.intersects_bbox(tmpbb2)\n"
   ]
  },
  {
   "cell_type": "code",
   "execution_count": 185,
   "metadata": {
    "collapsed": false
   },
   "outputs": [
    {
     "name": "stdout",
     "output_type": "stream",
     "text": [
      "[-2.02635079  8.34919209]\n"
     ]
    },
    {
     "data": {
      "text/plain": [
       "array([-2.78166667,  8.45166667])"
      ]
     },
     "execution_count": 185,
     "metadata": {},
     "output_type": "execute_result"
    }
   ],
   "source": [
    "cnrs =  tmpbb.corners()\n",
    "\n",
    "acheck = [ ((n[0] > cnrs[0][0]) & (n[0] < cnrs[2][0])&\n",
    "            (n[1] > cnrs[0][1])&(n[1] < cnrs[1][1]))                # within a box\n",
    "           or ((n[0] > xmin)&(n[0]<xmax)&(n[1]>ymin)&(n[1]<ymax))   # shape encompasses a box  \n",
    "          for n in lout.vertices]"
   ]
  },
  {
   "cell_type": "code",
   "execution_count": 237,
   "metadata": {
    "collapsed": false
   },
   "outputs": [
    {
     "name": "stdout",
     "output_type": "stream",
     "text": [
      "[-2.02635079  8.34919209]\n",
      "\n",
      "[-2.78166667  8.45166667]\n",
      "[[-2.78166667  8.45166667]\n",
      " [-2.78166667  8.55433333]\n",
      " [-2.679       8.45166667]\n",
      " [-2.679       8.55433333]]\n",
      "show: False\n",
      "show2: [False False False False]\n",
      "33547\n"
     ]
    }
   ],
   "source": [
    "print lout.vertices[0]\n",
    "print ''\n",
    "cnrs =  tmpbb.corners()\n",
    "print cnrs[0]\n",
    "print tmpbb.corners()\n",
    "\n",
    "\n",
    "print 'show:',tmpbb.contains(lout.vertices[0][0],lout.vertices[0][1])\n",
    "print 'show2:',lout.contains_points(cnrs)\n",
    "\n",
    "vtest = [tmpbb.contains(n[0],n[1]) for n in lout.vertices]\n",
    "\n",
    "print(len(vtest))\n",
    "\n"
   ]
  },
  {
   "cell_type": "code",
   "execution_count": null,
   "metadata": {
    "collapsed": true
   },
   "outputs": [],
   "source": [
    "bbb = tmpbb.get_points"
   ]
  },
  {
   "cell_type": "code",
   "execution_count": null,
   "metadata": {
    "collapsed": true
   },
   "outputs": [],
   "source": [
    "bbb = tmpbb.count_contains"
   ]
  },
  {
   "cell_type": "code",
   "execution_count": null,
   "metadata": {
    "collapsed": true
   },
   "outputs": [],
   "source": [
    "bbb = tmpbb.fully_contains"
   ]
  },
  {
   "cell_type": "code",
   "execution_count": null,
   "metadata": {
    "collapsed": true
   },
   "outputs": [],
   "source": [
    "bbb = tmpbb.contain"
   ]
  },
  {
   "cell_type": "code",
   "execution_count": null,
   "metadata": {
    "collapsed": true
   },
   "outputs": [],
   "source": []
  },
  {
   "cell_type": "code",
   "execution_count": null,
   "metadata": {
    "collapsed": false
   },
   "outputs": [],
   "source": []
  },
  {
   "cell_type": "code",
   "execution_count": null,
   "metadata": {
    "collapsed": true
   },
   "outputs": [],
   "source": [
    "bbb = lout.contains_point"
   ]
  },
  {
   "cell_type": "code",
   "execution_count": null,
   "metadata": {
    "collapsed": true
   },
   "outputs": [],
   "source": [
    "bbb = lout.contains_points"
   ]
  },
  {
   "cell_type": "code",
   "execution_count": 247,
   "metadata": {
    "collapsed": false
   },
   "outputs": [],
   "source": [
    "# Verteci test (does the bounding box have an xy within it?)\n",
    "vtest = [tmpbb.contains(n[0],n[1]) for n in lout.vertices]\n",
    "vmask = vtest == True\n",
    "print lout.vertices[vmask], len(lout.vertices[vmask])\n",
    "# If there are not enough to make a new path then ignore\n",
    "if len(lout.vertices[vmask]) > 6: btest = 1\n",
    "# If all the pixels are true (lake is within the pixel entireley) then set as 1 and leave\n",
    "\n",
    "# Encompassing test (is the pixel within the shape?)\n",
    "cnrs =  tmpbb.corners() # Get an xy np array of the 4 BB corners\n",
    "cnr_test = lout.contains_points(cnrs)\n",
    "\n"
   ]
  },
  {
   "cell_type": "code",
   "execution_count": 271,
   "metadata": {
    "collapsed": false
   },
   "outputs": [
    {
     "data": {
      "text/plain": [
       "7.4249999999999998"
      ]
     },
     "execution_count": 271,
     "metadata": {},
     "output_type": "execute_result"
    }
   ],
   "source": [
    "sub_rlat[0]"
   ]
  },
  {
   "cell_type": "code",
   "execution_count": 94,
   "metadata": {
    "collapsed": false
   },
   "outputs": [],
   "source": [
    "def weights_version2(lake_in, datin,lat_atts,lon_atts):\n",
    "    '''\n",
    "    Four possibilities:\n",
    "    1. no lake in pixel      (bcheck = false, isect_check = false)  : Do NOTHING\n",
    "    2. some lake in pixel    (bcheck = True, isect_check = True)    : Do thing\n",
    "    3. all lake within pixel (bcheck=True, isect = True)            : Do thing\n",
    "    4. pxl fully within lake (bcheck = False, isect = True)         : Do thing\n",
    "    \n",
    "    '''\n",
    "    fillone = 0\n",
    "    lout = lake_in\n",
    "    pix_weights = np.zeros(np.shape(datin))\n",
    "    cnt = 0\n",
    "    latstep = ((lat_atts[-1]) - (lat_atts[0])) / (len(lat_atts))\n",
    "    lonstep = ((lon_atts[-1]) - (lon_atts[0])) / (len(lon_atts))\n",
    "    xvar = lon_atts[0] ; yvar= lat_atts[0]       # Initialize\n",
    "    for gx,x in enumerate(xrange(len(lon_atts))):\n",
    "        if(x == 0):  \n",
    "            x_ll = lon_atts[0]            # set the lower left cnr as first lon val\n",
    "            x_ur = lonstep + x_ll         # and the upper right, to be the x_ll + inc\n",
    "        if(x > 0):                        # If already in the loop, use older x_ll,x_ur\n",
    "            x_ll = x_ur                   # to continue calculating the B-box area\n",
    "            x_ur = x_ll + lonstep    \n",
    "        for gy,y in enumerate(xrange(len(lat_atts))):\n",
    "            #print 'XY position:',gx,gy\n",
    "            if(y == 0):\n",
    "                y_ll = lat_atts[0]\n",
    "                y_ur = latstep + y_ll\n",
    "            if(y > 0):\n",
    "                y_ll = y_ur\n",
    "                y_ur = y_ll + latstep  \n",
    "            lims =np.array([[x_ll,y_ll],[x_ur,y_ur]])  # 2D np.array for the BB object\n",
    "            tmpbb = Bbox(lims)\n",
    "            bcheck = False\n",
    "            cnr_check = False\n",
    "            # Verteci test (does the bounding box have an xy within it?)\n",
    "            vtest = [tmpbb.contains(n[0],n[1]) for n in lout.vertices]\n",
    "            vmask = vtest == True\n",
    "            #print lout.vertices[vmask], len(lout.vertices[vmask])\n",
    "            # If there are enough points to make a new path then set btest to True\n",
    "            if len(lout.vertices[vmask]) > 6: bcheck = True\n",
    "            # If all the pixels are true (lake is within the pixel entireley) then set as 1 and leave\n",
    "\n",
    "            # Encompassing test (is the pixel within the shape?)\n",
    "            cnrs =  tmpbb.corners() # Get an xy np array of the 4 BB corners\n",
    "            cnr_test = lout.contains_points(cnrs)\n",
    "            if len(cnr_test[cnr_test]) == 4: cnr_check = True\n",
    "            \n",
    "            # This will be true if there are any lake vectors WITHIN the pixel.\n",
    "            acheck = [((n[0] > lims[0][0])&(n[0]<lims[1][0])&(n[1] >lims[0][1])&\\\n",
    "                        (n[1]<lims[1][1])) for n in lout.vertices]\n",
    "            b2check = True in acheck  # See if a True value exists in acheck ANYWHERE\n",
    "            \n",
    "            \n",
    "            if gx == 3 and gy == 4:\n",
    "                print 'At least 3 points inside?', bcheck\n",
    "                print 'All corners inside lake?', cnr_check\n",
    "                print 'Any pixel within the boundary box?',b2check\n",
    "                #return acheck,tmpbb,lout\n",
    "            \n",
    "            \n",
    "            if bcheck or cnr_check or b2check:  # Execute for all situations except num.1\n",
    "                #print 'Doing thing, at least on condition true'\n",
    "                cnt = cnt + 1                 # Counter is just for testing.\n",
    "                #pix_weights[y,x] = 0.0  # For Lake pix calc. and the frac area (%)\n",
    "                sub_lout =[] \n",
    "                area_sub = []\n",
    "                sub_lout = lout.clip_to_bbox(tmpbb,inside ='True')\n",
    "                sub_lout = ECCO.BBOX_PathCode_Fix(sub_lout) # Corrects the 79 code error\n",
    "                area_sub = ECCO.Area_Lake_and_Islands(sub_lout)\n",
    "                lkarea = ECCO.Area_Lake_and_Islands(lout)\n",
    "                if lkarea > 0.1:  # Added 4 Dec 2014 to combat a bug from small lakes\n",
    "                    print 'Area more than 0.1km',area_sub,lkarea\n",
    "                    pix_weights[y,x]= area_sub/lkarea\n",
    "\n",
    "                if lkarea < 0.1:\n",
    "                    print 'Area less than 0.1km!'\n",
    "                    if fillone == 0:\n",
    "                        pix_weights[y,x] = 1.\n",
    "                    fillone = fillone + 1           \n",
    "            else:\n",
    "                pass\n",
    "                #print 'Not doing anything, all conditions false'   \n",
    "    return pix_weights"
   ]
  },
  {
   "cell_type": "code",
   "execution_count": 92,
   "metadata": {
    "collapsed": false
   },
   "outputs": [
    {
     "name": "stdout",
     "output_type": "stream",
     "text": [
      "At least 3 points inside? False\n",
      "All corners inside lake? False\n",
      "Any pixel within the boundary box? True\n",
      "Area more than 0.1km 0.135322399205 0.134638521384\n"
     ]
    }
   ],
   "source": [
    "wmask = weights_version2(lake_rprj,sub_clim,sub_rlat,sub_rlon)"
   ]
  },
  {
   "cell_type": "code",
   "execution_count": 93,
   "metadata": {
    "collapsed": false
   },
   "outputs": [
    {
     "data": {
      "image/png": "[encoded data removed]",
      "text/plain": [
       "<matplotlib.figure.Figure at 0x10a231d50>"
      ]
     },
     "metadata": {},
     "output_type": "display_data"
    },
    {
     "data": {
      "text/plain": [
       "1.0050793622346634"
      ]
     },
     "execution_count": 93,
     "metadata": {},
     "output_type": "execute_result"
    }
   ],
   "source": [
    "plt.imshow(wmask,interpolation='none',cmap=plt.cm.gray,origin='lower')\n",
    "plt.show()\n",
    "\n",
    "#plt.plot(wmask[:,10]) # Transect across the lake\n",
    "#plt.show()\n",
    "\n",
    "wmask.sum()"
   ]
  },
  {
   "cell_type": "code",
   "execution_count": 90,
   "metadata": {
    "collapsed": true
   },
   "outputs": [],
   "source": [
    "def Area_Lake_and_Islands(lake_poly):\n",
    "    '''Purpose  -  Calculate the area of a given Lake polygon, taking into account islands.\n",
    "    Input - Lake polygon object (which may or may not include islands). Polygon object \n",
    "            should be generated with the function Path_Lake_and_Islands().\n",
    "    Output- If islands are present the output is the area (in km^2) of the lake boundary\n",
    "            minus the sum of the island(s) area. If no islands are present then the output\n",
    "            is simply the area of the lake boundary.\n",
    "    '''\n",
    "    aaa = np.where(lake_poly.codes == 1)\n",
    "    bbb = np.where(lake_poly.codes == 79)\n",
    "    #print 'number of 1s:',len(aaa[0])\n",
    "    #print 'number of 79s',len(bbb[0])\n",
    "    island_num = (len(aaa[0]))-1\n",
    "    #print 'Found %i Islands'%island_num\n",
    "    area_start = [i for n,i in enumerate(aaa[0])]\n",
    "    area_end = [i for n,i in enumerate(bbb[0])]\n",
    "    #Seperated paths, pos.0 is the boundary and rest are islands\n",
    "    sep_paths = [lake_poly.vertices[area_start[n]:area_end[n]] for n,i in enumerate(area_start)]\n",
    "    #return sep_paths\n",
    "    sep_areas = [(Poly_Area2D_precise(ECCO.EqArea(sep_paths[n]))) for n in xrange(len(sep_paths))]\n",
    "    if island_num > 0:\n",
    "        total = sep_areas[0] - sum(sep_areas[1:])\n",
    "        #print 'Area minus Islands:',total\n",
    "    else:\n",
    "        total = sep_areas[0]\n",
    "        #print 'No islands found, total area is simply lake boundary'\n",
    "    #print 'Area without considering islands:',sep_areas[0]\n",
    "    return total"
   ]
  },
  {
   "cell_type": "code",
   "execution_count": 81,
   "metadata": {
    "collapsed": false
   },
   "outputs": [],
   "source": [
    "def Poly_Area2D_precise(poly):\n",
    "    '''\n",
    "    Updated 29/04/2015 BAL to fix a precision error. But old \n",
    "    function (Poly_Area2D) kept unchanged for rest of code.\n",
    "    Purpose - This function implements Green's Theorem to\n",
    "    calculate area of a polygon in a 2D co-ordinate system.\n",
    "    Input   - A polygon, as the verticies of a Matplotlib.Path \n",
    "    Notes   - More info at http://code.activestate.com/recipes/\n",
    "                           578275-2d-polygon-area\n",
    "    Join this function with EqArea function to find the area of a\n",
    "    lake in km^2.\n",
    "    Example - area = Poly_area2D(EqArea(A_Lake_Path.vertices))\n",
    "    '''\n",
    "    total = 0.0\n",
    "    N = len(poly)\n",
    "    for i in range(N):\n",
    "        v1 = poly[i]\n",
    "        v2 = poly[(i+1) % N]\n",
    "        total += v1[0]*v2[1] - v1[1]*v2[0]\n",
    "    return abs(total/2.)  "
   ]
  },
  {
   "cell_type": "code",
   "execution_count": 84,
   "metadata": {
    "collapsed": false
   },
   "outputs": [
    {
     "name": "stdout",
     "output_type": "stream",
     "text": [
      "0.134638521384\n"
     ]
    }
   ],
   "source": [
    "btest = Area_Lake_and_Islands(lake_poly=lake_rprj)\n",
    "print (Poly_Area2D_precise(ECCO.EqArea(btest[0])))"
   ]
  },
  {
   "cell_type": "code",
   "execution_count": null,
   "metadata": {
    "collapsed": true
   },
   "outputs": [],
   "source": [
    "0.134638521384"
   ]
  }
 ],
 "metadata": {
  "kernelspec": {
   "display_name": "Python 2",
   "language": "python",
   "name": "python2"
  },
  "language_info": {
   "codemirror_mode": {
    "name": "ipython",
    "version": 2
   },
   "file_extension": ".py",
   "mimetype": "text/x-python",
   "name": "python",
   "nbconvert_exporter": "python",
   "pygments_lexer": "ipython2",
   "version": "2.7.9"
  }
 },
 "nbformat": 4,
 "nbformat_minor": 0
}
