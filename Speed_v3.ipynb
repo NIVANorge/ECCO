{
 "metadata": {
  "name": "",
  "signature": "sha256:972088ac3476e11e1d4ae49ec287b31564ab89cf48256516b46d22448947a9ed"
 },
 "nbformat": 3,
 "nbformat_minor": 0,
 "worksheets": [
  {
   "cells": [
    {
     "cell_type": "code",
     "collapsed": false,
     "input": [
      "from ECCO_functions_v2 import *\n",
      "\n",
      "# Import some required modules and settings\n",
      "import numpy as np\n",
      "import scipy as sci\n",
      "import matplotlib.pyplot as plt\n",
      "import pandas as pd\n",
      "import datetime as dt\n",
      "\n",
      "pylab.rcParams['figure.figsize']=(10.0,8.0)\n"
     ],
     "language": "python",
     "metadata": {},
     "outputs": [],
     "prompt_number": 1
    },
    {
     "cell_type": "code",
     "collapsed": false,
     "input": [
      "lk_processed_inf = pd.read_csv('Lakes/meta_lake.dat')"
     ],
     "language": "python",
     "metadata": {},
     "outputs": [],
     "prompt_number": 2
    },
    {
     "cell_type": "code",
     "collapsed": false,
     "input": [
      "def Fast_v3(nc_path, lake_file, lake_num, outputprefix,lstart=0,lstop=275264,\n",
      "                       tt=None,plots = False,rprt_tme=False):\n",
      "    # Nb. Out of 275265 total lakes, 264532 of them are within one pixel of EUR-11 data\n",
      "    \n",
      "    # 1. LOADING DATA SECTION\n",
      "    if rprt_tme == True:\n",
      "        a = clock.time()\n",
      "    \n",
      "    lk_processed_inf = pd.read_csv('Lakes/meta_lake.dat')  # Pre-processed lake metadata (CSV)\n",
      "    lk_processed_inf.index = lk_processed_inf.hex          # Use the hex-code column as the index\n",
      "    lk_processed_inf = lk_processed_inf.drop('hex',1)      # No need to keep the column \n",
      "    \n",
      "    ShapeData = osgeo.ogr.Open(lake_file)                  # Make a link to Lake Shape Files\n",
      "    TheLayer = ShapeData.GetLayer(iLayer=0)\n",
      "    \n",
      "    clim_dat,rlat,rlon,time,metadata,txtfname = Read_CORDEX_V2(nc_path) # CORDEX NetCDF Read file\n",
      "    dat_loaded = clim_dat[:,:,:]                                        # Load CORDEX data into RAM\n",
      "    vname, m1, m2, dexp, m3, m4, m5, m6, drange_orignial = metadata     # Metadata of fname string\n",
      "    \n",
      "    \n",
      "    # 2. LOOP OVER ALL LAKES (or specified lakes from lstart to lstop)\n",
      "    # Nb. the metadata is called using the lake hexcode\n",
      "    dolakes=arange(lstart,lstop,1)\n",
      "    for n in dolakes:\n",
      "        num = n #lk_processed_inf.index[n]\n",
      "        \n",
      "    \n",
      "        feature1 = TheLayer.GetFeature(n) \n",
      "        lake_feature = feature1.ExportToJson(as_object=True)\n",
      "        lake_cart = Path_LkIsl_ShpFile(lake_feature['geometry']['coordinates']) \n",
      "        EB_id = lake_feature['properties']['EBhex']\n",
      "    \n",
      "        print 'Check:',n,lk_processed_inf.num[n],EB_id[2:],lk_processed_inf.index[n]\n",
      "        if EB_id[2:] != 'ccc59c':\n",
      "            print 'Warning. Lake data didnt match metadata for some reason.'\n",
      "            print 'Problem at:',num,lk_processed_inf.num[n],EB_id[2:],lk_processed_inf.index[n]\n",
      "    \n",
      "    '''\n",
      "    if rprt_tme == True:\n",
      "        b = clock.time()    \n",
      "    if plots == True:\n",
      "        Preview_Lake(lake_cart)        \n",
      "        print 'Area in km^2 (not inc. islands):', Area_Lake_and_Islands(lake_cart),         \n",
      "        print ', No. xy bound. points:',len(lake_cart.vertices)\n",
      "\n",
      "\n",
      "    lake_rprj = Path_Reproj(lake_cart,False) \n",
      "    \n",
      "\n",
      "\n",
      "    sub_clim,sub_rlat,sub_rlon = TrimToLake(lake_rprj,clim_dat[0,:,:],rlat,\n",
      "                                            rlon,off = 3, show = False) \n",
      "    weight_mask = Pixel_Weights(lake_rprj,sub_clim,sub_rlat,sub_rlon)\n",
      "\n",
      "\n",
      "    # If the data can easily be adjusted by height then send it for this calculation\n",
      "    type_of_data = clim_dat.standard_name\n",
      "    #print 'working on:',type_of_data\n",
      "    if ((type_of_data == 'air_temperature')| (type_of_data == 'surface_air_pressure')):\n",
      "        orog = Height_CORDEX()                               # Access the height data \n",
      "        lake_altitude=lake_feature['properties']['vfp_mean']\n",
      "        sub_orog,sub_rlat,sub_rlon = TrimToLake(lake_rprj,orog,rlat,\n",
      "                                            rlon,off = 3, show = False)\n",
      "        hght,offset = Orographic_Adjustment(weight_mask,sub_orog,\n",
      "                                        lake_altitude,clim_dat,chatty=False)\n",
      "    else:\n",
      "        hght = -999.   # If no offset is to calculated then\n",
      "        offset = -999. # just set them to missing data.\n",
      "\n",
      "    if plots == True:\n",
      "        Show_LakeAndData(lake_rprj,clim_dat[0,:,:],rlat,rlon,zoom=8.)\n",
      "        Preview_Weights(lake_rprj,weight_mask,sub_rlat,sub_rlon)\n",
      "    if rprt_tme == True:\n",
      "        c = clock.time()\n",
      "\n",
      "\n",
      "    # Here is where the weighting occurs\n",
      "    pix_truth = (weight_mask > 0.0)      # Count how many times the weight mask is\n",
      "    pxnum = len(weight_mask[pix_truth])  #  above 0.0 (i.e. how many pixels of data are needed)\n",
      "\n",
      "    \n",
      "    if pxnum <= 1: # If there is just one pixel, data can be extracted directly\n",
      "        xxx,yyy = Get_LatLonLim(lake_rprj.vertices)  # Find upp./low.lake lims.\n",
      "        ypix = (Closest(rlat,yyy[0]))\n",
      "        xpix = (Closest(rlon,xxx[0]))\n",
      "        tlist = dat_loaded[:, ypix, xpix]\n",
      "        \n",
      "\n",
      "    if pxnum > 1:  \n",
      "        # If there is more than one pixel, use a weighting method...\n",
      "        sub_clim,sub_rlat,sub_rlon = TrimToLake3D(lake_rprj,dat_loaded,rlat,rlon,\n",
      "                                                    off = 3, show = False)\n",
      "        tlist = Weighted_Mean_3D(weight_mask, sub_clim, chatty=False)\n",
      "\n",
      "        \n",
      "        \n",
      "    if rprt_tme == True:\n",
      "        d = clock.time()\n",
      "\n",
      "  \n",
      "    # SAVE DATA    \n",
      "        \n",
      "    idnew = EB_id[2:]\n",
      "    fnm_head = vname+'_'\n",
      "    hcreate = 'Height offset = %f  Data = %s, Time range = %s  Scenario = %s  Lake = %s'%(\\\n",
      "                offset, clim_dat.long_name, drange_orignial, dexp, EB_id[2:])\n",
      "    Folder_Create(outputprefix,fnm_head,EB_id)\n",
      "    pathname = os.path.join(outputprefix, '_'.join([m1, m2, m3, m4, m5, m6]),\n",
      "                            idnew[:2], idnew[:4], idnew)\n",
      "    #if not os.path.exists(pathname): os.makedirs(pathname)\n",
      "    #np.savetxt(os.path.join(pathname, txtfname+'txt.gz'),\n",
      "    #           tlist,fmt='%7.3f',newline='\\n', header=hcreate)\n",
      "    \n",
      "    if rprt_tme == True:\n",
      "        e = clock.time()\n",
      "        print num,' ',EB_id[2:],' Area(km^2)=', Area_Lake_and_Islands(lake_cart),' no pix:',pxnum\n",
      "        print ('%4.2f sec : Loading data:'%(b-a))\n",
      "        print ('%4.2f sec : Calculated height offset and Weighting Mask'%(c-b))\n",
      "        print ('%4.2f sec : Weighted time-series'%(d-c))\n",
      "        print ('%4.2f sec : Folder path and file creation'%(e-d))\n",
      "        print ('%4.2f sec : Total'%(e-a))\n",
      "    '''\n",
      "    return"
     ],
     "language": "python",
     "metadata": {},
     "outputs": [],
     "prompt_number": 134
    },
    {
     "cell_type": "heading",
     "level": 2,
     "metadata": {},
     "source": [
      "Test run..."
     ]
    },
    {
     "cell_type": "code",
     "collapsed": false,
     "input": [
      "nc_path = '/uio/kant/geo-metos-u1/blaken/datadisk/ECCO/CORDEX/Data_CORDEX/rlus_EUR-11_ICHEC-EC-EARTH_rcp45_r1i1p1_KNMI-RACMO22E_v1_day_20310101-20351231.nc'\n",
      "#nc_path = '/uio/kant/geo-metos-u1/blaken/datadisk/ECCO/CORDEX/Data_CORDEX/rlus_EUR-11_ICHEC-EC-EARTH_historical_r1i1p1_KNMI-RACMO22E_v1_day_19710101-19751231.nc'\n",
      "\n",
      "lake_data='Lakes/ecco-biwa_lakes_v/ecco-biwa_lakes_v.0.1.shp'\n",
      "lake_num = 266840  #2782   #266840 #(13 pixel lake - largest)\n",
      "out_path = 'Outputs'"
     ],
     "language": "python",
     "metadata": {},
     "outputs": [],
     "prompt_number": 2
    },
    {
     "cell_type": "code",
     "collapsed": false,
     "input": [
      "# Test read lake_metadata file...\n",
      "\n",
      "# Read the data file as a Pandas object (formatted as CSV text file)\n",
      "lk_processed_inf = pd.read_csv('Lakes/meta_lake.dat')\n",
      "lk_processed_inf = lk_processed_inf.drop('num',1) # No need to keep the number column, as the index works"
     ],
     "language": "python",
     "metadata": {},
     "outputs": [],
     "prompt_number": 96
    },
    {
     "cell_type": "code",
     "collapsed": false,
     "input": [
      "Fast_v3(nc_path,lake_data,n,out_path,lstart=180852,lstop=180854,plots=False,rprt_tme=False)"
     ],
     "language": "python",
     "metadata": {},
     "outputs": [
      {
       "output_type": "stream",
       "stream": "stdout",
       "text": [
        "Check: 180852 180852 66d8af 66d8af6\n",
        "Warning. Lake data didnt match metadata for some reason.\n",
        "Problem at: 180852 180852 66d8af 66d8af6\n",
        "Check: 180853 180853 8 86\n",
        "Warning. Lake data didnt match metadata for some reason.\n",
        "Problem at: 180853 180853 8 86\n"
       ]
      }
     ],
     "prompt_number": 135
    },
    {
     "cell_type": "heading",
     "level": 2,
     "metadata": {},
     "source": [
      "Generate an archive of BIG LAKE weights for read in later with a simple rule"
     ]
    },
    {
     "cell_type": "code",
     "collapsed": false,
     "input": [
      "a = lk_processed_inf.ptime >= 0.5\n",
      "b = lk_processed_inf.pix > 1\n",
      "\n",
      "print 'Total no of lakes',len(lk_processed_inf)\n",
      "print 'No of lakes with weight mask time > 1 sec:',len(lk_processed_inf.pix[a])\n",
      "print 'No of lakes with >1 pix:',len(lk_processed_inf.pix[b])\n",
      "\n",
      "#print lk_processed_inf.index[a]"
     ],
     "language": "python",
     "metadata": {},
     "outputs": [
      {
       "output_type": "stream",
       "stream": "stdout",
       "text": [
        "Total no of lakes 275265\n",
        "No of lakes with weight mask time > 1 sec: 719\n",
        "No of lakes with >1 pix: 10733\n"
       ]
      }
     ],
     "prompt_number": 23
    },
    {
     "cell_type": "code",
     "collapsed": false,
     "input": [
      "# Here is where the .npy data files were calculated (the weighted masks to be read in during runs)\n",
      "#a = lk_processed_inf.ptime >= 0.5\n",
      "#speed_list = lk_processed_inf.index[a]\n",
      "#\n",
      "#nc_path = '/uio/kant/geo-metos-u1/blaken/datadisk/ECCO/CORDEX/Data_CORDEX/rlus_EUR-11_ICHEC-EC-EARTH_rcp45_r1i1p1_KNMI-RACMO22E_v1_day_20310101-20351231.nc'\n",
      "#lake_data='Lakes/ecco-biwa_lakes_v/ecco-biwa_lakes_v.0.1.shp'\n",
      "#out_path = 'Outputs'\n",
      "\n",
      "#icnt = 0\n",
      "#for n in speed_list:\n",
      "#    print icnt, ' of ', len(speed_list)\n",
      "#    Weight_Speedup(nc_path, lake_data, n, out_path,plots=False,rprt_tme=False)\n",
      "#    icnt = icnt+1"
     ],
     "language": "python",
     "metadata": {},
     "outputs": [],
     "prompt_number": 25
    },
    {
     "cell_type": "heading",
     "level": 2,
     "metadata": {},
     "source": [
      "Testing and test plotting"
     ]
    },
    {
     "cell_type": "code",
     "collapsed": false,
     "input": [
      "lk_processed_inf.keys()"
     ],
     "language": "python",
     "metadata": {},
     "outputs": [
      {
       "metadata": {},
       "output_type": "pyout",
       "prompt_number": 19,
       "text": [
        "Index([u'hex', u'area', u'pix', u'ptime'], dtype='object')"
       ]
      }
     ],
     "prompt_number": 19
    },
    {
     "cell_type": "code",
     "collapsed": false,
     "input": [
      "n, bins, patches = hist(lk_processed_inf.area, 30, normed=False, histtype='stepfilled',\n",
      "                        log=True,align='mid')\n",
      "setp(patches, 'facecolor', 'b', 'alpha', 0.75)\n",
      "plt.title('Number of Lakes by area')\n",
      "plt.xlabel(r'Area ($km^{2}$)')\n",
      "plt.ylabel('Number of Lakes')\n",
      "plt.grid(True)\n"
     ],
     "language": "python",
     "metadata": {},
     "outputs": [
      {
       "metadata": {},
       "output_type": "display_data",
       "png": "[encoded data removed]",
       "text": [
        "<matplotlib.figure.Figure at 0x7fe84e486950>"
       ]
      }
     ],
     "prompt_number": 128
    },
    {
     "cell_type": "code",
     "collapsed": false,
     "input": [
      "\n",
      "plt.hist(lk_processed_inf.area, bins=np.logspace(0.1, 3.0, 50),normed=True, histtype='stepfilled')\n",
      "plt.gca().set_xscale(\"log\")\n",
      "#plt.gca().set_yscale(\"log\")\n",
      "\n",
      "setp(patches, 'facecolor', 'b', 'alpha', 0.6)\n",
      "plt.title('Density of Lakes by area (of <3 $km^{2}$)',fontsize=11)\n",
      "plt.xlabel(r'Area ($km^{2}$)')\n",
      "plt.ylabel('Density of Lakes')\n",
      "plt.grid(True)\n",
      "plt.show()"
     ],
     "language": "python",
     "metadata": {},
     "outputs": [
      {
       "metadata": {},
       "output_type": "display_data",
       "png": "[encoded data removed]",
       "text": [
        "<matplotlib.figure.Figure at 0x7fe8512b3310>"
       ]
      }
     ],
     "prompt_number": 131
    },
    {
     "cell_type": "code",
     "collapsed": false,
     "input": [
      "lk_processed_inf = pd.read_csv('Lakes/meta_lake.dat')  # Pre-processed lake metadata (CSV)\n",
      "#lk_processed_inf.index = lk_processed_inf.hex          # Use the hex-code column as the index\n",
      "#lk_processed_inf = lk_processed_inf.drop('hex',1)      # No need to keep the column "
     ],
     "language": "python",
     "metadata": {},
     "outputs": [],
     "prompt_number": 2
    },
    {
     "cell_type": "code",
     "collapsed": false,
     "input": [
      "longtime =  lk_processed_inf.ptime > 6\n",
      "print len(lk_processed_inf.ptime[longtime])\n",
      "print lk_processed_inf.ptime[longtime]"
     ],
     "language": "python",
     "metadata": {},
     "outputs": [
      {
       "output_type": "stream",
       "stream": "stdout",
       "text": [
        "12\n",
        "266232     20.27\n",
        "268396     11.47\n",
        "272836      7.30\n",
        "272837     26.45\n",
        "272846     10.36\n",
        "272850    354.02\n",
        "272864     14.35\n",
        "272891      8.75\n",
        "272902     14.37\n",
        "272912      7.09\n",
        "272938     27.27\n",
        "272954     46.46\n",
        "Name: ptime, dtype: float64\n"
       ]
      }
     ],
     "prompt_number": 3
    },
    {
     "cell_type": "code",
     "collapsed": false,
     "input": [],
     "language": "python",
     "metadata": {},
     "outputs": [],
     "prompt_number": 2
    },
    {
     "cell_type": "code",
     "collapsed": false,
     "input": [
      "plt.plot(lk_processed_inf.pix,lk_processed_inf.ptime,'rx')\n",
      "plt.yscale('log')\n",
      "#plt.xscale('log')"
     ],
     "language": "python",
     "metadata": {},
     "outputs": [
      {
       "metadata": {},
       "output_type": "display_data",
       "png": "[encoded data removed]",
       "text": [
        "<matplotlib.figure.Figure at 0x7f61ef921cd0>"
       ]
      }
     ],
     "prompt_number": 8
    },
    {
     "cell_type": "code",
     "collapsed": false,
     "input": [],
     "language": "python",
     "metadata": {},
     "outputs": []
    }
   ],
   "metadata": {}
  }
 ]
}