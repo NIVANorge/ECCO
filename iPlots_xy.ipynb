{
 "metadata": {
  "name": "",
  "signature": "sha256:9daa6a43d81720a30319d123c6abbc4b74b855e1e1793a3c1f3551f432d59a66"
 },
 "nbformat": 3,
 "nbformat_minor": 0,
 "worksheets": [
  {
   "cells": [
    {
     "cell_type": "code",
     "collapsed": false,
     "input": [
      "from __future__ import print_function,division,generators\n",
      "%pylab inline\n",
      "from bokeh.plotting import *\n",
      "from bokeh.models import HoverTool\n",
      "from collections import OrderedDict\n",
      "import pandas as pd\n",
      "import osgeo.ogr\n",
      "import ECCO_functions as ECCO\n",
      "from IPython.html.widgets import interact\n",
      "import scipy.stats as ss\n",
      "import sys\n",
      "\n",
      "#output_notebook()                                           # Render in the notebook\n",
      "output_file(\"Meta_Lakes_xy.html\", title=\"ECCO Lakes (x,y)\")  # Save to a webpage"
     ],
     "language": "python",
     "metadata": {},
     "outputs": [
      {
       "output_type": "stream",
       "stream": "stdout",
       "text": [
        "Populating the interactive namespace from numpy and matplotlib\n",
        "Session output file 'Meta_Lakes_xy.html' already exists, will be overwritten."
       ]
      },
      {
       "output_type": "stream",
       "stream": "stdout",
       "text": [
        "\n"
       ]
      }
     ],
     "prompt_number": 1
    },
    {
     "cell_type": "code",
     "collapsed": false,
     "input": [
      "def status(current,end_val, bar_length=20):\n",
      "    percent = float(current) / end_val\n",
      "    hashes = '#' * int(round(percent * bar_length))\n",
      "    spaces = ' ' * (bar_length - len(hashes))\n",
      "    sys.stdout.write(\"\\rPercent: [{0}] {1}%\".format(hashes + spaces, int(round(percent * 100))))\n",
      "    sys.stdout.flush()"
     ],
     "language": "python",
     "metadata": {},
     "outputs": [],
     "prompt_number": 2
    },
    {
     "cell_type": "code",
     "collapsed": false,
     "input": [
      "meta = pd.read_csv('Metadata/Lake_Stats.csv')    # Very nice!\n",
      "meta.index = meta.Lake_ID                            # Index the metadata by lake ID's"
     ],
     "language": "python",
     "metadata": {},
     "outputs": [],
     "prompt_number": 3
    },
    {
     "cell_type": "code",
     "collapsed": false,
     "input": [
      "# Calculate radius of circles (size set by the rank of lake area)\n",
      "ranked = ss.rankdata(meta.Area)  # Use the Scipy.stats.rankdata function to calculate rank of lakes by Area\n",
      "ranked = (ranked/max(ranked))   # Normalize the rank size to values between 0 and 0.2"
     ],
     "language": "python",
     "metadata": {},
     "outputs": [],
     "prompt_number": 4
    },
    {
     "cell_type": "code",
     "collapsed": false,
     "input": [
      "# Rank the lake 3D distance inland, and split the lakes into n catagories\n",
      "# for heat-map colouring\n",
      "color_map = [\n",
      "    \"#75968f\", \"#a5bab7\", \"#c9d9d3\", \"#e2e2e2\", \"#dfccce\",\n",
      "    \"#ddb7b1\", \"#cc7878\", \"#933b41\", \"#550b1d\"]\n",
      "\n",
      "rank3D = ss.rankdata(meta.Dist3D)/max(ss.rankdata(meta.Dist3D))\n",
      "lk_color= [0] * len(rank3D)   # Initilize a blank list of correct lenght\n",
      "increment = (max(rank3D)/len(color_map))\n",
      "base = 0.0\n",
      "for n,color in enumerate(color_map):\n",
      "    print('Catagory:',n,'Color:',color,'Norm. Rank of', base,'-->',base+increment)\n",
      "    tmp = np.where((rank3D >= base) & (rank3D <= (base+increment)))\n",
      "    for nele in tmp[0]:\n",
      "        lk_color[nele]= color   # Here is where the color is added to a list \n",
      "    base += increment"
     ],
     "language": "python",
     "metadata": {},
     "outputs": [
      {
       "output_type": "stream",
       "stream": "stdout",
       "text": [
        "Catagory: 0 Color: #75968f Norm. Rank of 0.0 --> 0.111111111111\n",
        "Catagory: 1 Color: #a5bab7 Norm. Rank of 0.111111111111 --> 0.222222222222\n",
        "Catagory: 2 Color: #c9d9d3 Norm. Rank of 0.222222222222 --> 0.333333333333\n",
        "Catagory: 3 Color: #e2e2e2 Norm. Rank of 0.333333333333 --> 0.444444444444\n",
        "Catagory: 4 Color: #dfccce Norm. Rank of 0.444444444444 --> 0.555555555556\n",
        "Catagory: 5 Color: #ddb7b1 Norm. Rank of 0.555555555556 --> 0.666666666667\n",
        "Catagory: 6 Color: #cc7878 Norm. Rank of 0.666666666667 --> 0.777777777778\n",
        "Catagory: 7 Color: #933b41 Norm. Rank of 0.777777777778 --> 0.888888888889\n",
        "Catagory: 8 Color: #550b1d Norm. Rank of 0.888888888889 --> 1.0\n"
       ]
      }
     ],
     "prompt_number": 5
    },
    {
     "cell_type": "code",
     "collapsed": false,
     "input": [
      "country_file = '/Users/Ben/Work/Python/Programs/ECCO/Metadata/TM_WORLD_BORDERS-0/TM_WORLD_BORDERS-0.3.shp'\n",
      "ShapeData = osgeo.ogr.Open(country_file)                  # Make a link to TM world borders\n",
      "TheLayer = ShapeData.GetLayer(iLayer=0)\n",
      "\n",
      "Find_Countries=['Norway','Finland','Sweden']\n",
      "Ctry_xpoints=[]\n",
      "Ctry_ypoints=[]\n",
      "Ctry_Names=[]\n",
      "Ctry_alt=[]   # entries will be blank fields for hover tool\n",
      "Ctry_area=[]\n",
      "Ctry_id=[]\n",
      "\n",
      "ShapeData = osgeo.ogr.Open(country_file)                  # Make a link to TM world borders\n",
      "TheLayer = ShapeData.GetLayer(iLayer=0)\n",
      "\n",
      "for n in range(246):\n",
      "    tmp_feature = TheLayer.GetFeature(n).ExportToJson(as_object=True)\n",
      "    if tmp_feature['properties']['NAME'] in Find_Countries:\n",
      "        print('Found shape of',tmp_feature['properties']['NAME'])\n",
      "        \n",
      "        \n",
      "        xpoints =[]                                                             # Tmp hold\n",
      "        ypoints =[]\n",
      "        if(len(tmp_feature['geometry']['coordinates']) == 1):  # if only one polygon in country\n",
      "            xpoints=[]\n",
      "            ypoints=[]\n",
      "            for points in tmp_feature['geometry']['coordinates'][0]:\n",
      "                #print(points[0],points[1])\n",
      "                xpoints.append(points[0])\n",
      "                ypoints.append(points[1])\n",
      "            Ctry_xpoints.append(xpoints)\n",
      "            Ctry_ypoints.append(ypoints)\n",
      "            Ctry_Names.append([tmp_feature['properties']['NAME']])\n",
      "            Ctry_alt.append(['n/a'])\n",
      "            Ctry_area.append(['n/a'])\n",
      "            \n",
      "        if(len(tmp_feature['geometry']['coordinates']) > 3):\n",
      "            for n in range(len(tmp_feature['geometry']['coordinates'])):\n",
      "                xpoints=[]\n",
      "                ypoints=[]\n",
      "                for points in tmp_feature['geometry']['coordinates'][n][0]:\n",
      "                    #print(points[0],points[1])\n",
      "                    xpoints.append(points[0])\n",
      "                    ypoints.append(points[1])\n",
      "                Ctry_xpoints.append(xpoints)\n",
      "                Ctry_ypoints.append(ypoints)\n",
      "                Ctry_Names.append([tmp_feature['properties']['NAME']])\n",
      "                Ctry_alt.append(['n/a'])\n",
      "                Ctry_area.append(['n/a'])\n"
     ],
     "language": "python",
     "metadata": {},
     "outputs": [
      {
       "output_type": "stream",
       "stream": "stdout",
       "text": [
        "Found shape of Finland\n",
        "Found shape of"
       ]
      },
      {
       "output_type": "stream",
       "stream": "stdout",
       "text": [
        " Norway\n",
        "Found shape of"
       ]
      },
      {
       "output_type": "stream",
       "stream": "stdout",
       "text": [
        " Sweden\n"
       ]
      }
     ],
     "prompt_number": 6
    },
    {
     "cell_type": "code",
     "collapsed": false,
     "input": [
      "# Set the plotting dictionaries\n",
      "source = 0\n",
      "\n",
      "TOOLS=\"pan,wheel_zoom,box_zoom,reset,resize,hover,save\"\n",
      "\n",
      "\n",
      "# Set up Country Shape plots\n",
      "source2 = ColumnDataSource(     # Construct a data dictionary for Bokeh to use\n",
      "    data=dict(\n",
      "        x=Ctry_xpoints,\n",
      "        y=Ctry_ypoints,\n",
      "        Ctry=Ctry_Names,\n",
      "        Area=Ctry_area,       # N/a containers\n",
      "        z=Ctry_area,\n",
      "        ID_list=Ctry_area,\n",
      "        Inland=Ctry_area,\n",
      "    )\n",
      ")\n",
      "\n",
      "\n",
      "\n",
      "# Set up lake plots\n",
      "source = ColumnDataSource(  \n",
      "    data=dict(\n",
      "        y=meta.Lat,\n",
      "        x=meta.Lon,\n",
      "        z=meta.Alt,\n",
      "        ID_list=meta.Lake_ID,\n",
      "        Area=meta.Area,\n",
      "        Ctry=meta.Country,\n",
      "        Inland=meta.Dist3D,\n",
      "        Radius=ranked,\n",
      "    )\n",
      ")\n"
     ],
     "language": "python",
     "metadata": {},
     "outputs": [],
     "prompt_number": 7
    },
    {
     "cell_type": "code",
     "collapsed": false,
     "input": [
      "p = 0\n",
      "\n",
      "p = figure(title=\"ECCO metadata (Lake x,y)\", tools=TOOLS)\n",
      "\n",
      "p.patches(\"x\", \"y\", fill_color='green',fill_alpha=1.,\n",
      "    line_color=None, line_width=0.5,source=source2)\n",
      "\n",
      "\n",
      "#p.circle(\"z\",\"y\", radius=(ranked*10.), source=source,            # Alt vs Lat\n",
      "#         fill_color=lk_color, fill_alpha=0.6,line_color=None)\n",
      "\n",
      "p.circle(\"x\",\"y\", radius=(ranked*0.01), source=source,            # Lon vs Lat\n",
      "         fill_color=lk_color, fill_alpha=0.7,line_color=None)\n",
      "\n",
      "\n",
      "hover = p.select(dict(type=HoverTool))\n",
      "\n",
      "hover.snap_to_data = True\n",
      "hover.tooltips = [\n",
      "    (\"Lake ID\", \"@ID_list\"),\n",
      "    (\"Lon.(\u00b0E), Lat.(\u00b0N)\", \"($x, $y)\"),\n",
      "    (\"Alt.(m)\", \"@z\"),\n",
      "    (\"Country\",\"@Ctry\"),\n",
      "    (\"Area (km&sup2;)\",\"@Area\"),\n",
      "    (\"Dist. to coast (km)\",\"@Inland\"),\n",
      "]\n",
      "\n",
      "p.yaxis.axis_label=\"Latitude (\u00b0N)\"\n",
      "p.xaxis.axis_label=\"Longitude (\u00b0E)\"\n",
      "#p.xaxis.axis_label=\"Altitude (m. above mean sea level)\"\n",
      "p.background_fill= \"#19D1FF\"\n",
      "\n",
      "show(p)"
     ],
     "language": "python",
     "metadata": {},
     "outputs": [],
     "prompt_number": 8
    }
   ],
   "metadata": {}
  }
 ]
}