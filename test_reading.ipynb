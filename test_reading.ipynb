{
 "cells": [
  {
   "cell_type": "markdown",
   "metadata": {},
   "source": [
    "## Example reading data from h5 files\n",
    "[Norstore data site](http://ecco.norstore.uio.no/)\n",
    "example with Lakes_clt_EUR-11_MOHC-HadGEM2-ES_historical_r1i1p1_SMHI"
   ]
  },
  {
   "cell_type": "code",
   "execution_count": 24,
   "metadata": {},
   "outputs": [],
   "source": [
    "import h5py as h5\n",
    "import pandas as pd\n",
    "import datetime as dt"
   ]
  },
  {
   "cell_type": "markdown",
   "metadata": {},
   "source": [
    "First, you must load the metadata file. The metadat file is avialbe from the ECCO repo on github. This is easily done with pandas, like so:"
   ]
  },
  {
   "cell_type": "code",
   "execution_count": 9,
   "metadata": {},
   "outputs": [
    {
     "data": {
      "text/html": [
       "<div>\n",
       "<style>\n",
       "    .dataframe thead tr:only-child th {\n",
       "        text-align: right;\n",
       "    }\n",
       "\n",
       "    .dataframe thead th {\n",
       "        text-align: left;\n",
       "    }\n",
       "\n",
       "    .dataframe tbody tr th {\n",
       "        vertical-align: top;\n",
       "    }\n",
       "</style>\n",
       "<table border=\"1\" class=\"dataframe\">\n",
       "  <thead>\n",
       "    <tr style=\"text-align: right;\">\n",
       "      <th></th>\n",
       "      <th>Lake_ID</th>\n",
       "      <th>Lon</th>\n",
       "      <th>Lat</th>\n",
       "      <th>Alt</th>\n",
       "      <th>Dist</th>\n",
       "      <th>Area</th>\n",
       "      <th>Dist3D</th>\n",
       "      <th>Country</th>\n",
       "    </tr>\n",
       "  </thead>\n",
       "  <tbody>\n",
       "    <tr>\n",
       "      <th>0</th>\n",
       "      <td>a2204</td>\n",
       "      <td>13.445644</td>\n",
       "      <td>59.327617</td>\n",
       "      <td>45.449316</td>\n",
       "      <td>-127.0</td>\n",
       "      <td>0.05</td>\n",
       "      <td>127.000008</td>\n",
       "      <td>Sweden</td>\n",
       "    </tr>\n",
       "    <tr>\n",
       "      <th>1</th>\n",
       "      <td>ccc59c</td>\n",
       "      <td>19.653206</td>\n",
       "      <td>63.445091</td>\n",
       "      <td>3.480706</td>\n",
       "      <td>-1.0</td>\n",
       "      <td>0.16</td>\n",
       "      <td>1.000006</td>\n",
       "      <td>Sweden</td>\n",
       "    </tr>\n",
       "    <tr>\n",
       "      <th>2</th>\n",
       "      <td>155980</td>\n",
       "      <td>18.316388</td>\n",
       "      <td>63.212028</td>\n",
       "      <td>125.780994</td>\n",
       "      <td>-12.0</td>\n",
       "      <td>0.56</td>\n",
       "      <td>12.000659</td>\n",
       "      <td>Sweden</td>\n",
       "    </tr>\n",
       "    <tr>\n",
       "      <th>3</th>\n",
       "      <td>dade22</td>\n",
       "      <td>13.872801</td>\n",
       "      <td>63.295033</td>\n",
       "      <td>297.376465</td>\n",
       "      <td>-133.0</td>\n",
       "      <td>0.52</td>\n",
       "      <td>133.000332</td>\n",
       "      <td>Sweden</td>\n",
       "    </tr>\n",
       "    <tr>\n",
       "      <th>4</th>\n",
       "      <td>1fc67b</td>\n",
       "      <td>17.288603</td>\n",
       "      <td>63.300165</td>\n",
       "      <td>210.000316</td>\n",
       "      <td>-39.0</td>\n",
       "      <td>0.34</td>\n",
       "      <td>39.000565</td>\n",
       "      <td>Sweden</td>\n",
       "    </tr>\n",
       "  </tbody>\n",
       "</table>\n",
       "</div>"
      ],
      "text/plain": [
       "  Lake_ID        Lon        Lat         Alt   Dist  Area      Dist3D Country\n",
       "0   a2204  13.445644  59.327617   45.449316 -127.0  0.05  127.000008  Sweden\n",
       "1  ccc59c  19.653206  63.445091    3.480706   -1.0  0.16    1.000006  Sweden\n",
       "2  155980  18.316388  63.212028  125.780994  -12.0  0.56   12.000659  Sweden\n",
       "3  dade22  13.872801  63.295033  297.376465 -133.0  0.52  133.000332  Sweden\n",
       "4  1fc67b  17.288603  63.300165  210.000316  -39.0  0.34   39.000565  Sweden"
      ]
     },
     "execution_count": 9,
     "metadata": {},
     "output_type": "execute_result"
    }
   ],
   "source": [
    "meta = pd.read_csv('Metadata/Lake_Stats.csv') \n",
    "\n",
    "meta.head()"
   ]
  },
  {
   "cell_type": "markdown",
   "metadata": {},
   "source": [
    "The metadata contains metadata about the lakes. These are classified by ID. You can use the ID as an index to access the lake in each h5 file.\n",
    "\n",
    "To load data for a specific lake, you must connect to a h5 file, and then extract the data as shown below:"
   ]
  },
  {
   "cell_type": "code",
   "execution_count": 25,
   "metadata": {},
   "outputs": [],
   "source": [
    "fname='/Users/Ben/Downloads/Lakes_clt_EUR-11_MOHC-HadGEM2-ES_historical_r1i1p1_SMHI-RCA4_v1_day_19710101-19751230.h5'\n",
    "\n",
    "with h5.File(fname, mode='r') as f:\n",
    "    lake_data = f[meta.Lake_ID[1]].value"
   ]
  },
  {
   "cell_type": "markdown",
   "metadata": {},
   "source": [
    "The `lake_data` variable is now a numpy array of values, a 1D time-series"
   ]
  },
  {
   "cell_type": "code",
   "execution_count": 26,
   "metadata": {},
   "outputs": [
    {
     "name": "stdout",
     "output_type": "stream",
     "text": [
      "Lenght of data:  1800\n"
     ]
    },
    {
     "data": {
      "text/plain": [
       "array([ 66.28125,  47.9375 ,  91.03125, ...,  84.40625,  86.09375,\n",
       "        81.03125], dtype=float32)"
      ]
     },
     "execution_count": 26,
     "metadata": {},
     "output_type": "execute_result"
    }
   ],
   "source": [
    "print('Lenght of data: ',len(lake_data))\n",
    "lake_data"
   ]
  },
  {
   "cell_type": "markdown",
   "metadata": {},
   "source": [
    "Let's map the values to dates based on the dates extracted from the filename"
   ]
  },
  {
   "cell_type": "code",
   "execution_count": 35,
   "metadata": {},
   "outputs": [],
   "source": [
    "date_list = fname.split('/')[-1].split('.h5')[0].split('_')[-1].split(\"-\")\n",
    "dts = [dt.datetime(int(date[0:4]), int(date[4:6]), int(date[6:8])) for date in date_list]"
   ]
  },
  {
   "cell_type": "code",
   "execution_count": 89,
   "metadata": {},
   "outputs": [],
   "source": [
    "date_list = pd.date_range(dts[0], dts[1])"
   ]
  },
  {
   "cell_type": "code",
   "execution_count": 96,
   "metadata": {},
   "outputs": [
    {
     "data": {
      "text/html": [
       "<div>\n",
       "<style>\n",
       "    .dataframe thead tr:only-child th {\n",
       "        text-align: right;\n",
       "    }\n",
       "\n",
       "    .dataframe thead th {\n",
       "        text-align: left;\n",
       "    }\n",
       "\n",
       "    .dataframe tbody tr th {\n",
       "        vertical-align: top;\n",
       "    }\n",
       "</style>\n",
       "<table border=\"1\" class=\"dataframe\">\n",
       "  <thead>\n",
       "    <tr style=\"text-align: right;\">\n",
       "      <th></th>\n",
       "      <th>cloud_cover</th>\n",
       "    </tr>\n",
       "  </thead>\n",
       "  <tbody>\n",
       "    <tr>\n",
       "      <th>1971-01-01</th>\n",
       "      <td>66.28125</td>\n",
       "    </tr>\n",
       "    <tr>\n",
       "      <th>1971-01-02</th>\n",
       "      <td>47.93750</td>\n",
       "    </tr>\n",
       "    <tr>\n",
       "      <th>1971-01-03</th>\n",
       "      <td>91.03125</td>\n",
       "    </tr>\n",
       "    <tr>\n",
       "      <th>1971-01-04</th>\n",
       "      <td>38.18750</td>\n",
       "    </tr>\n",
       "    <tr>\n",
       "      <th>1971-01-05</th>\n",
       "      <td>50.81250</td>\n",
       "    </tr>\n",
       "  </tbody>\n",
       "</table>\n",
       "</div>"
      ],
      "text/plain": [
       "            cloud_cover\n",
       "1971-01-01     66.28125\n",
       "1971-01-02     47.93750\n",
       "1971-01-03     91.03125\n",
       "1971-01-04     38.18750\n",
       "1971-01-05     50.81250"
      ]
     },
     "execution_count": 96,
     "metadata": {},
     "output_type": "execute_result"
    }
   ],
   "source": [
    "df = pd.DataFrame(lake_data,index=date_list[0:-25], columns=['cloud_cover'])\n",
    "df.head()"
   ]
  },
  {
   "cell_type": "code",
   "execution_count": 109,
   "metadata": {},
   "outputs": [
    {
     "data": {
      "text/plain": [
       "<matplotlib.axes._subplots.AxesSubplot at 0x114188940>"
      ]
     },
     "execution_count": 109,
     "metadata": {},
     "output_type": "execute_result"
    },
    {
     "data": {
      "image/png": "[encoded data removed]",
      "text/plain": [
       "<matplotlib.figure.Figure at 0x118be3ac8>"
      ]
     },
     "metadata": {},
     "output_type": "display_data"
    }
   ],
   "source": [
    "df.plot()"
   ]
  },
  {
   "cell_type": "code",
   "execution_count": 102,
   "metadata": {},
   "outputs": [
    {
     "data": {
      "text/plain": [
       "array([[<matplotlib.axes._subplots.AxesSubplot object at 0x113c38630>]], dtype=object)"
      ]
     },
     "execution_count": 102,
     "metadata": {},
     "output_type": "execute_result"
    },
    {
     "data": {
      "image/png": "[encoded data removed]",
      "text/plain": [
       "<matplotlib.figure.Figure at 0x113c44cf8>"
      ]
     },
     "metadata": {},
     "output_type": "display_data"
    }
   ],
   "source": [
    "df.hist(normed=True, bins=25)"
   ]
  },
  {
   "cell_type": "code",
   "execution_count": null,
   "metadata": {
    "collapsed": true
   },
   "outputs": [],
   "source": []
  }
 ],
 "metadata": {
  "kernelspec": {
   "display_name": "Python [conda env:py36]",
   "language": "python",
   "name": "conda-env-py36-py"
  },
  "language_info": {
   "codemirror_mode": {
    "name": "ipython",
    "version": 3
   },
   "file_extension": ".py",
   "mimetype": "text/x-python",
   "name": "python",
   "nbconvert_exporter": "python",
   "pygments_lexer": "ipython3",
   "version": "3.6.1"
  }
 },
 "nbformat": 4,
 "nbformat_minor": 2
}
