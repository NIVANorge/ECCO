{
 "metadata": {
  "name": "",
  "signature": "sha256:cfc954641388e589587b0a0a4502c3699cba67797de5879e6b166734e6fafe02"
 },
 "nbformat": 3,
 "nbformat_minor": 0,
 "worksheets": [
  {
   "cells": [
    {
     "cell_type": "markdown",
     "metadata": {},
     "source": [
      "##Create TS Contour plot##"
     ]
    },
    {
     "cell_type": "code",
     "collapsed": false,
     "input": [
      "from __future__ import print_function,division,generators\n",
      "%pylab inline\n",
      "\n",
      "import pandas as pd\n",
      "import sys\n",
      "import h5py\n",
      "import datetime as dt\n",
      "from IPython.html.widgets import interact\n",
      "import numpy as np\n",
      "import matplotlib.cm as cm\n",
      "import matplotlib.mlab as mlab\n",
      "import matplotlib.pyplot as plt"
     ],
     "language": "python",
     "metadata": {},
     "outputs": [
      {
       "output_type": "stream",
       "stream": "stdout",
       "text": [
        "Populating the interactive namespace from numpy and matplotlib\n"
       ]
      }
     ],
     "prompt_number": 36
    },
    {
     "cell_type": "code",
     "collapsed": false,
     "input": [
      "def status(current,end_val, bar_length=20):\n",
      "    ''' Spawns a status bar\n",
      "    '''\n",
      "    percent = float(current) / end_val\n",
      "    hashes = '#' * int(round(percent * bar_length))\n",
      "    spaces = ' ' * (bar_length - len(hashes))\n",
      "    sys.stdout.write(\"\\rPercent: [{0}] {1}% \".format(hashes + spaces, int(round(percent * 100))))\n",
      "    sys.stdout.flush()\n",
      "\n",
      "def center_bins(original):\n",
      "    ''' Returns a list of the bin centers\n",
      "    '''\n",
      "    bin_center =[]\n",
      "    bin_size = original[0] - original[1]\n",
      "    for n in range(len(original)-1):\n",
      "        bin_center.append(original[n] + bin_size/2.)\n",
      "    return bin_center\n",
      "\n",
      "def DOY_Seasonality_dic(dt_list,ts_data):  # No longer needed\n",
      "    ''' Return a dictionary of day-of-year (DOY) averaged value. \n",
      "    Input required are two lists, one of date-time objects, and a second list of \n",
      "    corresponding data values. The returned dictionary has DOY as key value, and\n",
      "    a list of [mean, stdev, count] as item values.\n",
      "    '''\n",
      "    doy_mean ={}\n",
      "    DOY = []\n",
      "    DOY_tmp =[]\n",
      "    DOY_tmp = [dnum.timetuple() for dnum in dt_list]  # extract time tuple from list\n",
      "    DOY = [dx.tm_yday for dx in DOY_tmp]               # get the day of year value \n",
      "    DOY = np.array(DOY,dtype=int)\n",
      "    for n in range(1,max(DOY)+1,1):\n",
      "        lookup = n == DOY\n",
      "        doy_mean[n]=([np.nanmean(ts_data[lookup]),np.nanstd(ts_data[lookup]),\n",
      "                      len(ts_data[lookup])])\n",
      "    return doy_mean\n",
      "\n",
      "def Seasonality(datin, seazon=False, monthly=False):\n",
      "    ''' From a pd df object, with dt as the index, this calculates seasonality.\n",
      "    The anomalies (deseazonalised data) are then returned, also as a pd df.\n",
      "    The returned values are at a Monthly sampling if monthly=True. Else, they\n",
      "    are at daily timescales.\n",
      "    If seazon = True, the seazonal cycle is returned, not the anomalies.\n",
      "    '''\n",
      "    desz = []\n",
      "    seazon_mean = []\n",
      "    #tmpdic = datin                                                  # Copy the input dictionary\n",
      "    tmpdic = pd.DataFrame(data=np.zeros(len(datin.values),dtype=float),index = datin.index)\n",
      "    DOY_index = [dnum.timetuple().tm_yday for dnum in datin.index]  # Extract DOY from datetime tuple\n",
      "    for yday in range(min(DOY_index),max(DOY_index)+1):\n",
      "        mask = [doy == yday for doy in DOY_index]\n",
      "        #if seazon == True:\n",
      "        seazon_mean.append(np.mean(datin[mask]))  # Seasonal mean (not really needed)\n",
      "        tmpdic[mask]= datin[mask] - np.mean(datin[mask])\n",
      "    if seazon == True:\n",
      "        return seazon_mean\n",
      "    if monthly == False:\n",
      "        return tmpdic\n",
      "    elif monthly == True:\n",
      "        return tmpdic.asfreq('M')\n",
      "\n",
      "def get_CORDEXmeta_from_fnm(tmpfnm):\n",
      "    '''From the input path/file of CORDEX output processed in the ECCO project, a dic\n",
      "    of metadata about the specific file are produced.\n",
      "    '''\n",
      "    output={} \n",
      "    tmpfnm = tmpfnm.split('/')[-1]        # strip the file name from the directories\n",
      "    fnm_meta = tmpfnm.split('_')         # break apart the file name into metadata\n",
      "    #print(fnm_meta)\n",
      "    output['variable'] = fnm_meta[1]\n",
      "    output['RCM'] = fnm_meta[3]\n",
      "    output['scenario'] = fnm_meta[4]\n",
      "    output['ensemble'] = fnm_meta[5]\n",
      "    output['GCM'] = fnm_meta[6]\n",
      "    output['dates'] = fnm_meta[9].split('.h5')[0]  # trim off the hdf file ending too\n",
      "    return output\n",
      "\n",
      "def gen_timelist(timestring):\n",
      "    '''This is expecting a string of dates (as is obtained directly from the dictionary when\n",
      "    running the function get_CORDEXmeta_from_fnm(), variable Output['dates']. Once input, it\n",
      "    will return a list of datetime objects at a daily resolution covering the time range.\n",
      "    '''\n",
      "    drange=[]\n",
      "    start_date = timestring.split('-')[0]\n",
      "    end_date = timestring.split('-')[1]\n",
      "    #print(start_date,end_date)\n",
      "    start = dt.datetime.strptime(start_date,'%Y%m%d')\n",
      "    end = dt.datetime.strptime(end_date,'%Y%m%d')\n",
      "    for n in range(((end - start).days)+1):\n",
      "        drange.append((start + dt.timedelta(days=n)).date())\n",
      "    return drange\n",
      "\n",
      "def Gen_df_list(file1,file2,idlist):\n",
      "    ''' Generate a list of dictionaries (pd df objects)\n",
      "    from an input list of lake id values and two input files.\n",
      "    '''\n",
      "    df_list=[]\n",
      "    print('Generating list of lake dictionaries:')\n",
      "    for n,idval in enumerate(idlist):\n",
      "        #df_list.append(read_data(flist=[file1,file2],n=idval))\n",
      "        df_list.append(read_fast(n=idval))\n",
      "        status(n,len(idlist)-1, bar_length=40)\n",
      "    return df_list\n",
      "\n",
      "def read_data(flist,n=None):\n",
      "    '''\n",
      "    Read a list of file names. If there is only one file, assume you only want one.\n",
      "    If there are 2 then combine into a dictionary of 10 years.\n",
      "    This is to generate a nice 10 year pandas dataframe from seperated 5-year inputs.\n",
      "    Returns a pd dataframe, and metadata generated from the file name.\n",
      "    Var meta is also required: it is a pd.df from Metadata/Lake_Stats.csv file\n",
      "    If n is unspecified, it will just give you the first lake back.\n",
      "    \n",
      "    Note, you can read a file with either an integer value (related to the position\n",
      "    in the file), or with a Lake ID directly.\n",
      "    \n",
      "    '''\n",
      "    #if type(n) != str and type(n) != int:\n",
      "    #    print('Error no int or str <hex> specified: n should be one of these.')\n",
      "    #    return None\n",
      "    meta = pd.read_csv('Metadata/Lake_Stats.csv')          # Very nice!\n",
      "    meta.index = meta.Lake_ID\n",
      "    if len(flist) == 1:\n",
      "        print('only one file')\n",
      "        fmeta = get_CORDEXmeta_from_fnm(flist[0])          # Gen. Metadat from filename\n",
      "        tmp_dts = gen_timelist(fmeta['dates'])             # Generate dt list also\n",
      "        f1 = h5py.File(flist[0], \"r\")                      # Set a link to the hdf file\n",
      "        if type(n) == int:\n",
      "            tmp_data = f1[meta.Lake_ID[n]]                 # Grab the data as a np.array\n",
      "            df = pd.DataFrame(tmp_data[:],\n",
      "                              index=tmp_dts,columns=[meta.Lake_ID[n]])  # Construct a data frame\n",
      "            return df\n",
      "        if type(n) != int:  # Going to assume anything not an int should be a hex\n",
      "            n=str(n)\n",
      "            tmp_data = f1[n]                                # Access it directly with the ID\n",
      "            df = pd.DataFrame(tmp_data[:],                  # Construct a data frame\n",
      "                              index=tmp_dts,columns=[n])       \n",
      "            return df\n",
      "    if len(flist) == 2:                                     # If two files are in the list\n",
      "        print('Combining two CORDEX files',end=' ')\n",
      "        fmeta1 = get_CORDEXmeta_from_fnm(flist[0])\n",
      "        fmeta2 = get_CORDEXmeta_from_fnm(flist[1])   \n",
      "        tmp_dts = list(gen_timelist(fmeta1['dates'])) + list(gen_timelist(fmeta2['dates'])) \n",
      "        f1 = h5py.File(flist[0], \"r\")\n",
      "        f2 = h5py.File(flist[1], \"r\")\n",
      "        if type(n) == int:                                 # If accessing via an integer\n",
      "            print('called with integer')\n",
      "            tmp_data = list(f1[meta.Lake_ID[n]]) + list(f2[meta.Lake_ID[n]])  \n",
      "            df = pd.DataFrame(tmp_data[:],\n",
      "                              index=tmp_dts,columns=[meta.Lake_ID[n]])  # Construct a data frame\n",
      "            return df\n",
      "        if type(n) != int: # If accessing via a hex code\n",
      "            n = str(n)\n",
      "            print('called with hex')\n",
      "            tmp_data = list(f1[n]) + list(f2[n])  \n",
      "            df = pd.DataFrame(tmp_data[:],\n",
      "                              index=tmp_dts,columns=[n])  # Construct a data frame\n",
      "            return df\n",
      "    else:\n",
      "        # If no files, or more than 2 files\n",
      "        print(\"Error: I Can't handel that, input one or two files only\")\n",
      "        return False"
     ],
     "language": "python",
     "metadata": {},
     "outputs": [],
     "prompt_number": 37
    },
    {
     "cell_type": "markdown",
     "metadata": {},
     "source": [
      "###Read Lake Metadata and Processed CORDEX data ###\n",
      "Also identify CORDEX data files and create hdf5 file links for reading in functions\n",
      "\n",
      "*Note on obtaining data:*\n",
      "All files can be obtained  from\n",
      "http://ecco.norstore.uio.no"
     ]
    },
    {
     "cell_type": "code",
     "collapsed": false,
     "input": [
      "file1 = '/Users/Ben/Desktop/tmp_data/Lakes_tas_EUR-11_IPSL-IPSL-CM5A-MR_historical_r1i1p1_IPSL-INERIS-WRF331F_v1_day_19710101-19751231.h5'\n",
      "file2 = '/Users/Ben/Desktop/tmp_data/Lakes_tas_EUR-11_IPSL-IPSL-CM5A-MR_historical_r1i1p1_IPSL-INERIS-WRF331F_v1_day_19760101-19801231.h5'\n"
     ],
     "language": "python",
     "metadata": {},
     "outputs": [],
     "prompt_number": 39
    },
    {
     "cell_type": "code",
     "collapsed": false,
     "input": [
      "meta = pd.read_csv('Metadata/Lake_Stats.csv')             # Load Lake Metadata as a pandasd dataframe object \n",
      "meta.index = meta.Lake_ID                                 # Index the metadata by lake ID's\n",
      "\n",
      "single_lakes = np.load('Metadata/single_pixel_lakeid.npy') # Open the lake id metdatada of the single pixel lake id's\n",
      "\n",
      "\n",
      "# Decade of data in question\n",
      "#file1 = '/Users/Ben/Desktop/tmp_data/Lakes_tas_EUR-11_IPSL-IPSL-CM5A-MR_historical_r1i1p1_IPSL-INERIS-WRF331F_v1_day_20010101-20051231.h5'\n",
      "#file2 = '/Users/Ben/Desktop/tmp_data/Lakes_tas_EUR-11_IPSL-IPSL-CM5A-MR_rcp45_r1i1p1_IPSL-INERIS-WRF331F_v1_day_20060101-20101231.h5'\n",
      "f1 = h5py.File(file1, \"r\") \n",
      "f2 = h5py.File(file2, \"r\")\n",
      "fmeta1 = get_CORDEXmeta_from_fnm(file1)\n",
      "fmeta2 = get_CORDEXmeta_from_fnm(file2)\n",
      "dts1 = list(gen_timelist(fmeta1['dates']))\n",
      "dts2 = list(gen_timelist(fmeta2['dates'])) \n",
      "dts_comb = dts1+ dts2\n",
      "\n",
      "# Historical decade (needed to calculate anomalies)\n",
      "hfile1 = '/Users/Ben/Desktop/tmp_data/Lakes_tas_EUR-11_IPSL-IPSL-CM5A-MR_historical_r1i1p1_IPSL-INERIS-WRF331F_v1_day_19710101-19751231.h5'\n",
      "hfile2 ='/Users/Ben/Desktop/tmp_data/Lakes_tas_EUR-11_IPSL-IPSL-CM5A-MR_historical_r1i1p1_IPSL-INERIS-WRF331F_v1_day_19760101-19801231.h5'\n",
      "hf1 = h5py.File(hfile1, \"r\") \n",
      "hf2 = h5py.File(hfile2, \"r\")\n",
      "hfmeta1 = get_CORDEXmeta_from_fnm(hfile1)\n",
      "hfmeta2 = get_CORDEXmeta_from_fnm(hfile2)  \n",
      "histdts1 = list(gen_timelist(hfmeta1['dates']))\n",
      "histdts2 = list(gen_timelist(hfmeta2['dates']))\n",
      "histdts_comb = histdts1+ histdts2"
     ],
     "language": "python",
     "metadata": {},
     "outputs": [],
     "prompt_number": 3
    },
    {
     "cell_type": "code",
     "collapsed": false,
     "input": [
      "def read_fast(n=None,tmp_dts=dts_comb,f1=f1,f2=f2):\n",
      "    '''\n",
      "    Return a dataframe of 10-years of data for a given lake ID.\n",
      "    Requires the file links, dt index, etc to be pre-produced.\n",
      "    this is an optimized version of read_data()\n",
      "    '''\n",
      "    n = str(n)\n",
      "    tmp_data = list(f1[n]) + list(f2[n])  \n",
      "    df = pd.DataFrame(tmp_data[:],index=tmp_dts,columns=[n])\n",
      "    return df\n",
      "\n",
      "def read_historical(n=None,tmp_dts=histdts_comb,hf1=hf1,hf2=hf2):\n",
      "    '''\n",
      "    Return a dataframe of 10-years of data for a given lake ID.\n",
      "    Requires the file links, dt index, etc to be pre-produced.\n",
      "    this is an optimized version of read_data()\n",
      "    This is specifically to obtain Historical data (which should\n",
      "    be fixed to the decade of 1970-1980). Need to read both data\n",
      "    in question (with read_fast) and historical data (with this \n",
      "    function) as calculation of delta should be relative to a \n",
      "    historical period.\n",
      "    '''\n",
      "    n = str(n)\n",
      "    tmp_data = list(hf1[n]) + list(hf2[n])  \n",
      "    df = pd.DataFrame(tmp_data[:],index=tmp_dts,columns=[n])\n",
      "    return df\n",
      "\n",
      "def Seasonality_Historical(datin, seazon=False, monthly=False,historical=True):\n",
      "    ''' From a pd df object, with dt as the index, this calculates seasonality.\n",
      "    The anomalies (deseazonalised data) are then returned, also as a pd df.\n",
      "    The returned values are at a Monthly sampling if monthly=True. Else, they\n",
      "    are at daily timescales.\n",
      "    If seazon = True, the seazonal cycle is returned, not the anomalies.\n",
      "    Does this for individual pd dictionaryies (ie. one lake at a time).\n",
      "    '''\n",
      "    desz = []\n",
      "    seazon_mean = []\n",
      "    tmpdic = pd.DataFrame(data=np.zeros(len(datin.values),dtype=float),index = datin.index)\n",
      "    if historical == True:\n",
      "        for key in datin:\n",
      "            #print(key)\n",
      "            hist_data = read_historical(n=key)\n",
      "        DOY_index_hist = [dnum.timetuple().tm_yday for dnum in hist_data.index]  # Extract DOY from historical time tuple\n",
      "        DOY_index = [dnum.timetuple().tm_yday for dnum in datin.index] \n",
      "    if historical == False:\n",
      "        DOY_index = [dnum.timetuple().tm_yday for dnum in datin.index] # list of DOY index for current data\n",
      "\n",
      "    for yday in range(min(DOY_index),max(DOY_index)+1): # for range DOY [1 - 366]\n",
      "        if historical == False:\n",
      "            mask = [doy == yday for doy in DOY_index]\n",
      "            seazon_mean.append(np.mean(datin[mask]))  # Seasonal mean (not really needed)\n",
      "            tmpdic[mask]= datin[mask] - np.mean(datin[mask])\n",
      "        if historical == True:\n",
      "            mask = [doy == yday for doy in DOY_index]\n",
      "            mask_hist = [doy == yday for doy in DOY_index_hist]\n",
      "            seazon_mean.append(np.mean(hist_data[mask_hist]))  # Seasonal mean (not really needed)\n",
      "            tmpdic[mask]= datin[mask] - np.mean(hist_data[mask_hist])\n",
      "    if seazon == True:\n",
      "        return seazon_mean\n",
      "    if monthly == False:\n",
      "        return tmpdic\n",
      "    elif monthly == True:\n",
      "        return tmpdic.asfreq('M')\n",
      "\n",
      "    \n",
      "def Gen2DInput(lake_dics,kind='absoloute'):\n",
      "    ''' Takes a list of lake dictionaries as inputs. Also a keyword specifying the type\n",
      "    of data to return (kind = 'absoloute' or 'anomaly' or 'anomaly_monthly').\n",
      "    The diffrent kinds reffer to the abosoloute values of the CORDEX data, a de-seasonalised\n",
      "    anomaly, or a deasezonalised anomaly downsampled to monthly resolution.\n",
      "    Returned values are a list of the y-values, an integer list used to subscript the y-values\n",
      "    and a real list of the datatime objects for the x-values.\n",
      "    The primary purpouse of this function is to prepare the input for np.histogram2d()\n",
      "    '''\n",
      "    yvals=[]\n",
      "    histxvals=[]  # monotonic integer values for axis as input to 2dhistogram function\n",
      "    xvals=[]\n",
      "    if kind == 'absoloute':   # If you want the absoloute values of the data\n",
      "        for n,key in enumerate(lake_dics):\n",
      "            status(n,len(lake_dics)-1, bar_length=40)\n",
      "            yvals += list(key.values.flatten())\n",
      "            histxvals += range(len(key))\n",
      "            xvals += key.index      \n",
      "        return yvals,histxvals,xvals\n",
      "    if kind == 'anomaly_current':\n",
      "        for n,key in enumerate(lake_dics):\n",
      "            status(n,len(lake_dics)-1, bar_length=30)\n",
      "            yvals += list(Seasonality(key,monthly=False).values.flatten())\n",
      "            histxvals +=range(len(key.values)) \n",
      "            xvals +=key.index\n",
      "        return yvals,histxvals,xvals\n",
      "    if kind == 'anomaly_monthly':\n",
      "        for n,key in enumerate(lake_dics):\n",
      "            status(n,len(lake_dics)-1, bar_length=30)\n",
      "            tmp = Seasonality(key,monthly=True)\n",
      "            yvals += list(tmp.values.flatten())\n",
      "            histxvals += range(len(tmp))\n",
      "            xvals += tmp.index\n",
      "        return yvals,histxvals,xvals\n",
      "    if kind == 'historical_anomaly':  # Historical anomaly. Requires some magic...\n",
      "        for n,key in enumerate(lake_dics):\n",
      "            status(n,len(lake_dics)-1, bar_length=30)\n",
      "            # Add a historical keyword to Seasonality function...\n",
      "            tmp = Seasonality_Historical(key,monthly=False,historical=True)\n",
      "            yvals += list(tmp.values.flatten())\n",
      "            histxvals += range(len(tmp))\n",
      "            xvals += tmp.index\n",
      "        return yvals,histxvals,xvals\n",
      "\n",
      "def fromID_Gen2DInput(lakeids,kind='abs'):\n",
      "    ''' Takes a list of lake ID codes (meant for single_lakes). \n",
      "    Also a keyword specifying the type of data to return (kind = 'absoloute' or \n",
      "    'current_anomaly' or 'historical_anomaly').\n",
      "    The diffrent kinds reffer to the abosoloute values of the CORDEX data, a de-seasonalised\n",
      "    anomaly, or a deasezonalised anomaly downsampled to monthly resolution.\n",
      "    Returned values are a list of the y-values, an integer list used to subscript the y-values\n",
      "    and a real list of the datatime objects for the x-values.\n",
      "    The primary purpouse of this function is to prepare the input for np.histogram2d()\n",
      "    '''\n",
      "    yvals=[]\n",
      "    histxvals=[]           # monotonic integer values for axis as input to 2dhistogram function\n",
      "    xvals=[]\n",
      "    for n,lakeid in enumerate(lakeids):\n",
      "        status(n,len(lakeids)-1, bar_length=40)\n",
      "        tmp_lake = read_fast(lakeid)\n",
      "        if kind == 'abs':                   # If you want the absoloute values of the data\n",
      "            yvals += list(tmp_lake.values.flatten())\n",
      "            histxvals += range(len(tmp_lake))\n",
      "            xvals += tmp_lake.index      \n",
      "        elif kind == 'anom':\n",
      "            yvals += list(Seasonality(tmp_lake,monthly=False).values.flatten())\n",
      "            histxvals +=range(len(tmp_lake.values)) \n",
      "            xvals +=tmp_lake.index\n",
      "        elif kind == 'hist_anom':  # Historical anomaly. Requires some magic...\n",
      "            tmp = Seasonality_Historical(tmp_lake,monthly=False,historical=True)\n",
      "            yvals += list(tmp.values.flatten())\n",
      "            histxvals += range(len(tmp))\n",
      "            xvals += tmp.index\n",
      "        else:\n",
      "            print('\\n Error: {0} kind not reccognised.'.format(kind))\n",
      "            print('Enter one of: abs(absoloute), anom(current_anomaly),or hist_anom (historical_anomaly)')\n",
      "            return None,None,None\n",
      "    return yvals,histxvals,xvals\n",
      "\n",
      "\n",
      "def plot_density(yvals,histxvals,lake_eg,DynamicScale=False):\n",
      "    ''' Create a normalized time-series density plot. The data is binned to \n",
      "    monthly time-steps.\n",
      "    yvals = list of y-values, histxvals = list of integers for x-axis (not dt values)\n",
      "    DynamicScale controls whether or not to set the color range to the data or the boiler\n",
      "    plate code.\n",
      "    lake_eg = a complete lake dataframe from which to extract a time index for plot labels.\n",
      "    '''\n",
      "    #ybinrange = arange(-25,25,1.0)  # Set bin range between -25 to 25 degrees (50 bins)\n",
      "    #xbinrange = arange(0,120,1)     # set time-bins to 12 months x 10 years (120 bins)\n",
      "    #histout = np.histogram2d(yvals,histxvals,bins=[50,max(histxvals)+1]) # Daily\n",
      "    histout = np.histogram2d(yvals,histxvals,bins=[50,120]) # Monthly (10 years x 12 months)\n",
      "    #histout = np.histogram2d(yvals,histxvals,bins=[ybinrange,xbinrange])\n",
      "    \n",
      "    maxval = (sum(histout[0][:,0]))  # Sum of values within a given time bin (for normalization)\n",
      "    \n",
      "    #xextract = lake_dics[0]\n",
      "    #xextract.asfreq('M').index       # Date indexes are converted to the histogram steps here\n",
      "    \n",
      "    X = histout[2][1:]#lake_dics[0].index       # Index labels for histogram\n",
      "    X = lake_eg.asfreq('M').index                                 # datetime dates from an index\n",
      "    Y = center_bins(histout[1])                 # Center of the y-bin values\n",
      "    Z = histout[0]/maxval                       # Normed lake number * time-step (poss. density per bin)\n",
      "    if DynamicScale == True:\n",
      "        V = arange(0.01,amax(Z),amax(Z)/15.)\n",
      "    else:\n",
      "        V = arange(0.01,0.30,0.03)                  # Contour steps for normalized data\n",
      "        \n",
      "    figure(figsize=(12, 6), dpi=300)\n",
      "    ContP= plt.contourf(X,Y,Z,V, cmap=cm.RdYlBu_r,alpha=0.9)\n",
      "    plt.hlines(0.0,min(X),max(X),linestyles='dashed',lw=0.5)\n",
      "    plt.title('Fennonscandia 10-yr Deseasonalized time-series density')\n",
      "    plt.xlabel('Year')\n",
      "    plt.ylabel(r'$\\delta$ Temp. $^{o}$C')\n",
      "    plt.ylim(-30,30)\n",
      "    cbar = plt.colorbar()\n",
      "    cbar.ax.set_ylabel('Density')\n",
      "    #show(ContP)\n",
      "    savefig('test.pdf')\n",
      "    return histout"
     ],
     "language": "python",
     "metadata": {},
     "outputs": [],
     "prompt_number": 4
    },
    {
     "cell_type": "markdown",
     "metadata": {},
     "source": [
      "##Create list of lake df objects##\n",
      "\n",
      "Examine unique CORDEX pixels via selected lakes\n",
      "\n",
      "nb. Requires approx 1hr to obtain list of 8k dictionaries for single_lakes"
     ]
    },
    {
     "cell_type": "code",
     "collapsed": false,
     "input": [
      "#%time lake_dics = Gen_df_list(file1,file2,single_lakes[0:])"
     ],
     "language": "python",
     "metadata": {},
     "outputs": [],
     "prompt_number": 6
    },
    {
     "cell_type": "code",
     "collapsed": false,
     "input": [
      "# Example of showing seasonality\n",
      "#test = Seasonality(lake_dics[1],seazon=True)\n",
      "#print(type(test))\n",
      "#plt.plot(test)\n",
      "#plt.plot(lake_dics[1][0:365],'ro',alpha=0.1)"
     ],
     "language": "python",
     "metadata": {},
     "outputs": [],
     "prompt_number": 2
    },
    {
     "cell_type": "code",
     "collapsed": false,
     "input": [
      "#for key in lake_dics[0]:\n",
      "#    test = read_historical(n=key)\n",
      "#    stest = Seasonality_Historical(lake_dics[0],historical=True,seazon=False)\n",
      "#plt.plot(stest.index,stest)"
     ],
     "language": "python",
     "metadata": {},
     "outputs": [],
     "prompt_number": 4
    },
    {
     "cell_type": "code",
     "collapsed": false,
     "input": [
      "#for key in lake_dics[0]:\n",
      "#    test = read_historical(n=key)\n",
      "#    stest = Seasonality_Historical(lake_dics[0],historical=False,seazon=False)\n",
      "#plt.plot(stest.index,stest)"
     ],
     "language": "python",
     "metadata": {},
     "outputs": [],
     "prompt_number": 5
    },
    {
     "cell_type": "code",
     "collapsed": false,
     "input": [
      "#yvals,histxvals,xvals = Gen2DInput(kind='historical_anomaly')\n",
      "#plt.plot(xvals,yvals,'b.',alpha=0.5)"
     ],
     "language": "python",
     "metadata": {},
     "outputs": [],
     "prompt_number": 3
    },
    {
     "cell_type": "code",
     "collapsed": false,
     "input": [
      "'''\n",
      "# From an input list of lake dictionaries, output 1 list of indexes, one list of y values\n",
      "yvals=[]\n",
      "histxvals=[]  # monotonic integer values for axis as input to 2dhistogram function\n",
      "xvals=[]\n",
      "#lakes = [lake1,lake2,lake3]\n",
      "for key in lake_dics:\n",
      "    # If you want the absoloute values use below\n",
      "    #yvals +=list(key.values.flatten()) # get vals of df, rmv extra dim, and conv to list\n",
      "    # If you want the de-seazonalised anomalies use below\n",
      "    tmp = Seasonality(key,monthly=True)\n",
      "    yvals += list(tmp.values.flatten())\n",
      "    histxvals += range(len(tmp))\n",
      "    xvals += tmp.index                # Add x-subs as datetime values\n",
      "    #yvals += list(Seasonality(key,monthly=True).values.flatten())\n",
      "    #histxvals +=range(len(key.values))   # Add x-subscripts as integers\n",
      "    #xvals +=key.index                # Add x-subs as datetime values\n",
      "'''"
     ],
     "language": "python",
     "metadata": {},
     "outputs": []
    },
    {
     "cell_type": "code",
     "collapsed": false,
     "input": [
      "'''\n",
      "#test = np.histogram2d(yvals,histxvals,bins=[50,max(histxvals)+1])\n",
      "test = np.histogram2d(yvals,histxvals,bins=[50,120])\n",
      "\n",
      "X = test[2][1:]# lake_dics[0].index                   # datetime dates from index's\n",
      "Y = center_bins(test[1])                 # Center of the y-bin values\n",
      "Z = test[0]/float(50 * 12.)             # 2d histogram output, normalized by sum\n",
      "#V = arange(1,30,3)\n",
      "V = arange(0.1,.7,0.05)\n",
      "\n",
      "\n",
      "figure(figsize=(10, 6), dpi=72)\n",
      "ContP= plt.contourf(X,Y,Z,V, cmap=cm.RdBu,alpha=0.9)\n",
      "\n",
      "plt.title('Fennonscandia monthly deseasonalized time-series density')\n",
      "plt.xlabel('Year')\n",
      "plt.ylabel(r'$\\delta$ Temp. $^{o}$C')\n",
      "\n",
      "cbar = plt.colorbar()\n",
      "cbar.ax.set_ylabel('Density per month')\n",
      "\n",
      "show(ContP)\n",
      "'''"
     ],
     "language": "python",
     "metadata": {},
     "outputs": []
    },
    {
     "cell_type": "heading",
     "level": 2,
     "metadata": {},
     "source": [
      "Create 2D binned data"
     ]
    },
    {
     "cell_type": "markdown",
     "metadata": {},
     "source": [
      "For generating the input to the plot_density function I can either use Gen2DInput (which requires lake dictionaries to be fed to it), or fromID_Gen2DInput (which requires only the lake ID's - less memory use)."
     ]
    },
    {
     "cell_type": "code",
     "collapsed": false,
     "input": [
      "%time lake_dics = Gen_df_list(file1,file2,single_lakes[0:2])  # Create list of df objects (1hr for 8k)"
     ],
     "language": "python",
     "metadata": {},
     "outputs": [
      {
       "output_type": "stream",
       "stream": "stdout",
       "text": [
        "Generating list of lake dictionaries:\n",
        "\r",
        "Percent: [                                        ] 0% "
       ]
      },
      {
       "output_type": "stream",
       "stream": "stdout",
       "text": [
        "\r",
        "Percent: [########################################] 100% "
       ]
      },
      {
       "output_type": "stream",
       "stream": "stdout",
       "text": [
        "CPU times: user 794 ms, sys: 83.4 ms, total: 877 ms\n",
        "Wall time: 849 ms\n"
       ]
      }
     ],
     "prompt_number": 26
    },
    {
     "cell_type": "code",
     "collapsed": false,
     "input": [
      "#%time yvals,histxvals,xvals = Gen2DInput(lake_dics=lake_dics,kind='historical_anomaly') # Anomaly against historical data\n",
      "#\n",
      "%time yvals,histxvals,xvals = fromID_Gen2DInput(single_lakes[0:10],kind='anom')"
     ],
     "language": "python",
     "metadata": {},
     "outputs": [
      {
       "output_type": "stream",
       "stream": "stdout",
       "text": [
        "\r",
        "Percent: [                                        ] 0% "
       ]
      },
      {
       "output_type": "stream",
       "stream": "stdout",
       "text": [
        "\r",
        "Percent: [####                                    ] 11% "
       ]
      },
      {
       "output_type": "stream",
       "stream": "stdout",
       "text": [
        "\r",
        "Percent: [#########                               ] 22% "
       ]
      },
      {
       "output_type": "stream",
       "stream": "stdout",
       "text": [
        "\r",
        "Percent: [#############                           ] 33% "
       ]
      },
      {
       "output_type": "stream",
       "stream": "stdout",
       "text": [
        "\r",
        "Percent: [##################                      ] 44% "
       ]
      },
      {
       "output_type": "stream",
       "stream": "stdout",
       "text": [
        "\r",
        "Percent: [######################                  ] 56% "
       ]
      },
      {
       "output_type": "stream",
       "stream": "stdout",
       "text": [
        "\r",
        "Percent: [###########################             ] 67% "
       ]
      },
      {
       "output_type": "stream",
       "stream": "stdout",
       "text": [
        "\r",
        "Percent: [###############################         ] 78% "
       ]
      },
      {
       "output_type": "stream",
       "stream": "stdout",
       "text": [
        "\r",
        "Percent: [####################################    ] 89% "
       ]
      },
      {
       "output_type": "stream",
       "stream": "stdout",
       "text": [
        "\r",
        "Percent: [########################################] 100% "
       ]
      },
      {
       "output_type": "stream",
       "stream": "stdout",
       "text": [
        "CPU times: user 15.4 s, sys: 523 ms, total: 15.9 s\n",
        "Wall time: 16 s\n"
       ]
      }
     ],
     "prompt_number": 22
    },
    {
     "cell_type": "code",
     "collapsed": false,
     "input": [
      "zout = plot_density(yvals=yvals,histxvals=histxvals,lake_eg=lake_dics[0],DynamicScale=False) # Density plot and 2D hist 4 later\n",
      "\n",
      "#np.save('Z_1970_1980_IPSL_tas',zout)"
     ],
     "language": "python",
     "metadata": {},
     "outputs": [
      {
       "metadata": {},
       "output_type": "display_data",
       "png": "[encoded data removed]",
       "text": [
        "<matplotlib.figure.Figure at 0x10ba68610>"
       ]
      }
     ],
     "prompt_number": 31
    },
    {
     "cell_type": "code",
     "collapsed": false,
     "input": [
      "#np.save('Z_test',zout)\n",
      "#zpast = np.load('Z_test.npy')"
     ],
     "language": "python",
     "metadata": {},
     "outputs": [],
     "prompt_number": 33
    },
    {
     "cell_type": "code",
     "collapsed": false,
     "input": [
      "#plt.imshow(zpast[0])"
     ],
     "language": "python",
     "metadata": {},
     "outputs": [
      {
       "metadata": {},
       "output_type": "pyout",
       "prompt_number": 35,
       "text": [
        "<matplotlib.image.AxesImage at 0x10bfa7c90>"
       ]
      },
      {
       "metadata": {},
       "output_type": "display_data",
       "png": "[encoded data removed]",
       "text": [
        "<matplotlib.figure.Figure at 0x10c0ab150>"
       ]
      }
     ],
     "prompt_number": 35
    },
    {
     "cell_type": "code",
     "collapsed": false,
     "input": [],
     "language": "python",
     "metadata": {},
     "outputs": []
    }
   ],
   "metadata": {}
  }
 ]
}