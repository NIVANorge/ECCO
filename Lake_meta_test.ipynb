{
 "cells": [
  {
   "cell_type": "code",
   "execution_count": 2,
   "metadata": {
    "collapsed": true
   },
   "outputs": [],
   "source": [
    "# Now I need to recalculate lake metadata (weights ect) in the same manner as the catchments\n",
    "\n",
    "import ECCO_functions_v2 as ECCO\n"
   ]
  },
  {
   "cell_type": "code",
   "execution_count": 5,
   "metadata": {
    "collapsed": true
   },
   "outputs": [],
   "source": [
    "import pandas as pd\n",
    "import osgeo.ogr\n",
    "import sys, time, os, json, glob\n",
    "import numpy as np\n",
    "import pyproj\n",
    "import h5py\n",
    "import csv  # <<-- dont forget to add this ti function file\n",
    "import random\n",
    "\n",
    "import matplotlib.pyplot as plt\n",
    "%matplotlib inline"
   ]
  },
  {
   "cell_type": "code",
   "execution_count": 17,
   "metadata": {
    "collapsed": true
   },
   "outputs": [],
   "source": [
    "def MT_Gen_SWeights(nc_path):\n",
    "    '''\n",
    "    Purpose:          \n",
    "    This program Generates metadata files used to speed up the final runs.\n",
    "    This was forthe lakes (not catchments), and created a metadata text\n",
    "    file, to be used as a mini-database in pandas.\n",
    "    '''\n",
    "\n",
    "        \n",
    "    clim_dat,rlat,rlon,time,metadata,txtfname = ECCO.Read_CORDEX_V2(nc_path)\n",
    "    vname, m1, m2, dexp, m3, m4, m5, m6, drange_orignial = metadata \n",
    " \n",
    "    lake_file = 'Lakes/ecco-biwa_lakes_v.0.2.shp'\n",
    "\n",
    "        \n",
    "    #num = lake_num\n",
    "    #orog = ECCO.Height_CORDEX()\n",
    "    ShapeData = osgeo.ogr.Open(lake_file)\n",
    "    TheLayer = ShapeData.GetLayer(iLayer=0)\n",
    "    dolakes=range(TheLayer.GetFeatureCount())\n",
    "    \n",
    "    for num in dolakes[0:10]:\n",
    "        feature1 = TheLayer.GetFeature(num) \n",
    "        lake_feature = feature1.ExportToJson(as_object=True)\n",
    "        lake_cart = ECCO.Path_LkIsl_ShpFile(lake_feature['geometry']['coordinates']) \n",
    "        EB_id = lake_feature['properties']['EBhex'][2:]\n",
    "        lake_altitude=lake_feature['properties']['vfp_mean']\n",
    "\n",
    "        lake_rprj = ECCO.Path_Reproj(lake_cart,False)\n",
    "\n",
    "        sub_clim,sub_rlat,sub_rlon = ECCO.TrimToLake(lake_rprj,clim_dat[0,:,:],rlat,\n",
    "                                                        rlon,off = 3, show = False) \n",
    "        weight_mask = ECCO.Pixel_Weights(lake_rprj,sub_clim,sub_rlat,sub_rlon)\n",
    "        print EB_id,' Weight mask sum:',np.sum(weight_mask) \n",
    "\n",
    "        pix_truth = (weight_mask > 0.0)    # Count how many times the weight mask is\n",
    "        pxnum = len(weight_mask[pix_truth])  #  above 0.0 (i.e. how many pixels of data are needed)\n",
    "    \n",
    "        etime = 1.0  # Nothing, can be removed (in the meta too, but be careful to change the later programs)\n",
    "\n",
    "        ypix = -99\n",
    "        xpix = -99\n",
    "        if pxnum == 1:\n",
    "            xxx,yyy = ECCO.Get_LatLonLim(lake_rprj.vertices)  # Find upp./low.lake lims.\n",
    "            ypix = (ECCO.Closest(rlat,yyy[0]))                # For lakes of one pixel  \n",
    "            xpix = (ECCO.Closest(rlon,xxx[0]))\n",
    "        if pxnum < 1:\n",
    "            pxnum = 1  # Small bug where it thinks lakes dont exist, no biggy...\n",
    "        #print num,EB_id[2:], ECCO.Area_Lake_and_Islands(lake_cart),pxnum,etime,ypix,xpix\n",
    "        \n",
    "    print 'End of function'\n",
    "    return "
   ]
  },
  {
   "cell_type": "code",
   "execution_count": 18,
   "metadata": {
    "collapsed": false
   },
   "outputs": [
    {
     "name": "stdout",
     "output_type": "stream",
     "text": [
      "a2204  Weight mask sum: 1.0\n",
      "ccc59c  Weight mask sum: 1.0028562991\n",
      "155980  Weight mask sum: 1.00164368292\n",
      "dade22  Weight mask sum: 1.00607557045\n",
      "1fc67b  Weight mask sum: 1.00410122328\n",
      "663df0  Weight mask sum: 1.0\n",
      "f5d07a  Weight mask sum: 1.0\n",
      "232ec2  Weight mask sum: 0.983756205801\n",
      "2eca07  Weight mask sum: 1.00197017198\n",
      "d23e4a  Weight mask sum: 1.0\n",
      "End of function\n"
     ]
    }
   ],
   "source": [
    "ncfile= '/uio/kant/geo-metos-u1/blaken/datadisk/ECCO/CORDEX/Data_CORDEX/tas_EUR-11_ICHEC-EC-EARTH_historical_r1i1p1_KNMI-RACMO22E_v1_day_19660101-19701231.nc'\n",
    "\n",
    "MT_Gen_SWeights(nc_path=ncfile)"
   ]
  },
  {
   "cell_type": "code",
   "execution_count": null,
   "metadata": {
    "collapsed": true
   },
   "outputs": [],
   "source": []
  }
 ],
 "metadata": {
  "kernelspec": {
   "display_name": "Python 2",
   "language": "python",
   "name": "python2"
  },
  "language_info": {
   "codemirror_mode": {
    "name": "ipython",
    "version": 2
   },
   "file_extension": ".py",
   "mimetype": "text/x-python",
   "name": "python",
   "nbconvert_exporter": "python",
   "pygments_lexer": "ipython2",
   "version": "2.7.9"
  }
 },
 "nbformat": 4,
 "nbformat_minor": 0
}
